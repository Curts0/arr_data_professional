{
 "cells": [
  {
   "cell_type": "code",
   "execution_count": 1,
   "metadata": {},
   "outputs": [],
   "source": [
    "from random import choices, choice, shuffle\n",
    "from typing import List\n",
    "from datetime import date\n",
    "\n",
    "from arr import Contract, ContractHeader, ContractLine\n",
    "\n",
    "import pandas as pd\n",
    "import numpy as np\n",
    "from dateutil.relativedelta import relativedelta as rd"
   ]
  },
  {
   "cell_type": "code",
   "execution_count": 2,
   "metadata": {},
   "outputs": [],
   "source": [
    "MIN_DATE = date(2020, 1, 1)\n",
    "MAX_DATE = date(2026, 12, 31)\n",
    "START_DATES = pd.date_range(MIN_DATE, MAX_DATE)\n",
    "RENEWAL_CHANCE = .8\n",
    "EXPANSION_CHANCE = .1\n",
    "DOWNGRADE_CHANCE = .1\n",
    "\n",
    "CUSTOMERS = pd.read_excel('data/saas_corp.xlsx','customer')\n",
    "CUSTOMERS.set_index('key', inplace=True)\n",
    "\n",
    "PRODUCTS = pd.read_excel('data/saas_corp.xlsx','product')\n",
    "PRODUCTS.set_index('key', inplace=True)\n",
    "PRODUCT_WEIGHTS = np.arange(0,1,1/len(PRODUCTS))[::-1]\n",
    "PRODUCT_COUNT = len(PRODUCTS['product_name'].unique())\n",
    "\n",
    "CONTRACTS = pd.read_excel('data/saas_corp.xlsx', 'contract')"
   ]
  },
  {
   "cell_type": "code",
   "execution_count": 3,
   "metadata": {},
   "outputs": [],
   "source": [
    "def random_contract_range(\n",
    "    contract_lengths: List[int] = [3, 6, 12, 24, 36],\n",
    "    contract_weights: List[float] = [0.1, 0.05, 0.6, 0.2, 0.05],\n",
    ") -> int:\n",
    "    \"\"\"Get a random contract length interval.\n",
    "\n",
    "    Wrapper for:\n",
    "    https://docs.python.org/3/library/random.html#random.choices\n",
    "\n",
    "    Args:\n",
    "        contract_lengths (List[int], optional): Possible contract lengths, in months.\n",
    "            Defaults to [3, 6, 12, 24, 36].\n",
    "        contract_weights (List[float], optional): Weights of the `contract_lengths`, arg.\n",
    "            Defaults to [0.1, 0.05, 0.6, 0.2, 0.05].\n",
    "\n",
    "    Returns:\n",
    "        int: Length of contract in months.\n",
    "    \"\"\"\n",
    "    return choices(contract_lengths, contract_weights)[0]"
   ]
  },
  {
   "cell_type": "code",
   "execution_count": 4,
   "metadata": {},
   "outputs": [],
   "source": [
    "def initial_sale(customer: str):\n",
    "    \"\"\"Get customer start, end dates. Get customer items for first sale\"\"\"\n",
    "    if customer in CONTRACTS[\"customer\"].unique():\n",
    "        print(f\"{customer} already in contract list\")\n",
    "        return None\n",
    "\n",
    "    start_date = choice(START_DATES)\n",
    "    contract_range = random_contract_range()\n",
    "    end_date = start_date + rd(months=contract_range)\n",
    "\n",
    "    num_of_items = choices(range(1, PRODUCT_COUNT + 1), PRODUCT_WEIGHTS)[0]\n",
    "    products = choices(PRODUCTS[\"product_name\"].unique(), k=num_of_items)\n",
    "    return customer, start_date, end_date, contract_range, num_of_items, products"
   ]
  },
  {
   "cell_type": "code",
   "execution_count": 5,
   "metadata": {},
   "outputs": [
    {
     "name": "stdout",
     "output_type": "stream",
     "text": [
      "Abatz already in contract list\n"
     ]
    }
   ],
   "source": [
    "for customer in CUSTOMERS['customer'].unique():\n",
    "    initial_sale(customer)"
   ]
  },
  {
   "cell_type": "code",
   "execution_count": 6,
   "metadata": {},
   "outputs": [],
   "source": [
    "a = Contract(\n",
    "        1,\n",
    "        ContractHeader(20_000, date(2024, 1, 1), date(2024, 12, 31)),\n",
    "        [\n",
    "            ContractLine(4_000, date(2024, 1, 1), date(2024, 12, 31), 1, True),\n",
    "            ContractLine(4_000, date(2024, 1, 1), date(2024, 12, 31), 2, True),\n",
    "            ContractLine(4_000, date(2024, 1, 1), date(2024, 12, 31), 3, True),\n",
    "            ContractLine(4_000, date(2024, 1, 1), date(2024, 12, 31), 4, True),\n",
    "            ContractLine(4_000, date(2024, 1, 1), date(2024, 12, 31), 5, False),\n",
    "        ],\n",
    "        'Abatz'\n",
    ")"
   ]
  },
  {
   "cell_type": "code",
   "execution_count": 7,
   "metadata": {},
   "outputs": [
    {
     "data": {
      "text/html": [
       "<div>\n",
       "<style scoped>\n",
       "    .dataframe tbody tr th:only-of-type {\n",
       "        vertical-align: middle;\n",
       "    }\n",
       "\n",
       "    .dataframe tbody tr th {\n",
       "        vertical-align: top;\n",
       "    }\n",
       "\n",
       "    .dataframe thead th {\n",
       "        text-align: right;\n",
       "    }\n",
       "</style>\n",
       "<table border=\"1\" class=\"dataframe\">\n",
       "  <thead>\n",
       "    <tr style=\"text-align: right;\">\n",
       "      <th></th>\n",
       "      <th>id</th>\n",
       "      <th>customer</th>\n",
       "      <th>header.amount</th>\n",
       "      <th>header.start_date</th>\n",
       "      <th>header.end_date</th>\n",
       "      <th>header.booking_date</th>\n",
       "      <th>line.amount</th>\n",
       "      <th>line.start_date</th>\n",
       "      <th>line.end_date</th>\n",
       "      <th>line.item_sku</th>\n",
       "      <th>line.renewable</th>\n",
       "    </tr>\n",
       "  </thead>\n",
       "  <tbody>\n",
       "    <tr>\n",
       "      <th>0</th>\n",
       "      <td>1</td>\n",
       "      <td>Abatz</td>\n",
       "      <td>20000</td>\n",
       "      <td>2024-01-01</td>\n",
       "      <td>2024-12-31</td>\n",
       "      <td>2024-01-01</td>\n",
       "      <td>4000</td>\n",
       "      <td>2024-01-01</td>\n",
       "      <td>2024-12-31</td>\n",
       "      <td>1</td>\n",
       "      <td>True</td>\n",
       "    </tr>\n",
       "    <tr>\n",
       "      <th>1</th>\n",
       "      <td>1</td>\n",
       "      <td>Abatz</td>\n",
       "      <td>20000</td>\n",
       "      <td>2024-01-01</td>\n",
       "      <td>2024-12-31</td>\n",
       "      <td>2024-01-01</td>\n",
       "      <td>4000</td>\n",
       "      <td>2024-01-01</td>\n",
       "      <td>2024-12-31</td>\n",
       "      <td>2</td>\n",
       "      <td>True</td>\n",
       "    </tr>\n",
       "    <tr>\n",
       "      <th>2</th>\n",
       "      <td>1</td>\n",
       "      <td>Abatz</td>\n",
       "      <td>20000</td>\n",
       "      <td>2024-01-01</td>\n",
       "      <td>2024-12-31</td>\n",
       "      <td>2024-01-01</td>\n",
       "      <td>4000</td>\n",
       "      <td>2024-01-01</td>\n",
       "      <td>2024-12-31</td>\n",
       "      <td>3</td>\n",
       "      <td>True</td>\n",
       "    </tr>\n",
       "    <tr>\n",
       "      <th>3</th>\n",
       "      <td>1</td>\n",
       "      <td>Abatz</td>\n",
       "      <td>20000</td>\n",
       "      <td>2024-01-01</td>\n",
       "      <td>2024-12-31</td>\n",
       "      <td>2024-01-01</td>\n",
       "      <td>4000</td>\n",
       "      <td>2024-01-01</td>\n",
       "      <td>2024-12-31</td>\n",
       "      <td>4</td>\n",
       "      <td>True</td>\n",
       "    </tr>\n",
       "    <tr>\n",
       "      <th>4</th>\n",
       "      <td>1</td>\n",
       "      <td>Abatz</td>\n",
       "      <td>20000</td>\n",
       "      <td>2024-01-01</td>\n",
       "      <td>2024-12-31</td>\n",
       "      <td>2024-01-01</td>\n",
       "      <td>4000</td>\n",
       "      <td>2024-01-01</td>\n",
       "      <td>2024-12-31</td>\n",
       "      <td>5</td>\n",
       "      <td>False</td>\n",
       "    </tr>\n",
       "  </tbody>\n",
       "</table>\n",
       "</div>"
      ],
      "text/plain": [
       "   id customer  header.amount header.start_date header.end_date  \\\n",
       "0   1    Abatz          20000        2024-01-01      2024-12-31   \n",
       "1   1    Abatz          20000        2024-01-01      2024-12-31   \n",
       "2   1    Abatz          20000        2024-01-01      2024-12-31   \n",
       "3   1    Abatz          20000        2024-01-01      2024-12-31   \n",
       "4   1    Abatz          20000        2024-01-01      2024-12-31   \n",
       "\n",
       "  header.booking_date  line.amount line.start_date line.end_date  \\\n",
       "0          2024-01-01         4000      2024-01-01    2024-12-31   \n",
       "1          2024-01-01         4000      2024-01-01    2024-12-31   \n",
       "2          2024-01-01         4000      2024-01-01    2024-12-31   \n",
       "3          2024-01-01         4000      2024-01-01    2024-12-31   \n",
       "4          2024-01-01         4000      2024-01-01    2024-12-31   \n",
       "\n",
       "   line.item_sku  line.renewable  \n",
       "0              1            True  \n",
       "1              2            True  \n",
       "2              3            True  \n",
       "3              4            True  \n",
       "4              5           False  "
      ]
     },
     "execution_count": 7,
     "metadata": {},
     "output_type": "execute_result"
    }
   ],
   "source": [
    "a.build_df()"
   ]
  },
  {
   "cell_type": "code",
   "execution_count": null,
   "metadata": {},
   "outputs": [],
   "source": [
    "b = a.__dict__.copy()\n",
    "b['header'] = a.header.__dict__.copy()\n",
    "b['lines'] = [line.__dict__.copy() for line in a.lines]\n",
    "b"
   ]
  },
  {
   "cell_type": "code",
   "execution_count": null,
   "metadata": {},
   "outputs": [],
   "source": [
    "df = pd.json_normalize(b)\n",
    "lines = pd.DataFrame.from_dict(df['lines'].iloc[0]).add_prefix('line.')\n",
    "df.drop(columns=['lines'])\n",
    "df.merge(lines, how='cross').drop(columns='lines')"
   ]
  },
  {
   "cell_type": "code",
   "execution_count": null,
   "metadata": {},
   "outputs": [],
   "source": []
  },
  {
   "cell_type": "code",
   "execution_count": null,
   "metadata": {},
   "outputs": [],
   "source": [
    "# product_weights = [.8, .6, .4, .2, .1, .05, .01, .001]\n",
    "\n",
    "# add_item = True\n",
    "# items = pd.DataFrame()\n",
    "# potential_product = product\n",
    "# item = choice(potential_product.index)\n",
    "# potential_product.iloc[item-1:item]"
   ]
  }
 ],
 "metadata": {
  "kernelspec": {
   "display_name": "Python 3",
   "language": "python",
   "name": "python3"
  },
  "language_info": {
   "codemirror_mode": {
    "name": "ipython",
    "version": 3
   },
   "file_extension": ".py",
   "mimetype": "text/x-python",
   "name": "python",
   "nbconvert_exporter": "python",
   "pygments_lexer": "ipython3",
   "version": "3.12.7"
  }
 },
 "nbformat": 4,
 "nbformat_minor": 2
}
