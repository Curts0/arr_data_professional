{
 "cells": [
  {
   "cell_type": "markdown",
   "metadata": {},
   "source": [
    "Now that we have a few classes and funcs created, let's look at what could go wrong."
   ]
  },
  {
   "cell_type": "code",
   "execution_count": 1,
   "metadata": {},
   "outputs": [],
   "source": [
    "from arr import ContractHeader, annualize\n",
    "from datetime import date"
   ]
  },
  {
   "cell_type": "markdown",
   "metadata": {},
   "source": [
    "### Leap Years"
   ]
  },
  {
   "cell_type": "markdown",
   "metadata": {},
   "source": [
    "Start with a 20k TCV contract starting on January 2024 and an ending on January 2026."
   ]
  },
  {
   "cell_type": "code",
   "execution_count": 2,
   "metadata": {},
   "outputs": [
    {
     "name": "stdout",
     "output_type": "stream",
     "text": [
      "Results of leap year:\n",
      "Not generalizing leap year: 10013.68\n",
      "Generalizing leap year: 10000.00\n"
     ]
    }
   ],
   "source": [
    "contract = ContractHeader(20_000, date(2024, 1, 15), date(2026, 1, 14))\n",
    "\n",
    "period = date(2024, 6, 30)\n",
    "interval_str = \"Day\"\n",
    "\n",
    "dont_generalize_leap_year = annualize(contract, period, interval_str, False)\n",
    "generalize_leap_year = annualize(contract, period, interval_str, True)\n",
    "\n",
    "print(\"Results of leap year:\")\n",
    "print(f\"Not generalizing leap year: {dont_generalize_leap_year:.2f}\")\n",
    "print(f\"Generalizing leap year: {generalize_leap_year:.2f}\")"
   ]
  },
  {
   "cell_type": "markdown",
   "metadata": {},
   "source": [
    "Simple thought would suggest that 20k TCV of 2 years will have a 10k ACV, but **take caution when getting granular as days, because leap years will make an appearance**. Let's look at the implication of this over time. Consider the below 3 year deal and let's ask, \"What is the ACV of this contract month over month? and how do leap years show in the data?\"\n",
    "\n",
    "$\n",
    "\\begin{matrix}\n",
    "\\text{Contract} & \\text{Start Date} & \\text{End Date} & \\text{Total Contract Value} \\\\\n",
    "\\text{001} & \\text{06/15/2023} & \\text{06/14/2025} & 30000 \n",
    "\\end{matrix}\n",
    "$"
   ]
  },
  {
   "cell_type": "code",
   "execution_count": 3,
   "metadata": {},
   "outputs": [
    {
     "data": {
      "application/vnd.plotly.v1+json": {
       "config": {
        "plotlyServerURL": "https://plot.ly"
       },
       "data": [
        {
         "hovertemplate": "x=%{x}<br>y=%{y}<extra></extra>",
         "legendgroup": "",
         "line": {
          "color": "#636efa",
          "dash": "solid"
         },
         "marker": {
          "symbol": "circle"
         },
         "mode": "lines",
         "name": "",
         "orientation": "v",
         "showlegend": false,
         "type": "scatter",
         "x": [
          "2023-06-30",
          "2023-07-31",
          "2023-08-31",
          "2023-09-30",
          "2023-10-31",
          "2023-11-30",
          "2023-12-31",
          "2024-01-31",
          "2024-02-29",
          "2024-03-31",
          "2024-04-30",
          "2024-05-31",
          "2024-06-30",
          "2024-07-31",
          "2024-08-31",
          "2024-09-30",
          "2024-10-31",
          "2024-11-30",
          "2024-12-31",
          "2025-01-31",
          "2025-02-28",
          "2025-03-31",
          "2025-04-30",
          "2025-05-31"
         ],
         "xaxis": "x",
         "y": [
          14979.480164158686,
          14979.480164158686,
          14979.480164158686,
          14979.480164158686,
          14979.480164158686,
          14979.480164158686,
          14979.480164158686,
          15020.519835841314,
          15020.519835841314,
          15020.519835841314,
          15020.519835841314,
          15020.519835841314,
          15020.519835841314,
          15020.519835841314,
          15020.519835841314,
          15020.519835841314,
          15020.519835841314,
          15020.519835841314,
          15020.519835841314,
          14979.480164158686,
          14979.480164158686,
          14979.480164158686,
          14979.480164158686,
          14979.480164158686
         ],
         "yaxis": "y"
        }
       ],
       "layout": {
        "legend": {
         "tracegroupgap": 0
        },
        "template": {
         "data": {
          "bar": [
           {
            "error_x": {
             "color": "#2a3f5f"
            },
            "error_y": {
             "color": "#2a3f5f"
            },
            "marker": {
             "line": {
              "color": "#E5ECF6",
              "width": 0.5
             },
             "pattern": {
              "fillmode": "overlay",
              "size": 10,
              "solidity": 0.2
             }
            },
            "type": "bar"
           }
          ],
          "barpolar": [
           {
            "marker": {
             "line": {
              "color": "#E5ECF6",
              "width": 0.5
             },
             "pattern": {
              "fillmode": "overlay",
              "size": 10,
              "solidity": 0.2
             }
            },
            "type": "barpolar"
           }
          ],
          "carpet": [
           {
            "aaxis": {
             "endlinecolor": "#2a3f5f",
             "gridcolor": "white",
             "linecolor": "white",
             "minorgridcolor": "white",
             "startlinecolor": "#2a3f5f"
            },
            "baxis": {
             "endlinecolor": "#2a3f5f",
             "gridcolor": "white",
             "linecolor": "white",
             "minorgridcolor": "white",
             "startlinecolor": "#2a3f5f"
            },
            "type": "carpet"
           }
          ],
          "choropleth": [
           {
            "colorbar": {
             "outlinewidth": 0,
             "ticks": ""
            },
            "type": "choropleth"
           }
          ],
          "contour": [
           {
            "colorbar": {
             "outlinewidth": 0,
             "ticks": ""
            },
            "colorscale": [
             [
              0,
              "#0d0887"
             ],
             [
              0.1111111111111111,
              "#46039f"
             ],
             [
              0.2222222222222222,
              "#7201a8"
             ],
             [
              0.3333333333333333,
              "#9c179e"
             ],
             [
              0.4444444444444444,
              "#bd3786"
             ],
             [
              0.5555555555555556,
              "#d8576b"
             ],
             [
              0.6666666666666666,
              "#ed7953"
             ],
             [
              0.7777777777777778,
              "#fb9f3a"
             ],
             [
              0.8888888888888888,
              "#fdca26"
             ],
             [
              1,
              "#f0f921"
             ]
            ],
            "type": "contour"
           }
          ],
          "contourcarpet": [
           {
            "colorbar": {
             "outlinewidth": 0,
             "ticks": ""
            },
            "type": "contourcarpet"
           }
          ],
          "heatmap": [
           {
            "colorbar": {
             "outlinewidth": 0,
             "ticks": ""
            },
            "colorscale": [
             [
              0,
              "#0d0887"
             ],
             [
              0.1111111111111111,
              "#46039f"
             ],
             [
              0.2222222222222222,
              "#7201a8"
             ],
             [
              0.3333333333333333,
              "#9c179e"
             ],
             [
              0.4444444444444444,
              "#bd3786"
             ],
             [
              0.5555555555555556,
              "#d8576b"
             ],
             [
              0.6666666666666666,
              "#ed7953"
             ],
             [
              0.7777777777777778,
              "#fb9f3a"
             ],
             [
              0.8888888888888888,
              "#fdca26"
             ],
             [
              1,
              "#f0f921"
             ]
            ],
            "type": "heatmap"
           }
          ],
          "heatmapgl": [
           {
            "colorbar": {
             "outlinewidth": 0,
             "ticks": ""
            },
            "colorscale": [
             [
              0,
              "#0d0887"
             ],
             [
              0.1111111111111111,
              "#46039f"
             ],
             [
              0.2222222222222222,
              "#7201a8"
             ],
             [
              0.3333333333333333,
              "#9c179e"
             ],
             [
              0.4444444444444444,
              "#bd3786"
             ],
             [
              0.5555555555555556,
              "#d8576b"
             ],
             [
              0.6666666666666666,
              "#ed7953"
             ],
             [
              0.7777777777777778,
              "#fb9f3a"
             ],
             [
              0.8888888888888888,
              "#fdca26"
             ],
             [
              1,
              "#f0f921"
             ]
            ],
            "type": "heatmapgl"
           }
          ],
          "histogram": [
           {
            "marker": {
             "pattern": {
              "fillmode": "overlay",
              "size": 10,
              "solidity": 0.2
             }
            },
            "type": "histogram"
           }
          ],
          "histogram2d": [
           {
            "colorbar": {
             "outlinewidth": 0,
             "ticks": ""
            },
            "colorscale": [
             [
              0,
              "#0d0887"
             ],
             [
              0.1111111111111111,
              "#46039f"
             ],
             [
              0.2222222222222222,
              "#7201a8"
             ],
             [
              0.3333333333333333,
              "#9c179e"
             ],
             [
              0.4444444444444444,
              "#bd3786"
             ],
             [
              0.5555555555555556,
              "#d8576b"
             ],
             [
              0.6666666666666666,
              "#ed7953"
             ],
             [
              0.7777777777777778,
              "#fb9f3a"
             ],
             [
              0.8888888888888888,
              "#fdca26"
             ],
             [
              1,
              "#f0f921"
             ]
            ],
            "type": "histogram2d"
           }
          ],
          "histogram2dcontour": [
           {
            "colorbar": {
             "outlinewidth": 0,
             "ticks": ""
            },
            "colorscale": [
             [
              0,
              "#0d0887"
             ],
             [
              0.1111111111111111,
              "#46039f"
             ],
             [
              0.2222222222222222,
              "#7201a8"
             ],
             [
              0.3333333333333333,
              "#9c179e"
             ],
             [
              0.4444444444444444,
              "#bd3786"
             ],
             [
              0.5555555555555556,
              "#d8576b"
             ],
             [
              0.6666666666666666,
              "#ed7953"
             ],
             [
              0.7777777777777778,
              "#fb9f3a"
             ],
             [
              0.8888888888888888,
              "#fdca26"
             ],
             [
              1,
              "#f0f921"
             ]
            ],
            "type": "histogram2dcontour"
           }
          ],
          "mesh3d": [
           {
            "colorbar": {
             "outlinewidth": 0,
             "ticks": ""
            },
            "type": "mesh3d"
           }
          ],
          "parcoords": [
           {
            "line": {
             "colorbar": {
              "outlinewidth": 0,
              "ticks": ""
             }
            },
            "type": "parcoords"
           }
          ],
          "pie": [
           {
            "automargin": true,
            "type": "pie"
           }
          ],
          "scatter": [
           {
            "fillpattern": {
             "fillmode": "overlay",
             "size": 10,
             "solidity": 0.2
            },
            "type": "scatter"
           }
          ],
          "scatter3d": [
           {
            "line": {
             "colorbar": {
              "outlinewidth": 0,
              "ticks": ""
             }
            },
            "marker": {
             "colorbar": {
              "outlinewidth": 0,
              "ticks": ""
             }
            },
            "type": "scatter3d"
           }
          ],
          "scattercarpet": [
           {
            "marker": {
             "colorbar": {
              "outlinewidth": 0,
              "ticks": ""
             }
            },
            "type": "scattercarpet"
           }
          ],
          "scattergeo": [
           {
            "marker": {
             "colorbar": {
              "outlinewidth": 0,
              "ticks": ""
             }
            },
            "type": "scattergeo"
           }
          ],
          "scattergl": [
           {
            "marker": {
             "colorbar": {
              "outlinewidth": 0,
              "ticks": ""
             }
            },
            "type": "scattergl"
           }
          ],
          "scattermapbox": [
           {
            "marker": {
             "colorbar": {
              "outlinewidth": 0,
              "ticks": ""
             }
            },
            "type": "scattermapbox"
           }
          ],
          "scatterpolar": [
           {
            "marker": {
             "colorbar": {
              "outlinewidth": 0,
              "ticks": ""
             }
            },
            "type": "scatterpolar"
           }
          ],
          "scatterpolargl": [
           {
            "marker": {
             "colorbar": {
              "outlinewidth": 0,
              "ticks": ""
             }
            },
            "type": "scatterpolargl"
           }
          ],
          "scatterternary": [
           {
            "marker": {
             "colorbar": {
              "outlinewidth": 0,
              "ticks": ""
             }
            },
            "type": "scatterternary"
           }
          ],
          "surface": [
           {
            "colorbar": {
             "outlinewidth": 0,
             "ticks": ""
            },
            "colorscale": [
             [
              0,
              "#0d0887"
             ],
             [
              0.1111111111111111,
              "#46039f"
             ],
             [
              0.2222222222222222,
              "#7201a8"
             ],
             [
              0.3333333333333333,
              "#9c179e"
             ],
             [
              0.4444444444444444,
              "#bd3786"
             ],
             [
              0.5555555555555556,
              "#d8576b"
             ],
             [
              0.6666666666666666,
              "#ed7953"
             ],
             [
              0.7777777777777778,
              "#fb9f3a"
             ],
             [
              0.8888888888888888,
              "#fdca26"
             ],
             [
              1,
              "#f0f921"
             ]
            ],
            "type": "surface"
           }
          ],
          "table": [
           {
            "cells": {
             "fill": {
              "color": "#EBF0F8"
             },
             "line": {
              "color": "white"
             }
            },
            "header": {
             "fill": {
              "color": "#C8D4E3"
             },
             "line": {
              "color": "white"
             }
            },
            "type": "table"
           }
          ]
         },
         "layout": {
          "annotationdefaults": {
           "arrowcolor": "#2a3f5f",
           "arrowhead": 0,
           "arrowwidth": 1
          },
          "autotypenumbers": "strict",
          "coloraxis": {
           "colorbar": {
            "outlinewidth": 0,
            "ticks": ""
           }
          },
          "colorscale": {
           "diverging": [
            [
             0,
             "#8e0152"
            ],
            [
             0.1,
             "#c51b7d"
            ],
            [
             0.2,
             "#de77ae"
            ],
            [
             0.3,
             "#f1b6da"
            ],
            [
             0.4,
             "#fde0ef"
            ],
            [
             0.5,
             "#f7f7f7"
            ],
            [
             0.6,
             "#e6f5d0"
            ],
            [
             0.7,
             "#b8e186"
            ],
            [
             0.8,
             "#7fbc41"
            ],
            [
             0.9,
             "#4d9221"
            ],
            [
             1,
             "#276419"
            ]
           ],
           "sequential": [
            [
             0,
             "#0d0887"
            ],
            [
             0.1111111111111111,
             "#46039f"
            ],
            [
             0.2222222222222222,
             "#7201a8"
            ],
            [
             0.3333333333333333,
             "#9c179e"
            ],
            [
             0.4444444444444444,
             "#bd3786"
            ],
            [
             0.5555555555555556,
             "#d8576b"
            ],
            [
             0.6666666666666666,
             "#ed7953"
            ],
            [
             0.7777777777777778,
             "#fb9f3a"
            ],
            [
             0.8888888888888888,
             "#fdca26"
            ],
            [
             1,
             "#f0f921"
            ]
           ],
           "sequentialminus": [
            [
             0,
             "#0d0887"
            ],
            [
             0.1111111111111111,
             "#46039f"
            ],
            [
             0.2222222222222222,
             "#7201a8"
            ],
            [
             0.3333333333333333,
             "#9c179e"
            ],
            [
             0.4444444444444444,
             "#bd3786"
            ],
            [
             0.5555555555555556,
             "#d8576b"
            ],
            [
             0.6666666666666666,
             "#ed7953"
            ],
            [
             0.7777777777777778,
             "#fb9f3a"
            ],
            [
             0.8888888888888888,
             "#fdca26"
            ],
            [
             1,
             "#f0f921"
            ]
           ]
          },
          "colorway": [
           "#636efa",
           "#EF553B",
           "#00cc96",
           "#ab63fa",
           "#FFA15A",
           "#19d3f3",
           "#FF6692",
           "#B6E880",
           "#FF97FF",
           "#FECB52"
          ],
          "font": {
           "color": "#2a3f5f"
          },
          "geo": {
           "bgcolor": "white",
           "lakecolor": "white",
           "landcolor": "#E5ECF6",
           "showlakes": true,
           "showland": true,
           "subunitcolor": "white"
          },
          "hoverlabel": {
           "align": "left"
          },
          "hovermode": "closest",
          "mapbox": {
           "style": "light"
          },
          "paper_bgcolor": "white",
          "plot_bgcolor": "#E5ECF6",
          "polar": {
           "angularaxis": {
            "gridcolor": "white",
            "linecolor": "white",
            "ticks": ""
           },
           "bgcolor": "#E5ECF6",
           "radialaxis": {
            "gridcolor": "white",
            "linecolor": "white",
            "ticks": ""
           }
          },
          "scene": {
           "xaxis": {
            "backgroundcolor": "#E5ECF6",
            "gridcolor": "white",
            "gridwidth": 2,
            "linecolor": "white",
            "showbackground": true,
            "ticks": "",
            "zerolinecolor": "white"
           },
           "yaxis": {
            "backgroundcolor": "#E5ECF6",
            "gridcolor": "white",
            "gridwidth": 2,
            "linecolor": "white",
            "showbackground": true,
            "ticks": "",
            "zerolinecolor": "white"
           },
           "zaxis": {
            "backgroundcolor": "#E5ECF6",
            "gridcolor": "white",
            "gridwidth": 2,
            "linecolor": "white",
            "showbackground": true,
            "ticks": "",
            "zerolinecolor": "white"
           }
          },
          "shapedefaults": {
           "line": {
            "color": "#2a3f5f"
           }
          },
          "ternary": {
           "aaxis": {
            "gridcolor": "white",
            "linecolor": "white",
            "ticks": ""
           },
           "baxis": {
            "gridcolor": "white",
            "linecolor": "white",
            "ticks": ""
           },
           "bgcolor": "#E5ECF6",
           "caxis": {
            "gridcolor": "white",
            "linecolor": "white",
            "ticks": ""
           }
          },
          "title": {
           "x": 0.05
          },
          "xaxis": {
           "automargin": true,
           "gridcolor": "white",
           "linecolor": "white",
           "ticks": "",
           "title": {
            "standoff": 15
           },
           "zerolinecolor": "white",
           "zerolinewidth": 2
          },
          "yaxis": {
           "automargin": true,
           "gridcolor": "white",
           "linecolor": "white",
           "ticks": "",
           "title": {
            "standoff": 15
           },
           "zerolinecolor": "white",
           "zerolinewidth": 2
          }
         }
        },
        "title": {
         "text": "ACV w/ Leap Year"
        },
        "xaxis": {
         "anchor": "y",
         "domain": [
          0,
          1
         ],
         "title": {
          "text": "x"
         }
        },
        "yaxis": {
         "anchor": "x",
         "domain": [
          0,
          1
         ],
         "title": {
          "text": "y"
         }
        }
       }
      }
     },
     "metadata": {},
     "output_type": "display_data"
    },
    {
     "data": {
      "application/vnd.plotly.v1+json": {
       "config": {
        "plotlyServerURL": "https://plot.ly"
       },
       "data": [
        {
         "hovertemplate": "x=%{x}<br>y=%{y}<extra></extra>",
         "legendgroup": "",
         "line": {
          "color": "#636efa",
          "dash": "solid"
         },
         "marker": {
          "symbol": "circle"
         },
         "mode": "lines",
         "name": "",
         "orientation": "v",
         "showlegend": false,
         "type": "scatter",
         "x": [
          "2023-06-30",
          "2023-07-31",
          "2023-08-31",
          "2023-09-30",
          "2023-10-31",
          "2023-11-30",
          "2023-12-31",
          "2024-01-31",
          "2024-02-29",
          "2024-03-31",
          "2024-04-30",
          "2024-05-31",
          "2024-06-30",
          "2024-07-31",
          "2024-08-31",
          "2024-09-30",
          "2024-10-31",
          "2024-11-30",
          "2024-12-31",
          "2025-01-31",
          "2025-02-28",
          "2025-03-31",
          "2025-04-30",
          "2025-05-31"
         ],
         "xaxis": "x",
         "y": [
          15000,
          15000,
          15000,
          15000,
          15000,
          15000,
          15000,
          15000,
          15000,
          15000,
          15000,
          15000,
          15000,
          15000,
          15000,
          15000,
          15000,
          15000,
          15000,
          15000,
          15000,
          15000,
          15000,
          15000
         ],
         "yaxis": "y"
        }
       ],
       "layout": {
        "legend": {
         "tracegroupgap": 0
        },
        "template": {
         "data": {
          "bar": [
           {
            "error_x": {
             "color": "#2a3f5f"
            },
            "error_y": {
             "color": "#2a3f5f"
            },
            "marker": {
             "line": {
              "color": "#E5ECF6",
              "width": 0.5
             },
             "pattern": {
              "fillmode": "overlay",
              "size": 10,
              "solidity": 0.2
             }
            },
            "type": "bar"
           }
          ],
          "barpolar": [
           {
            "marker": {
             "line": {
              "color": "#E5ECF6",
              "width": 0.5
             },
             "pattern": {
              "fillmode": "overlay",
              "size": 10,
              "solidity": 0.2
             }
            },
            "type": "barpolar"
           }
          ],
          "carpet": [
           {
            "aaxis": {
             "endlinecolor": "#2a3f5f",
             "gridcolor": "white",
             "linecolor": "white",
             "minorgridcolor": "white",
             "startlinecolor": "#2a3f5f"
            },
            "baxis": {
             "endlinecolor": "#2a3f5f",
             "gridcolor": "white",
             "linecolor": "white",
             "minorgridcolor": "white",
             "startlinecolor": "#2a3f5f"
            },
            "type": "carpet"
           }
          ],
          "choropleth": [
           {
            "colorbar": {
             "outlinewidth": 0,
             "ticks": ""
            },
            "type": "choropleth"
           }
          ],
          "contour": [
           {
            "colorbar": {
             "outlinewidth": 0,
             "ticks": ""
            },
            "colorscale": [
             [
              0,
              "#0d0887"
             ],
             [
              0.1111111111111111,
              "#46039f"
             ],
             [
              0.2222222222222222,
              "#7201a8"
             ],
             [
              0.3333333333333333,
              "#9c179e"
             ],
             [
              0.4444444444444444,
              "#bd3786"
             ],
             [
              0.5555555555555556,
              "#d8576b"
             ],
             [
              0.6666666666666666,
              "#ed7953"
             ],
             [
              0.7777777777777778,
              "#fb9f3a"
             ],
             [
              0.8888888888888888,
              "#fdca26"
             ],
             [
              1,
              "#f0f921"
             ]
            ],
            "type": "contour"
           }
          ],
          "contourcarpet": [
           {
            "colorbar": {
             "outlinewidth": 0,
             "ticks": ""
            },
            "type": "contourcarpet"
           }
          ],
          "heatmap": [
           {
            "colorbar": {
             "outlinewidth": 0,
             "ticks": ""
            },
            "colorscale": [
             [
              0,
              "#0d0887"
             ],
             [
              0.1111111111111111,
              "#46039f"
             ],
             [
              0.2222222222222222,
              "#7201a8"
             ],
             [
              0.3333333333333333,
              "#9c179e"
             ],
             [
              0.4444444444444444,
              "#bd3786"
             ],
             [
              0.5555555555555556,
              "#d8576b"
             ],
             [
              0.6666666666666666,
              "#ed7953"
             ],
             [
              0.7777777777777778,
              "#fb9f3a"
             ],
             [
              0.8888888888888888,
              "#fdca26"
             ],
             [
              1,
              "#f0f921"
             ]
            ],
            "type": "heatmap"
           }
          ],
          "heatmapgl": [
           {
            "colorbar": {
             "outlinewidth": 0,
             "ticks": ""
            },
            "colorscale": [
             [
              0,
              "#0d0887"
             ],
             [
              0.1111111111111111,
              "#46039f"
             ],
             [
              0.2222222222222222,
              "#7201a8"
             ],
             [
              0.3333333333333333,
              "#9c179e"
             ],
             [
              0.4444444444444444,
              "#bd3786"
             ],
             [
              0.5555555555555556,
              "#d8576b"
             ],
             [
              0.6666666666666666,
              "#ed7953"
             ],
             [
              0.7777777777777778,
              "#fb9f3a"
             ],
             [
              0.8888888888888888,
              "#fdca26"
             ],
             [
              1,
              "#f0f921"
             ]
            ],
            "type": "heatmapgl"
           }
          ],
          "histogram": [
           {
            "marker": {
             "pattern": {
              "fillmode": "overlay",
              "size": 10,
              "solidity": 0.2
             }
            },
            "type": "histogram"
           }
          ],
          "histogram2d": [
           {
            "colorbar": {
             "outlinewidth": 0,
             "ticks": ""
            },
            "colorscale": [
             [
              0,
              "#0d0887"
             ],
             [
              0.1111111111111111,
              "#46039f"
             ],
             [
              0.2222222222222222,
              "#7201a8"
             ],
             [
              0.3333333333333333,
              "#9c179e"
             ],
             [
              0.4444444444444444,
              "#bd3786"
             ],
             [
              0.5555555555555556,
              "#d8576b"
             ],
             [
              0.6666666666666666,
              "#ed7953"
             ],
             [
              0.7777777777777778,
              "#fb9f3a"
             ],
             [
              0.8888888888888888,
              "#fdca26"
             ],
             [
              1,
              "#f0f921"
             ]
            ],
            "type": "histogram2d"
           }
          ],
          "histogram2dcontour": [
           {
            "colorbar": {
             "outlinewidth": 0,
             "ticks": ""
            },
            "colorscale": [
             [
              0,
              "#0d0887"
             ],
             [
              0.1111111111111111,
              "#46039f"
             ],
             [
              0.2222222222222222,
              "#7201a8"
             ],
             [
              0.3333333333333333,
              "#9c179e"
             ],
             [
              0.4444444444444444,
              "#bd3786"
             ],
             [
              0.5555555555555556,
              "#d8576b"
             ],
             [
              0.6666666666666666,
              "#ed7953"
             ],
             [
              0.7777777777777778,
              "#fb9f3a"
             ],
             [
              0.8888888888888888,
              "#fdca26"
             ],
             [
              1,
              "#f0f921"
             ]
            ],
            "type": "histogram2dcontour"
           }
          ],
          "mesh3d": [
           {
            "colorbar": {
             "outlinewidth": 0,
             "ticks": ""
            },
            "type": "mesh3d"
           }
          ],
          "parcoords": [
           {
            "line": {
             "colorbar": {
              "outlinewidth": 0,
              "ticks": ""
             }
            },
            "type": "parcoords"
           }
          ],
          "pie": [
           {
            "automargin": true,
            "type": "pie"
           }
          ],
          "scatter": [
           {
            "fillpattern": {
             "fillmode": "overlay",
             "size": 10,
             "solidity": 0.2
            },
            "type": "scatter"
           }
          ],
          "scatter3d": [
           {
            "line": {
             "colorbar": {
              "outlinewidth": 0,
              "ticks": ""
             }
            },
            "marker": {
             "colorbar": {
              "outlinewidth": 0,
              "ticks": ""
             }
            },
            "type": "scatter3d"
           }
          ],
          "scattercarpet": [
           {
            "marker": {
             "colorbar": {
              "outlinewidth": 0,
              "ticks": ""
             }
            },
            "type": "scattercarpet"
           }
          ],
          "scattergeo": [
           {
            "marker": {
             "colorbar": {
              "outlinewidth": 0,
              "ticks": ""
             }
            },
            "type": "scattergeo"
           }
          ],
          "scattergl": [
           {
            "marker": {
             "colorbar": {
              "outlinewidth": 0,
              "ticks": ""
             }
            },
            "type": "scattergl"
           }
          ],
          "scattermapbox": [
           {
            "marker": {
             "colorbar": {
              "outlinewidth": 0,
              "ticks": ""
             }
            },
            "type": "scattermapbox"
           }
          ],
          "scatterpolar": [
           {
            "marker": {
             "colorbar": {
              "outlinewidth": 0,
              "ticks": ""
             }
            },
            "type": "scatterpolar"
           }
          ],
          "scatterpolargl": [
           {
            "marker": {
             "colorbar": {
              "outlinewidth": 0,
              "ticks": ""
             }
            },
            "type": "scatterpolargl"
           }
          ],
          "scatterternary": [
           {
            "marker": {
             "colorbar": {
              "outlinewidth": 0,
              "ticks": ""
             }
            },
            "type": "scatterternary"
           }
          ],
          "surface": [
           {
            "colorbar": {
             "outlinewidth": 0,
             "ticks": ""
            },
            "colorscale": [
             [
              0,
              "#0d0887"
             ],
             [
              0.1111111111111111,
              "#46039f"
             ],
             [
              0.2222222222222222,
              "#7201a8"
             ],
             [
              0.3333333333333333,
              "#9c179e"
             ],
             [
              0.4444444444444444,
              "#bd3786"
             ],
             [
              0.5555555555555556,
              "#d8576b"
             ],
             [
              0.6666666666666666,
              "#ed7953"
             ],
             [
              0.7777777777777778,
              "#fb9f3a"
             ],
             [
              0.8888888888888888,
              "#fdca26"
             ],
             [
              1,
              "#f0f921"
             ]
            ],
            "type": "surface"
           }
          ],
          "table": [
           {
            "cells": {
             "fill": {
              "color": "#EBF0F8"
             },
             "line": {
              "color": "white"
             }
            },
            "header": {
             "fill": {
              "color": "#C8D4E3"
             },
             "line": {
              "color": "white"
             }
            },
            "type": "table"
           }
          ]
         },
         "layout": {
          "annotationdefaults": {
           "arrowcolor": "#2a3f5f",
           "arrowhead": 0,
           "arrowwidth": 1
          },
          "autotypenumbers": "strict",
          "coloraxis": {
           "colorbar": {
            "outlinewidth": 0,
            "ticks": ""
           }
          },
          "colorscale": {
           "diverging": [
            [
             0,
             "#8e0152"
            ],
            [
             0.1,
             "#c51b7d"
            ],
            [
             0.2,
             "#de77ae"
            ],
            [
             0.3,
             "#f1b6da"
            ],
            [
             0.4,
             "#fde0ef"
            ],
            [
             0.5,
             "#f7f7f7"
            ],
            [
             0.6,
             "#e6f5d0"
            ],
            [
             0.7,
             "#b8e186"
            ],
            [
             0.8,
             "#7fbc41"
            ],
            [
             0.9,
             "#4d9221"
            ],
            [
             1,
             "#276419"
            ]
           ],
           "sequential": [
            [
             0,
             "#0d0887"
            ],
            [
             0.1111111111111111,
             "#46039f"
            ],
            [
             0.2222222222222222,
             "#7201a8"
            ],
            [
             0.3333333333333333,
             "#9c179e"
            ],
            [
             0.4444444444444444,
             "#bd3786"
            ],
            [
             0.5555555555555556,
             "#d8576b"
            ],
            [
             0.6666666666666666,
             "#ed7953"
            ],
            [
             0.7777777777777778,
             "#fb9f3a"
            ],
            [
             0.8888888888888888,
             "#fdca26"
            ],
            [
             1,
             "#f0f921"
            ]
           ],
           "sequentialminus": [
            [
             0,
             "#0d0887"
            ],
            [
             0.1111111111111111,
             "#46039f"
            ],
            [
             0.2222222222222222,
             "#7201a8"
            ],
            [
             0.3333333333333333,
             "#9c179e"
            ],
            [
             0.4444444444444444,
             "#bd3786"
            ],
            [
             0.5555555555555556,
             "#d8576b"
            ],
            [
             0.6666666666666666,
             "#ed7953"
            ],
            [
             0.7777777777777778,
             "#fb9f3a"
            ],
            [
             0.8888888888888888,
             "#fdca26"
            ],
            [
             1,
             "#f0f921"
            ]
           ]
          },
          "colorway": [
           "#636efa",
           "#EF553B",
           "#00cc96",
           "#ab63fa",
           "#FFA15A",
           "#19d3f3",
           "#FF6692",
           "#B6E880",
           "#FF97FF",
           "#FECB52"
          ],
          "font": {
           "color": "#2a3f5f"
          },
          "geo": {
           "bgcolor": "white",
           "lakecolor": "white",
           "landcolor": "#E5ECF6",
           "showlakes": true,
           "showland": true,
           "subunitcolor": "white"
          },
          "hoverlabel": {
           "align": "left"
          },
          "hovermode": "closest",
          "mapbox": {
           "style": "light"
          },
          "paper_bgcolor": "white",
          "plot_bgcolor": "#E5ECF6",
          "polar": {
           "angularaxis": {
            "gridcolor": "white",
            "linecolor": "white",
            "ticks": ""
           },
           "bgcolor": "#E5ECF6",
           "radialaxis": {
            "gridcolor": "white",
            "linecolor": "white",
            "ticks": ""
           }
          },
          "scene": {
           "xaxis": {
            "backgroundcolor": "#E5ECF6",
            "gridcolor": "white",
            "gridwidth": 2,
            "linecolor": "white",
            "showbackground": true,
            "ticks": "",
            "zerolinecolor": "white"
           },
           "yaxis": {
            "backgroundcolor": "#E5ECF6",
            "gridcolor": "white",
            "gridwidth": 2,
            "linecolor": "white",
            "showbackground": true,
            "ticks": "",
            "zerolinecolor": "white"
           },
           "zaxis": {
            "backgroundcolor": "#E5ECF6",
            "gridcolor": "white",
            "gridwidth": 2,
            "linecolor": "white",
            "showbackground": true,
            "ticks": "",
            "zerolinecolor": "white"
           }
          },
          "shapedefaults": {
           "line": {
            "color": "#2a3f5f"
           }
          },
          "ternary": {
           "aaxis": {
            "gridcolor": "white",
            "linecolor": "white",
            "ticks": ""
           },
           "baxis": {
            "gridcolor": "white",
            "linecolor": "white",
            "ticks": ""
           },
           "bgcolor": "#E5ECF6",
           "caxis": {
            "gridcolor": "white",
            "linecolor": "white",
            "ticks": ""
           }
          },
          "title": {
           "x": 0.05
          },
          "xaxis": {
           "automargin": true,
           "gridcolor": "white",
           "linecolor": "white",
           "ticks": "",
           "title": {
            "standoff": 15
           },
           "zerolinecolor": "white",
           "zerolinewidth": 2
          },
          "yaxis": {
           "automargin": true,
           "gridcolor": "white",
           "linecolor": "white",
           "ticks": "",
           "title": {
            "standoff": 15
           },
           "zerolinecolor": "white",
           "zerolinewidth": 2
          }
         }
        },
        "title": {
         "text": "ACV w/o Leap Year"
        },
        "xaxis": {
         "anchor": "y",
         "domain": [
          0,
          1
         ],
         "title": {
          "text": "x"
         }
        },
        "yaxis": {
         "anchor": "x",
         "domain": [
          0,
          1
         ],
         "title": {
          "text": "y"
         }
        }
       }
      }
     },
     "metadata": {},
     "output_type": "display_data"
    }
   ],
   "source": [
    "from arr import get_end_of_month_range\n",
    "import numpy as np\n",
    "import plotly.express as px\n",
    "\n",
    "\n",
    "contract = ContractHeader(30_000, date(2023, 6, 15), date(2025, 6, 14))\n",
    "\n",
    "date_range = get_end_of_month_range(date(2023, 6, 1), date(2025, 6, 1))\n",
    "\n",
    "results_w_leap_year = np.array(\n",
    "    [annualize(contract, month, \"Day\", False) for month in date_range]\n",
    ")\n",
    "\n",
    "results_wo_leap_year = np.array(\n",
    "    [annualize(contract, month, \"Day\", True) for month in date_range]\n",
    ")\n",
    "fig1 = px.line(x=date_range, y=results_w_leap_year, title=\"ACV w/ Leap Year\")\n",
    "fig1.show()\n",
    "\n",
    "fig2 = px.line(x=date_range, y=results_wo_leap_year, title=\"ACV w/o Leap Year\")\n",
    "fig2.show()"
   ]
  },
  {
   "cell_type": "markdown",
   "metadata": {},
   "source": [
    "<div class=\"alert alert-block alert-warning\">\n",
    "The difference here is only $20 dollars, but imagine this scaled across an enterprise company. Contracts with terms over leap years will see their ARR rise in the beginning of a leap year and fall at the end of a leap year. My recommendation, if you are going to annualize by day, <a href=\"https://en.wikipedia.org/wiki/KISS_principle\">K.I.S.S</a>. <b>Hard code the day value to be 365 and move on.</b> I can see some reasons where you want to see this swing in data, but many companies will be just fine with 365 days every year.\n",
    "</div>\n",
    "\n",
    "Let's continue the leap year analysis, with another contract. This one will be 3 months long."
   ]
  },
  {
   "cell_type": "code",
   "execution_count": 4,
   "metadata": {},
   "outputs": [
    {
     "name": "stdout",
     "output_type": "stream",
     "text": [
      "ContractHeader(amount=25000, start_date=datetime.date(2024, 1, 1), end_date=datetime.date(2024, 3, 31), booking_date=datetime.date(2024, 1, 1))\n",
      "Period: 2024-03-31\n",
      "Generalize Leap Year: False\n",
      "Time Interval: Day - 366\n",
      "Contract Term: 91\n",
      "\n",
      "Not generalizing leap year: 100549.45\n",
      "\n",
      "-------------------------------------------------------\n",
      "ContractHeader(amount=25000, start_date=datetime.date(2024, 1, 1), end_date=datetime.date(2024, 3, 31), booking_date=datetime.date(2024, 1, 1))\n",
      "Period: 2024-03-31\n",
      "Generalize Leap Year: True\n",
      "Time Interval: Day - 365\n",
      "Contract Term: 90\n",
      "\n",
      "Generalizing leap year: 101388.89\n",
      "\n"
     ]
    }
   ],
   "source": [
    "short_contract = ContractHeader(25_000, date(2024, 1, 1), date(2024, 3, 31))\n",
    "\n",
    "no_gen_leap_year = annualize(\n",
    "    short_contract, date(2024, 3, 31), \"Day\", False, print_details=True\n",
    ")\n",
    "print(f\"\\nNot generalizing leap year: {no_gen_leap_year:.2f}\\n\")\n",
    "\n",
    "print(\"-\" * 55)\n",
    "\n",
    "gen_leap_year = annualize(\n",
    "    short_contract, date(2024, 3, 31), \"Day\", True, print_details=True\n",
    ")\n",
    "print(f\"\\nGeneralizing leap year: {gen_leap_year:.2f}\\n\")"
   ]
  },
  {
   "cell_type": "markdown",
   "metadata": {},
   "source": [
    "**Why is this 25k contract still showing an odd amount when annualizing by day, even with `generalize_leap_year` set to `True`?** Let's do some math.\n",
    "\n",
    "$\\begin{matrix}\n",
    "\\text{Formula:} &\n",
    "\\text{Annual Contract Value} = \\text{Total Contract Value} * (\\frac{\\text{Time Interval (Year)}}{\\text{Contract Term Length}})\\\\\n",
    "\\\\\n",
    "\\text{Generalizing leap year = False:} &\n",
    "100,549 = 25,000 * (\\frac{366}{91})\\\\\n",
    "\\\\\n",
    "\\text{Generalizing leap year = True:} &\n",
    "101,388 = 25,000 * (\\frac{365}{90})\n",
    "\\end{matrix}\n",
    "$\n",
    "\n",
    "General wisdom tells us that this 3 month contract should be multiplied by 4. 12 months in a year divided by 3 months of the contract multiplied by total contract value. $25,000 * \\frac{12}{3} = 100,000$. But regardless of removing leap days from the equation, you will always have less days in the first half of a year than in the second half of the year. Which means, annualizing by day in the first half will always give an unconventional result when comparing to the full year.\n",
    "\n",
    "<div class=\"alert alert-block alert-warning\">\n",
    "You've been warned. Another risk of annualizing by day. Still do-able, but leap years add a ton of implications.\n",
    "</div>"
   ]
  },
  {
   "cell_type": "markdown",
   "metadata": {},
   "source": [
    "### Contracts Less Than 1 Year"
   ]
  },
  {
   "cell_type": "markdown",
   "metadata": {},
   "source": [
    "Sales people [*always be closing*](https://www.investopedia.com/terms/a/always-be-closing.asp). Which means, never underestimate the creativity of a sales team. They will do what they need to do to make the company money. Which means contracts could have shorter lengths, ramp, and could have all kinds of discounts or variability. For this section, the focus will be on shorter contracts. Shorter contracts intended to renew, can force a big swing in the reporting when not renewed.\n",
    "\n",
    "First, I'll setup some code to show this smaller contract in the context of other contracts. I'll also introduce two new functions."
   ]
  },
  {
   "cell_type": "code",
   "execution_count": 5,
   "metadata": {},
   "outputs": [
    {
     "name": "stdout",
     "output_type": "stream",
     "text": [
      "                         Customer 1                         \n",
      "             Contract #1 - $10,000 - 2024-01-01             \n",
      "                  2024-01-01 - 2024-03-31                   \n",
      "************************************************************\n",
      "product\tstart date\tend date\tamount\trenewable\n",
      "************************************************************\n",
      "1\t2024-01-01\t2024-03-31\t$2,500\tTrue\n",
      "2\t2024-01-01\t2024-03-31\t$2,500\tTrue\n",
      "3\t2024-01-01\t2024-03-31\t$2,500\tTrue\n",
      "4\t2024-01-01\t2024-03-31\t$2,500\tTrue\n",
      "************************************************************\n",
      "\n",
      "-------------------------------------------------------\n",
      "                         Customer 2                         \n",
      "             Contract #2 - $10,000 - 2024-01-01             \n",
      "                  2024-01-01 - 2024-12-31                   \n",
      "************************************************************\n",
      "product\tstart date\tend date\tamount\trenewable\n",
      "************************************************************\n",
      "1\t2024-01-01\t2024-12-31\t$10,000\tTrue\n",
      "************************************************************\n",
      "\n",
      "-------------------------------------------------------\n",
      "                         Customer 3                         \n",
      "             Contract #3 - $10,000 - 2024-01-01             \n",
      "                  2024-01-01 - 2024-12-31                   \n",
      "************************************************************\n",
      "product\tstart date\tend date\tamount\trenewable\n",
      "************************************************************\n",
      "1\t2024-01-01\t2024-12-31\t$10,000\tTrue\n",
      "************************************************************\n",
      "\n"
     ]
    }
   ],
   "source": [
    "from arr import Contract, ContractLine\n",
    "\n",
    "short_contract = Contract(\n",
    "    1,\n",
    "    ContractHeader(10_000, date(2024, 1, 1), date(2024, 3, 31)),\n",
    "    [\n",
    "        ContractLine(2_500, date(2024, 1, 1), date(2024, 3, 31), 1, True),\n",
    "        ContractLine(2_500, date(2024, 1, 1), date(2024, 3, 31), 2, True),\n",
    "        ContractLine(2_500, date(2024, 1, 1), date(2024, 3, 31), 3, True),\n",
    "        ContractLine(2_500, date(2024, 1, 1), date(2024, 3, 31), 4, True),\n",
    "    ],\n",
    "    \"Customer 1\"\n",
    ")\n",
    "\n",
    "reg_contract1 = Contract(\n",
    "    2,\n",
    "    ContractHeader(10_000, date(2024, 1, 1), date(2024, 12, 31)),\n",
    "    [\n",
    "        ContractLine(10_000, date(2024, 1, 1), date(2024, 12, 31), 1, True),\n",
    "    ],\n",
    "    \"Customer 2\"\n",
    ")\n",
    "\n",
    "reg_contract2 = Contract(\n",
    "    3,\n",
    "    ContractHeader(10_000, date(2024, 1, 1), date(2024, 12, 31)),\n",
    "    [\n",
    "        ContractLine(10_000, date(2024, 1, 1), date(2024, 12, 31), 1, True),\n",
    "    ],\n",
    "    \"Customer 3\"\n",
    ")\n",
    "\n",
    "print(short_contract, reg_contract1, reg_contract2, sep=f\"\\n{'-'*55}\\n\")"
   ]
  },
  {
   "cell_type": "markdown",
   "metadata": {},
   "source": [
    "# TODO: Rework this section w/ the `to_df` methods from the `Contract` dataclass"
   ]
  },
  {
   "cell_type": "code",
   "execution_count": null,
   "metadata": {},
   "outputs": [],
   "source": [
    "from IPython.display import Code\n",
    "from inspect import getsource\n",
    "\n",
    "Code(getsource(short_contract.to_df), language=\"python3\")"
   ]
  },
  {
   "cell_type": "code",
   "execution_count": 25,
   "metadata": {},
   "outputs": [
    {
     "data": {
      "text/html": [
       "<div>\n",
       "<style scoped>\n",
       "    .dataframe tbody tr th:only-of-type {\n",
       "        vertical-align: middle;\n",
       "    }\n",
       "\n",
       "    .dataframe tbody tr th {\n",
       "        vertical-align: top;\n",
       "    }\n",
       "\n",
       "    .dataframe thead th {\n",
       "        text-align: right;\n",
       "    }\n",
       "</style>\n",
       "<table border=\"1\" class=\"dataframe\">\n",
       "  <thead>\n",
       "    <tr style=\"text-align: right;\">\n",
       "      <th></th>\n",
       "      <th>period</th>\n",
       "      <th>id</th>\n",
       "      <th>customer</th>\n",
       "      <th>header.amount</th>\n",
       "      <th>header.start_date</th>\n",
       "      <th>header.end_date</th>\n",
       "      <th>header.booking_date</th>\n",
       "      <th>line.amount</th>\n",
       "      <th>line.start_date</th>\n",
       "      <th>line.end_date</th>\n",
       "      <th>line.product</th>\n",
       "      <th>line.renewable</th>\n",
       "      <th>active</th>\n",
       "      <th>deferred</th>\n",
       "      <th>acv</th>\n",
       "    </tr>\n",
       "  </thead>\n",
       "  <tbody>\n",
       "    <tr>\n",
       "      <th>0</th>\n",
       "      <td>2024-01-31</td>\n",
       "      <td>1</td>\n",
       "      <td>Customer 1</td>\n",
       "      <td>10000</td>\n",
       "      <td>2024-01-01</td>\n",
       "      <td>2024-03-31</td>\n",
       "      <td>2024-01-01</td>\n",
       "      <td>2500</td>\n",
       "      <td>2024-01-01</td>\n",
       "      <td>2024-03-31</td>\n",
       "      <td>1</td>\n",
       "      <td>True</td>\n",
       "      <td>True</td>\n",
       "      <td>False</td>\n",
       "      <td>10000.0</td>\n",
       "    </tr>\n",
       "    <tr>\n",
       "      <th>1</th>\n",
       "      <td>2024-01-31</td>\n",
       "      <td>1</td>\n",
       "      <td>Customer 1</td>\n",
       "      <td>10000</td>\n",
       "      <td>2024-01-01</td>\n",
       "      <td>2024-03-31</td>\n",
       "      <td>2024-01-01</td>\n",
       "      <td>2500</td>\n",
       "      <td>2024-01-01</td>\n",
       "      <td>2024-03-31</td>\n",
       "      <td>2</td>\n",
       "      <td>True</td>\n",
       "      <td>True</td>\n",
       "      <td>False</td>\n",
       "      <td>10000.0</td>\n",
       "    </tr>\n",
       "    <tr>\n",
       "      <th>2</th>\n",
       "      <td>2024-01-31</td>\n",
       "      <td>1</td>\n",
       "      <td>Customer 1</td>\n",
       "      <td>10000</td>\n",
       "      <td>2024-01-01</td>\n",
       "      <td>2024-03-31</td>\n",
       "      <td>2024-01-01</td>\n",
       "      <td>2500</td>\n",
       "      <td>2024-01-01</td>\n",
       "      <td>2024-03-31</td>\n",
       "      <td>3</td>\n",
       "      <td>True</td>\n",
       "      <td>True</td>\n",
       "      <td>False</td>\n",
       "      <td>10000.0</td>\n",
       "    </tr>\n",
       "    <tr>\n",
       "      <th>3</th>\n",
       "      <td>2024-01-31</td>\n",
       "      <td>1</td>\n",
       "      <td>Customer 1</td>\n",
       "      <td>10000</td>\n",
       "      <td>2024-01-01</td>\n",
       "      <td>2024-03-31</td>\n",
       "      <td>2024-01-01</td>\n",
       "      <td>2500</td>\n",
       "      <td>2024-01-01</td>\n",
       "      <td>2024-03-31</td>\n",
       "      <td>4</td>\n",
       "      <td>True</td>\n",
       "      <td>True</td>\n",
       "      <td>False</td>\n",
       "      <td>10000.0</td>\n",
       "    </tr>\n",
       "    <tr>\n",
       "      <th>4</th>\n",
       "      <td>2024-02-29</td>\n",
       "      <td>1</td>\n",
       "      <td>Customer 1</td>\n",
       "      <td>10000</td>\n",
       "      <td>2024-01-01</td>\n",
       "      <td>2024-03-31</td>\n",
       "      <td>2024-01-01</td>\n",
       "      <td>2500</td>\n",
       "      <td>2024-01-01</td>\n",
       "      <td>2024-03-31</td>\n",
       "      <td>1</td>\n",
       "      <td>True</td>\n",
       "      <td>True</td>\n",
       "      <td>False</td>\n",
       "      <td>10000.0</td>\n",
       "    </tr>\n",
       "    <tr>\n",
       "      <th>5</th>\n",
       "      <td>2024-02-29</td>\n",
       "      <td>1</td>\n",
       "      <td>Customer 1</td>\n",
       "      <td>10000</td>\n",
       "      <td>2024-01-01</td>\n",
       "      <td>2024-03-31</td>\n",
       "      <td>2024-01-01</td>\n",
       "      <td>2500</td>\n",
       "      <td>2024-01-01</td>\n",
       "      <td>2024-03-31</td>\n",
       "      <td>2</td>\n",
       "      <td>True</td>\n",
       "      <td>True</td>\n",
       "      <td>False</td>\n",
       "      <td>10000.0</td>\n",
       "    </tr>\n",
       "    <tr>\n",
       "      <th>6</th>\n",
       "      <td>2024-02-29</td>\n",
       "      <td>1</td>\n",
       "      <td>Customer 1</td>\n",
       "      <td>10000</td>\n",
       "      <td>2024-01-01</td>\n",
       "      <td>2024-03-31</td>\n",
       "      <td>2024-01-01</td>\n",
       "      <td>2500</td>\n",
       "      <td>2024-01-01</td>\n",
       "      <td>2024-03-31</td>\n",
       "      <td>3</td>\n",
       "      <td>True</td>\n",
       "      <td>True</td>\n",
       "      <td>False</td>\n",
       "      <td>10000.0</td>\n",
       "    </tr>\n",
       "    <tr>\n",
       "      <th>7</th>\n",
       "      <td>2024-02-29</td>\n",
       "      <td>1</td>\n",
       "      <td>Customer 1</td>\n",
       "      <td>10000</td>\n",
       "      <td>2024-01-01</td>\n",
       "      <td>2024-03-31</td>\n",
       "      <td>2024-01-01</td>\n",
       "      <td>2500</td>\n",
       "      <td>2024-01-01</td>\n",
       "      <td>2024-03-31</td>\n",
       "      <td>4</td>\n",
       "      <td>True</td>\n",
       "      <td>True</td>\n",
       "      <td>False</td>\n",
       "      <td>10000.0</td>\n",
       "    </tr>\n",
       "    <tr>\n",
       "      <th>8</th>\n",
       "      <td>2024-03-31</td>\n",
       "      <td>1</td>\n",
       "      <td>Customer 1</td>\n",
       "      <td>10000</td>\n",
       "      <td>2024-01-01</td>\n",
       "      <td>2024-03-31</td>\n",
       "      <td>2024-01-01</td>\n",
       "      <td>2500</td>\n",
       "      <td>2024-01-01</td>\n",
       "      <td>2024-03-31</td>\n",
       "      <td>1</td>\n",
       "      <td>True</td>\n",
       "      <td>True</td>\n",
       "      <td>False</td>\n",
       "      <td>10000.0</td>\n",
       "    </tr>\n",
       "    <tr>\n",
       "      <th>9</th>\n",
       "      <td>2024-03-31</td>\n",
       "      <td>1</td>\n",
       "      <td>Customer 1</td>\n",
       "      <td>10000</td>\n",
       "      <td>2024-01-01</td>\n",
       "      <td>2024-03-31</td>\n",
       "      <td>2024-01-01</td>\n",
       "      <td>2500</td>\n",
       "      <td>2024-01-01</td>\n",
       "      <td>2024-03-31</td>\n",
       "      <td>2</td>\n",
       "      <td>True</td>\n",
       "      <td>True</td>\n",
       "      <td>False</td>\n",
       "      <td>10000.0</td>\n",
       "    </tr>\n",
       "    <tr>\n",
       "      <th>10</th>\n",
       "      <td>2024-03-31</td>\n",
       "      <td>1</td>\n",
       "      <td>Customer 1</td>\n",
       "      <td>10000</td>\n",
       "      <td>2024-01-01</td>\n",
       "      <td>2024-03-31</td>\n",
       "      <td>2024-01-01</td>\n",
       "      <td>2500</td>\n",
       "      <td>2024-01-01</td>\n",
       "      <td>2024-03-31</td>\n",
       "      <td>3</td>\n",
       "      <td>True</td>\n",
       "      <td>True</td>\n",
       "      <td>False</td>\n",
       "      <td>10000.0</td>\n",
       "    </tr>\n",
       "    <tr>\n",
       "      <th>11</th>\n",
       "      <td>2024-03-31</td>\n",
       "      <td>1</td>\n",
       "      <td>Customer 1</td>\n",
       "      <td>10000</td>\n",
       "      <td>2024-01-01</td>\n",
       "      <td>2024-03-31</td>\n",
       "      <td>2024-01-01</td>\n",
       "      <td>2500</td>\n",
       "      <td>2024-01-01</td>\n",
       "      <td>2024-03-31</td>\n",
       "      <td>4</td>\n",
       "      <td>True</td>\n",
       "      <td>True</td>\n",
       "      <td>False</td>\n",
       "      <td>10000.0</td>\n",
       "    </tr>\n",
       "  </tbody>\n",
       "</table>\n",
       "</div>"
      ],
      "text/plain": [
       "       period  id    customer  header.amount header.start_date  \\\n",
       "0  2024-01-31   1  Customer 1          10000        2024-01-01   \n",
       "1  2024-01-31   1  Customer 1          10000        2024-01-01   \n",
       "2  2024-01-31   1  Customer 1          10000        2024-01-01   \n",
       "3  2024-01-31   1  Customer 1          10000        2024-01-01   \n",
       "4  2024-02-29   1  Customer 1          10000        2024-01-01   \n",
       "5  2024-02-29   1  Customer 1          10000        2024-01-01   \n",
       "6  2024-02-29   1  Customer 1          10000        2024-01-01   \n",
       "7  2024-02-29   1  Customer 1          10000        2024-01-01   \n",
       "8  2024-03-31   1  Customer 1          10000        2024-01-01   \n",
       "9  2024-03-31   1  Customer 1          10000        2024-01-01   \n",
       "10 2024-03-31   1  Customer 1          10000        2024-01-01   \n",
       "11 2024-03-31   1  Customer 1          10000        2024-01-01   \n",
       "\n",
       "   header.end_date header.booking_date  line.amount line.start_date  \\\n",
       "0       2024-03-31          2024-01-01         2500      2024-01-01   \n",
       "1       2024-03-31          2024-01-01         2500      2024-01-01   \n",
       "2       2024-03-31          2024-01-01         2500      2024-01-01   \n",
       "3       2024-03-31          2024-01-01         2500      2024-01-01   \n",
       "4       2024-03-31          2024-01-01         2500      2024-01-01   \n",
       "5       2024-03-31          2024-01-01         2500      2024-01-01   \n",
       "6       2024-03-31          2024-01-01         2500      2024-01-01   \n",
       "7       2024-03-31          2024-01-01         2500      2024-01-01   \n",
       "8       2024-03-31          2024-01-01         2500      2024-01-01   \n",
       "9       2024-03-31          2024-01-01         2500      2024-01-01   \n",
       "10      2024-03-31          2024-01-01         2500      2024-01-01   \n",
       "11      2024-03-31          2024-01-01         2500      2024-01-01   \n",
       "\n",
       "   line.end_date  line.product  line.renewable  active  deferred      acv  \n",
       "0     2024-03-31             1            True    True     False  10000.0  \n",
       "1     2024-03-31             2            True    True     False  10000.0  \n",
       "2     2024-03-31             3            True    True     False  10000.0  \n",
       "3     2024-03-31             4            True    True     False  10000.0  \n",
       "4     2024-03-31             1            True    True     False  10000.0  \n",
       "5     2024-03-31             2            True    True     False  10000.0  \n",
       "6     2024-03-31             3            True    True     False  10000.0  \n",
       "7     2024-03-31             4            True    True     False  10000.0  \n",
       "8     2024-03-31             1            True    True     False  10000.0  \n",
       "9     2024-03-31             2            True    True     False  10000.0  \n",
       "10    2024-03-31             3            True    True     False  10000.0  \n",
       "11    2024-03-31             4            True    True     False  10000.0  "
      ]
     },
     "execution_count": 25,
     "metadata": {},
     "output_type": "execute_result"
    }
   ],
   "source": [
    "import pandas as pd\n",
    "\n",
    "df = pd.concat(\n",
    "    [short_contract.to_acv_df(), reg_contract1.to_acv_df(), reg_contract2.to_acv_df()],\n",
    "    ignore_index=True,\n",
    ")\n",
    "df[df.customer == 'Customer 1']"
   ]
  },
  {
   "cell_type": "code",
   "execution_count": 26,
   "metadata": {},
   "outputs": [
    {
     "data": {
      "text/plain": [
       "<Axes: xlabel='period'>"
      ]
     },
     "execution_count": 26,
     "metadata": {},
     "output_type": "execute_result"
    },
    {
     "data": {
      "image/png": "[encoded data removed]",
      "text/plain": [
       "<Figure size 640x480 with 1 Axes>"
      ]
     },
     "metadata": {},
     "output_type": "display_data"
    }
   ],
   "source": [
    "df[['period','acv']].groupby('period').sum().plot()"
   ]
  },
  {
   "cell_type": "markdown",
   "metadata": {},
   "source": [
    "Take note of the $\\text{2,500}$ line amounts for Contract # 1."
   ]
  },
  {
   "cell_type": "markdown",
   "metadata": {},
   "source": [
    "When annualizing contracts **shorter** than 1 year, the ACV increases from the TCV. Annualizing contracts **longer** than 1 year, the ACV decreases from TCV. The implications of shorter contracts mean the company will chase after a larger ACV in a shorter amount of time. The example above shows that. Contract # 1 has 4 lines at 2.5k each. When annualizing, the 2.5k increases into 10k, but quickly falls to 0 when the contract is over.\n",
    "\n",
    "In my experience, shorter contracts are often used as a back door *trial/demo*. It's a way to give a customer the product for a short period of time. This means the renewal implications are not always the same as a full year contract or more, so you're likely to see the big swing in shorter contracts on the down side.\n",
    "\n",
    "<div class=\"alert alert-block alert-warning\">\n",
    "At scale, seeing the quick rise and fall of shorter contracts can often push a business decision to not annualize contracts shorter than a 1 year time frame.\n",
    "</div>"
   ]
  },
  {
   "cell_type": "markdown",
   "metadata": {},
   "source": [
    "### Ramp Contracts"
   ]
  },
  {
   "cell_type": "markdown",
   "metadata": {},
   "source": [
    "A [ramp contract](https://dealhub.io/glossary/ramp-deal/) will have a change in price during the term of the contract. A common reason for ramp contracts is to lock the customer in for multiple years. The first year starts at price, then the subsequent years increase in price over time."
   ]
  },
  {
   "cell_type": "code",
   "execution_count": 11,
   "metadata": {},
   "outputs": [
    {
     "data": {
      "text/plain": [
       "                      Example Customer                      \n",
       "             Contract #1 - $36,000 - 2024-01-01             \n",
       "                  2024-01-01 - 2026-12-31                   \n",
       "************************************************************\n",
       "product\tstart date\tend date\tamount\trenewable\n",
       "************************************************************\n",
       "1\t2024-01-01\t2024-12-31\t$4,000\tTrue\n",
       "2\t2024-01-01\t2024-12-31\t$4,000\tTrue\n",
       "1\t2025-01-01\t2025-12-31\t$6,000\tTrue\n",
       "2\t2025-01-01\t2025-12-31\t$6,000\tTrue\n",
       "1\t2026-01-01\t2026-12-31\t$8,000\tTrue\n",
       "2\t2026-01-01\t2026-12-31\t$8,000\tTrue\n",
       "************************************************************"
      ]
     },
     "execution_count": 11,
     "metadata": {},
     "output_type": "execute_result"
    }
   ],
   "source": [
    "ramp_contract = Contract(\n",
    "    1,\n",
    "    ContractHeader(36_000, date(2024, 1, 1), date(2026, 12, 31)),\n",
    "    [\n",
    "        ContractLine(4_000, date(2024, 1, 1), date(2024, 12, 31), 1, True),\n",
    "        ContractLine(4_000, date(2024, 1, 1), date(2024, 12, 31), 2, True),\n",
    "        ContractLine(6_000, date(2025, 1, 1), date(2025, 12, 31), 1, True),\n",
    "        ContractLine(6_000, date(2025, 1, 1), date(2025, 12, 31), 2, True),\n",
    "        ContractLine(8_000, date(2026, 1, 1), date(2026, 12, 31), 1, True),\n",
    "        ContractLine(8_000, date(2026, 1, 1), date(2026, 12, 31), 2, True),\n",
    "    ],\n",
    ")\n",
    "ramp_contract"
   ]
  },
  {
   "cell_type": "markdown",
   "metadata": {},
   "source": [
    "Contract # 1 has a TCV of $\\text{36k}$, over the course of 3 years. It has two different items in the contract and ramps up 2k each year for each item. Often times, ACV calculations will only annualize by header dates of contracts. Annualizing at the header does not give the full story."
   ]
  },
  {
   "cell_type": "code",
   "execution_count": 12,
   "metadata": {},
   "outputs": [
    {
     "ename": "NameError",
     "evalue": "name 'build_acv_table' is not defined",
     "output_type": "error",
     "traceback": [
      "\u001b[1;31m---------------------------------------------------------------------------\u001b[0m",
      "\u001b[1;31mNameError\u001b[0m                                 Traceback (most recent call last)",
      "Cell \u001b[1;32mIn[12], line 1\u001b[0m\n\u001b[1;32m----> 1\u001b[0m by_lines \u001b[38;5;241m=\u001b[39m \u001b[43mbuild_acv_table\u001b[49m([ramp_contract])\n\u001b[0;32m      2\u001b[0m by_header \u001b[38;5;241m=\u001b[39m build_acv_table([ramp_contract], \u001b[38;5;28;01mFalse\u001b[39;00m)\n\u001b[0;32m      4\u001b[0m \u001b[38;5;28mprint\u001b[39m(\u001b[38;5;124m\"\u001b[39m\u001b[38;5;124mARR of Ramp Contract by Header Dates\u001b[39m\u001b[38;5;124m\"\u001b[39m)\n",
      "\u001b[1;31mNameError\u001b[0m: name 'build_acv_table' is not defined"
     ]
    }
   ],
   "source": [
    "by_lines = build_acv_table([ramp_contract])\n",
    "by_header = build_acv_table([ramp_contract], False)\n",
    "\n",
    "print(\"ARR of Ramp Contract by Header Dates\")\n",
    "display(by_header)\n",
    "print(\"ARR of Ramp Contract by Line Dates\")\n",
    "display(by_lines)"
   ]
  },
  {
   "cell_type": "markdown",
   "metadata": {},
   "source": [
    "$\\begin{matrix}\n",
    " \\text{Header} & \\to \\text{TCV 36k} & \\to & \\begin{matrix}12k & \\to & \\text{Year 1}\\\\ 12k & \\to & \\text{Year 2}\\\\ 12k & \\to & \\text{Year 3}\\end{matrix}\n",
    " \\\\\\\\\n",
    "\\text{Line} & \\to \\text{TCV 36k} & \\to & \\begin{matrix}8k & \\to & \\text{Year 1}\\\\ 12k & \\to & \\text{Year 2}\\\\ 16k & \\to & \\text{Year 3}\\end{matrix}\n",
    "\\end{matrix}$"
   ]
  },
  {
   "cell_type": "markdown",
   "metadata": {},
   "source": [
    "<div class=\"alert alert-block alert-info\">\n",
    "Annualizing by the line start and end dates is preferred over annualizing by header start and end dates.\n",
    "</div>"
   ]
  }
 ],
 "metadata": {
  "kernelspec": {
   "display_name": "Python 3",
   "language": "python",
   "name": "python3"
  },
  "language_info": {
   "codemirror_mode": {
    "name": "ipython",
    "version": 3
   },
   "file_extension": ".py",
   "mimetype": "text/x-python",
   "name": "python",
   "nbconvert_exporter": "python",
   "pygments_lexer": "ipython3",
   "version": "3.12.7"
  }
 },
 "nbformat": 4,
 "nbformat_minor": 2
}
