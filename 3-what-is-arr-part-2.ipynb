{
 "cells": [
  {
   "cell_type": "markdown",
   "metadata": {},
   "source": [
    "Now that we have a few classes and funcs created, let's look at what could go wrong."
   ]
  },
  {
   "cell_type": "code",
   "execution_count": 1,
   "metadata": {},
   "outputs": [],
   "source": [
    "from arr import ContractHeader, annualize\n",
    "from datetime import date"
   ]
  },
  {
   "cell_type": "markdown",
   "metadata": {},
   "source": [
    "### Leap Years"
   ]
  },
  {
   "cell_type": "markdown",
   "metadata": {},
   "source": [
    "Start with a 20k TCV contract starting on January 2024 and an ending on January 2026."
   ]
  },
  {
   "cell_type": "code",
   "execution_count": 2,
   "metadata": {},
   "outputs": [
    {
     "name": "stdout",
     "output_type": "stream",
     "text": [
      "Results of leap year:\n",
      "Not generalizing leap year: 10013.68\n",
      "Generalizing leap year: 10000.00\n"
     ]
    }
   ],
   "source": [
    "contract = ContractHeader(20_000, date(2024, 1, 15), date(2026, 1, 14))\n",
    "\n",
    "dont_generalize_leap_year = annualize(contract, date(2024, 6, 30), \"Day\", False)\n",
    "generalize_leap_year = annualize(contract, date(2024, 6, 30), \"Day\", True)\n",
    "\n",
    "print(\"Results of leap year:\")\n",
    "print(f\"Not generalizing leap year: {dont_generalize_leap_year:.2f}\")\n",
    "print(f\"Generalizing leap year: {generalize_leap_year:.2f}\")"
   ]
  },
  {
   "cell_type": "markdown",
   "metadata": {},
   "source": [
    "Simple thought would suggest that 20k TCV of 2 years will have a 10k ACV, but **take caution when getting granular as days, because leap years will make an appearance**. Let's look at the implication of this over time. Consider the below 3 year deal and let's ask, \"What is the ACV of this contract month over month? and how do leap years show in the data?\"\n",
    "\n",
    "$\n",
    "\\begin{matrix}\n",
    "\\text{Contract} & \\text{Start Date} & \\text{End Date} & \\text{Total Contract Value} \\\\\n",
    "\\text{001} & \\text{06/15/2023} & \\text{06/14/2025} & 30000 \n",
    "\\end{matrix}\n",
    "$"
   ]
  },
  {
   "cell_type": "code",
   "execution_count": 20,
   "metadata": {},
   "outputs": [
    {
     "data": {
      "application/vnd.plotly.v1+json": {
       "config": {
        "plotlyServerURL": "https://plot.ly"
       },
       "data": [
        {
         "hovertemplate": "x=%{x}<br>y=%{y}<extra></extra>",
         "legendgroup": "",
         "line": {
          "color": "#636efa",
          "dash": "solid"
         },
         "marker": {
          "symbol": "circle"
         },
         "mode": "lines",
         "name": "",
         "orientation": "v",
         "showlegend": false,
         "type": "scatter",
         "x": [
          "2023-06-30",
          "2023-07-31",
          "2023-08-31",
          "2023-09-30",
          "2023-10-31",
          "2023-11-30",
          "2023-12-31",
          "2024-01-31",
          "2024-02-29",
          "2024-03-31",
          "2024-04-30",
          "2024-05-31",
          "2024-06-30",
          "2024-07-31",
          "2024-08-31",
          "2024-09-30",
          "2024-10-31",
          "2024-11-30",
          "2024-12-31",
          "2025-01-31",
          "2025-02-28",
          "2025-03-31",
          "2025-04-30",
          "2025-05-31"
         ],
         "xaxis": "x",
         "y": [
          14979.480164158686,
          14979.480164158686,
          14979.480164158686,
          14979.480164158686,
          14979.480164158686,
          14979.480164158686,
          14979.480164158686,
          15020.519835841314,
          15020.519835841314,
          15020.519835841314,
          15020.519835841314,
          15020.519835841314,
          15020.519835841314,
          15020.519835841314,
          15020.519835841314,
          15020.519835841314,
          15020.519835841314,
          15020.519835841314,
          15020.519835841314,
          14979.480164158686,
          14979.480164158686,
          14979.480164158686,
          14979.480164158686,
          14979.480164158686
         ],
         "yaxis": "y"
        }
       ],
       "layout": {
        "legend": {
         "tracegroupgap": 0
        },
        "template": {
         "data": {
          "bar": [
           {
            "error_x": {
             "color": "#2a3f5f"
            },
            "error_y": {
             "color": "#2a3f5f"
            },
            "marker": {
             "line": {
              "color": "#E5ECF6",
              "width": 0.5
             },
             "pattern": {
              "fillmode": "overlay",
              "size": 10,
              "solidity": 0.2
             }
            },
            "type": "bar"
           }
          ],
          "barpolar": [
           {
            "marker": {
             "line": {
              "color": "#E5ECF6",
              "width": 0.5
             },
             "pattern": {
              "fillmode": "overlay",
              "size": 10,
              "solidity": 0.2
             }
            },
            "type": "barpolar"
           }
          ],
          "carpet": [
           {
            "aaxis": {
             "endlinecolor": "#2a3f5f",
             "gridcolor": "white",
             "linecolor": "white",
             "minorgridcolor": "white",
             "startlinecolor": "#2a3f5f"
            },
            "baxis": {
             "endlinecolor": "#2a3f5f",
             "gridcolor": "white",
             "linecolor": "white",
             "minorgridcolor": "white",
             "startlinecolor": "#2a3f5f"
            },
            "type": "carpet"
           }
          ],
          "choropleth": [
           {
            "colorbar": {
             "outlinewidth": 0,
             "ticks": ""
            },
            "type": "choropleth"
           }
          ],
          "contour": [
           {
            "colorbar": {
             "outlinewidth": 0,
             "ticks": ""
            },
            "colorscale": [
             [
              0,
              "#0d0887"
             ],
             [
              0.1111111111111111,
              "#46039f"
             ],
             [
              0.2222222222222222,
              "#7201a8"
             ],
             [
              0.3333333333333333,
              "#9c179e"
             ],
             [
              0.4444444444444444,
              "#bd3786"
             ],
             [
              0.5555555555555556,
              "#d8576b"
             ],
             [
              0.6666666666666666,
              "#ed7953"
             ],
             [
              0.7777777777777778,
              "#fb9f3a"
             ],
             [
              0.8888888888888888,
              "#fdca26"
             ],
             [
              1,
              "#f0f921"
             ]
            ],
            "type": "contour"
           }
          ],
          "contourcarpet": [
           {
            "colorbar": {
             "outlinewidth": 0,
             "ticks": ""
            },
            "type": "contourcarpet"
           }
          ],
          "heatmap": [
           {
            "colorbar": {
             "outlinewidth": 0,
             "ticks": ""
            },
            "colorscale": [
             [
              0,
              "#0d0887"
             ],
             [
              0.1111111111111111,
              "#46039f"
             ],
             [
              0.2222222222222222,
              "#7201a8"
             ],
             [
              0.3333333333333333,
              "#9c179e"
             ],
             [
              0.4444444444444444,
              "#bd3786"
             ],
             [
              0.5555555555555556,
              "#d8576b"
             ],
             [
              0.6666666666666666,
              "#ed7953"
             ],
             [
              0.7777777777777778,
              "#fb9f3a"
             ],
             [
              0.8888888888888888,
              "#fdca26"
             ],
             [
              1,
              "#f0f921"
             ]
            ],
            "type": "heatmap"
           }
          ],
          "heatmapgl": [
           {
            "colorbar": {
             "outlinewidth": 0,
             "ticks": ""
            },
            "colorscale": [
             [
              0,
              "#0d0887"
             ],
             [
              0.1111111111111111,
              "#46039f"
             ],
             [
              0.2222222222222222,
              "#7201a8"
             ],
             [
              0.3333333333333333,
              "#9c179e"
             ],
             [
              0.4444444444444444,
              "#bd3786"
             ],
             [
              0.5555555555555556,
              "#d8576b"
             ],
             [
              0.6666666666666666,
              "#ed7953"
             ],
             [
              0.7777777777777778,
              "#fb9f3a"
             ],
             [
              0.8888888888888888,
              "#fdca26"
             ],
             [
              1,
              "#f0f921"
             ]
            ],
            "type": "heatmapgl"
           }
          ],
          "histogram": [
           {
            "marker": {
             "pattern": {
              "fillmode": "overlay",
              "size": 10,
              "solidity": 0.2
             }
            },
            "type": "histogram"
           }
          ],
          "histogram2d": [
           {
            "colorbar": {
             "outlinewidth": 0,
             "ticks": ""
            },
            "colorscale": [
             [
              0,
              "#0d0887"
             ],
             [
              0.1111111111111111,
              "#46039f"
             ],
             [
              0.2222222222222222,
              "#7201a8"
             ],
             [
              0.3333333333333333,
              "#9c179e"
             ],
             [
              0.4444444444444444,
              "#bd3786"
             ],
             [
              0.5555555555555556,
              "#d8576b"
             ],
             [
              0.6666666666666666,
              "#ed7953"
             ],
             [
              0.7777777777777778,
              "#fb9f3a"
             ],
             [
              0.8888888888888888,
              "#fdca26"
             ],
             [
              1,
              "#f0f921"
             ]
            ],
            "type": "histogram2d"
           }
          ],
          "histogram2dcontour": [
           {
            "colorbar": {
             "outlinewidth": 0,
             "ticks": ""
            },
            "colorscale": [
             [
              0,
              "#0d0887"
             ],
             [
              0.1111111111111111,
              "#46039f"
             ],
             [
              0.2222222222222222,
              "#7201a8"
             ],
             [
              0.3333333333333333,
              "#9c179e"
             ],
             [
              0.4444444444444444,
              "#bd3786"
             ],
             [
              0.5555555555555556,
              "#d8576b"
             ],
             [
              0.6666666666666666,
              "#ed7953"
             ],
             [
              0.7777777777777778,
              "#fb9f3a"
             ],
             [
              0.8888888888888888,
              "#fdca26"
             ],
             [
              1,
              "#f0f921"
             ]
            ],
            "type": "histogram2dcontour"
           }
          ],
          "mesh3d": [
           {
            "colorbar": {
             "outlinewidth": 0,
             "ticks": ""
            },
            "type": "mesh3d"
           }
          ],
          "parcoords": [
           {
            "line": {
             "colorbar": {
              "outlinewidth": 0,
              "ticks": ""
             }
            },
            "type": "parcoords"
           }
          ],
          "pie": [
           {
            "automargin": true,
            "type": "pie"
           }
          ],
          "scatter": [
           {
            "fillpattern": {
             "fillmode": "overlay",
             "size": 10,
             "solidity": 0.2
            },
            "type": "scatter"
           }
          ],
          "scatter3d": [
           {
            "line": {
             "colorbar": {
              "outlinewidth": 0,
              "ticks": ""
             }
            },
            "marker": {
             "colorbar": {
              "outlinewidth": 0,
              "ticks": ""
             }
            },
            "type": "scatter3d"
           }
          ],
          "scattercarpet": [
           {
            "marker": {
             "colorbar": {
              "outlinewidth": 0,
              "ticks": ""
             }
            },
            "type": "scattercarpet"
           }
          ],
          "scattergeo": [
           {
            "marker": {
             "colorbar": {
              "outlinewidth": 0,
              "ticks": ""
             }
            },
            "type": "scattergeo"
           }
          ],
          "scattergl": [
           {
            "marker": {
             "colorbar": {
              "outlinewidth": 0,
              "ticks": ""
             }
            },
            "type": "scattergl"
           }
          ],
          "scattermapbox": [
           {
            "marker": {
             "colorbar": {
              "outlinewidth": 0,
              "ticks": ""
             }
            },
            "type": "scattermapbox"
           }
          ],
          "scatterpolar": [
           {
            "marker": {
             "colorbar": {
              "outlinewidth": 0,
              "ticks": ""
             }
            },
            "type": "scatterpolar"
           }
          ],
          "scatterpolargl": [
           {
            "marker": {
             "colorbar": {
              "outlinewidth": 0,
              "ticks": ""
             }
            },
            "type": "scatterpolargl"
           }
          ],
          "scatterternary": [
           {
            "marker": {
             "colorbar": {
              "outlinewidth": 0,
              "ticks": ""
             }
            },
            "type": "scatterternary"
           }
          ],
          "surface": [
           {
            "colorbar": {
             "outlinewidth": 0,
             "ticks": ""
            },
            "colorscale": [
             [
              0,
              "#0d0887"
             ],
             [
              0.1111111111111111,
              "#46039f"
             ],
             [
              0.2222222222222222,
              "#7201a8"
             ],
             [
              0.3333333333333333,
              "#9c179e"
             ],
             [
              0.4444444444444444,
              "#bd3786"
             ],
             [
              0.5555555555555556,
              "#d8576b"
             ],
             [
              0.6666666666666666,
              "#ed7953"
             ],
             [
              0.7777777777777778,
              "#fb9f3a"
             ],
             [
              0.8888888888888888,
              "#fdca26"
             ],
             [
              1,
              "#f0f921"
             ]
            ],
            "type": "surface"
           }
          ],
          "table": [
           {
            "cells": {
             "fill": {
              "color": "#EBF0F8"
             },
             "line": {
              "color": "white"
             }
            },
            "header": {
             "fill": {
              "color": "#C8D4E3"
             },
             "line": {
              "color": "white"
             }
            },
            "type": "table"
           }
          ]
         },
         "layout": {
          "annotationdefaults": {
           "arrowcolor": "#2a3f5f",
           "arrowhead": 0,
           "arrowwidth": 1
          },
          "autotypenumbers": "strict",
          "coloraxis": {
           "colorbar": {
            "outlinewidth": 0,
            "ticks": ""
           }
          },
          "colorscale": {
           "diverging": [
            [
             0,
             "#8e0152"
            ],
            [
             0.1,
             "#c51b7d"
            ],
            [
             0.2,
             "#de77ae"
            ],
            [
             0.3,
             "#f1b6da"
            ],
            [
             0.4,
             "#fde0ef"
            ],
            [
             0.5,
             "#f7f7f7"
            ],
            [
             0.6,
             "#e6f5d0"
            ],
            [
             0.7,
             "#b8e186"
            ],
            [
             0.8,
             "#7fbc41"
            ],
            [
             0.9,
             "#4d9221"
            ],
            [
             1,
             "#276419"
            ]
           ],
           "sequential": [
            [
             0,
             "#0d0887"
            ],
            [
             0.1111111111111111,
             "#46039f"
            ],
            [
             0.2222222222222222,
             "#7201a8"
            ],
            [
             0.3333333333333333,
             "#9c179e"
            ],
            [
             0.4444444444444444,
             "#bd3786"
            ],
            [
             0.5555555555555556,
             "#d8576b"
            ],
            [
             0.6666666666666666,
             "#ed7953"
            ],
            [
             0.7777777777777778,
             "#fb9f3a"
            ],
            [
             0.8888888888888888,
             "#fdca26"
            ],
            [
             1,
             "#f0f921"
            ]
           ],
           "sequentialminus": [
            [
             0,
             "#0d0887"
            ],
            [
             0.1111111111111111,
             "#46039f"
            ],
            [
             0.2222222222222222,
             "#7201a8"
            ],
            [
             0.3333333333333333,
             "#9c179e"
            ],
            [
             0.4444444444444444,
             "#bd3786"
            ],
            [
             0.5555555555555556,
             "#d8576b"
            ],
            [
             0.6666666666666666,
             "#ed7953"
            ],
            [
             0.7777777777777778,
             "#fb9f3a"
            ],
            [
             0.8888888888888888,
             "#fdca26"
            ],
            [
             1,
             "#f0f921"
            ]
           ]
          },
          "colorway": [
           "#636efa",
           "#EF553B",
           "#00cc96",
           "#ab63fa",
           "#FFA15A",
           "#19d3f3",
           "#FF6692",
           "#B6E880",
           "#FF97FF",
           "#FECB52"
          ],
          "font": {
           "color": "#2a3f5f"
          },
          "geo": {
           "bgcolor": "white",
           "lakecolor": "white",
           "landcolor": "#E5ECF6",
           "showlakes": true,
           "showland": true,
           "subunitcolor": "white"
          },
          "hoverlabel": {
           "align": "left"
          },
          "hovermode": "closest",
          "mapbox": {
           "style": "light"
          },
          "paper_bgcolor": "white",
          "plot_bgcolor": "#E5ECF6",
          "polar": {
           "angularaxis": {
            "gridcolor": "white",
            "linecolor": "white",
            "ticks": ""
           },
           "bgcolor": "#E5ECF6",
           "radialaxis": {
            "gridcolor": "white",
            "linecolor": "white",
            "ticks": ""
           }
          },
          "scene": {
           "xaxis": {
            "backgroundcolor": "#E5ECF6",
            "gridcolor": "white",
            "gridwidth": 2,
            "linecolor": "white",
            "showbackground": true,
            "ticks": "",
            "zerolinecolor": "white"
           },
           "yaxis": {
            "backgroundcolor": "#E5ECF6",
            "gridcolor": "white",
            "gridwidth": 2,
            "linecolor": "white",
            "showbackground": true,
            "ticks": "",
            "zerolinecolor": "white"
           },
           "zaxis": {
            "backgroundcolor": "#E5ECF6",
            "gridcolor": "white",
            "gridwidth": 2,
            "linecolor": "white",
            "showbackground": true,
            "ticks": "",
            "zerolinecolor": "white"
           }
          },
          "shapedefaults": {
           "line": {
            "color": "#2a3f5f"
           }
          },
          "ternary": {
           "aaxis": {
            "gridcolor": "white",
            "linecolor": "white",
            "ticks": ""
           },
           "baxis": {
            "gridcolor": "white",
            "linecolor": "white",
            "ticks": ""
           },
           "bgcolor": "#E5ECF6",
           "caxis": {
            "gridcolor": "white",
            "linecolor": "white",
            "ticks": ""
           }
          },
          "title": {
           "x": 0.05
          },
          "xaxis": {
           "automargin": true,
           "gridcolor": "white",
           "linecolor": "white",
           "ticks": "",
           "title": {
            "standoff": 15
           },
           "zerolinecolor": "white",
           "zerolinewidth": 2
          },
          "yaxis": {
           "automargin": true,
           "gridcolor": "white",
           "linecolor": "white",
           "ticks": "",
           "title": {
            "standoff": 15
           },
           "zerolinecolor": "white",
           "zerolinewidth": 2
          }
         }
        },
        "title": {
         "text": "ACV w/ Leap Year"
        },
        "xaxis": {
         "anchor": "y",
         "domain": [
          0,
          1
         ],
         "title": {
          "text": "x"
         }
        },
        "yaxis": {
         "anchor": "x",
         "domain": [
          0,
          1
         ],
         "title": {
          "text": "y"
         }
        }
       }
      }
     },
     "metadata": {},
     "output_type": "display_data"
    },
    {
     "data": {
      "application/vnd.plotly.v1+json": {
       "config": {
        "plotlyServerURL": "https://plot.ly"
       },
       "data": [
        {
         "hovertemplate": "x=%{x}<br>y=%{y}<extra></extra>",
         "legendgroup": "",
         "line": {
          "color": "#636efa",
          "dash": "solid"
         },
         "marker": {
          "symbol": "circle"
         },
         "mode": "lines",
         "name": "",
         "orientation": "v",
         "showlegend": false,
         "type": "scatter",
         "x": [
          "2023-06-30",
          "2023-07-31",
          "2023-08-31",
          "2023-09-30",
          "2023-10-31",
          "2023-11-30",
          "2023-12-31",
          "2024-01-31",
          "2024-02-29",
          "2024-03-31",
          "2024-04-30",
          "2024-05-31",
          "2024-06-30",
          "2024-07-31",
          "2024-08-31",
          "2024-09-30",
          "2024-10-31",
          "2024-11-30",
          "2024-12-31",
          "2025-01-31",
          "2025-02-28",
          "2025-03-31",
          "2025-04-30",
          "2025-05-31"
         ],
         "xaxis": "x",
         "y": [
          15000,
          15000,
          15000,
          15000,
          15000,
          15000,
          15000,
          15000,
          15000,
          15000,
          15000,
          15000,
          15000,
          15000,
          15000,
          15000,
          15000,
          15000,
          15000,
          15000,
          15000,
          15000,
          15000,
          15000
         ],
         "yaxis": "y"
        }
       ],
       "layout": {
        "legend": {
         "tracegroupgap": 0
        },
        "template": {
         "data": {
          "bar": [
           {
            "error_x": {
             "color": "#2a3f5f"
            },
            "error_y": {
             "color": "#2a3f5f"
            },
            "marker": {
             "line": {
              "color": "#E5ECF6",
              "width": 0.5
             },
             "pattern": {
              "fillmode": "overlay",
              "size": 10,
              "solidity": 0.2
             }
            },
            "type": "bar"
           }
          ],
          "barpolar": [
           {
            "marker": {
             "line": {
              "color": "#E5ECF6",
              "width": 0.5
             },
             "pattern": {
              "fillmode": "overlay",
              "size": 10,
              "solidity": 0.2
             }
            },
            "type": "barpolar"
           }
          ],
          "carpet": [
           {
            "aaxis": {
             "endlinecolor": "#2a3f5f",
             "gridcolor": "white",
             "linecolor": "white",
             "minorgridcolor": "white",
             "startlinecolor": "#2a3f5f"
            },
            "baxis": {
             "endlinecolor": "#2a3f5f",
             "gridcolor": "white",
             "linecolor": "white",
             "minorgridcolor": "white",
             "startlinecolor": "#2a3f5f"
            },
            "type": "carpet"
           }
          ],
          "choropleth": [
           {
            "colorbar": {
             "outlinewidth": 0,
             "ticks": ""
            },
            "type": "choropleth"
           }
          ],
          "contour": [
           {
            "colorbar": {
             "outlinewidth": 0,
             "ticks": ""
            },
            "colorscale": [
             [
              0,
              "#0d0887"
             ],
             [
              0.1111111111111111,
              "#46039f"
             ],
             [
              0.2222222222222222,
              "#7201a8"
             ],
             [
              0.3333333333333333,
              "#9c179e"
             ],
             [
              0.4444444444444444,
              "#bd3786"
             ],
             [
              0.5555555555555556,
              "#d8576b"
             ],
             [
              0.6666666666666666,
              "#ed7953"
             ],
             [
              0.7777777777777778,
              "#fb9f3a"
             ],
             [
              0.8888888888888888,
              "#fdca26"
             ],
             [
              1,
              "#f0f921"
             ]
            ],
            "type": "contour"
           }
          ],
          "contourcarpet": [
           {
            "colorbar": {
             "outlinewidth": 0,
             "ticks": ""
            },
            "type": "contourcarpet"
           }
          ],
          "heatmap": [
           {
            "colorbar": {
             "outlinewidth": 0,
             "ticks": ""
            },
            "colorscale": [
             [
              0,
              "#0d0887"
             ],
             [
              0.1111111111111111,
              "#46039f"
             ],
             [
              0.2222222222222222,
              "#7201a8"
             ],
             [
              0.3333333333333333,
              "#9c179e"
             ],
             [
              0.4444444444444444,
              "#bd3786"
             ],
             [
              0.5555555555555556,
              "#d8576b"
             ],
             [
              0.6666666666666666,
              "#ed7953"
             ],
             [
              0.7777777777777778,
              "#fb9f3a"
             ],
             [
              0.8888888888888888,
              "#fdca26"
             ],
             [
              1,
              "#f0f921"
             ]
            ],
            "type": "heatmap"
           }
          ],
          "heatmapgl": [
           {
            "colorbar": {
             "outlinewidth": 0,
             "ticks": ""
            },
            "colorscale": [
             [
              0,
              "#0d0887"
             ],
             [
              0.1111111111111111,
              "#46039f"
             ],
             [
              0.2222222222222222,
              "#7201a8"
             ],
             [
              0.3333333333333333,
              "#9c179e"
             ],
             [
              0.4444444444444444,
              "#bd3786"
             ],
             [
              0.5555555555555556,
              "#d8576b"
             ],
             [
              0.6666666666666666,
              "#ed7953"
             ],
             [
              0.7777777777777778,
              "#fb9f3a"
             ],
             [
              0.8888888888888888,
              "#fdca26"
             ],
             [
              1,
              "#f0f921"
             ]
            ],
            "type": "heatmapgl"
           }
          ],
          "histogram": [
           {
            "marker": {
             "pattern": {
              "fillmode": "overlay",
              "size": 10,
              "solidity": 0.2
             }
            },
            "type": "histogram"
           }
          ],
          "histogram2d": [
           {
            "colorbar": {
             "outlinewidth": 0,
             "ticks": ""
            },
            "colorscale": [
             [
              0,
              "#0d0887"
             ],
             [
              0.1111111111111111,
              "#46039f"
             ],
             [
              0.2222222222222222,
              "#7201a8"
             ],
             [
              0.3333333333333333,
              "#9c179e"
             ],
             [
              0.4444444444444444,
              "#bd3786"
             ],
             [
              0.5555555555555556,
              "#d8576b"
             ],
             [
              0.6666666666666666,
              "#ed7953"
             ],
             [
              0.7777777777777778,
              "#fb9f3a"
             ],
             [
              0.8888888888888888,
              "#fdca26"
             ],
             [
              1,
              "#f0f921"
             ]
            ],
            "type": "histogram2d"
           }
          ],
          "histogram2dcontour": [
           {
            "colorbar": {
             "outlinewidth": 0,
             "ticks": ""
            },
            "colorscale": [
             [
              0,
              "#0d0887"
             ],
             [
              0.1111111111111111,
              "#46039f"
             ],
             [
              0.2222222222222222,
              "#7201a8"
             ],
             [
              0.3333333333333333,
              "#9c179e"
             ],
             [
              0.4444444444444444,
              "#bd3786"
             ],
             [
              0.5555555555555556,
              "#d8576b"
             ],
             [
              0.6666666666666666,
              "#ed7953"
             ],
             [
              0.7777777777777778,
              "#fb9f3a"
             ],
             [
              0.8888888888888888,
              "#fdca26"
             ],
             [
              1,
              "#f0f921"
             ]
            ],
            "type": "histogram2dcontour"
           }
          ],
          "mesh3d": [
           {
            "colorbar": {
             "outlinewidth": 0,
             "ticks": ""
            },
            "type": "mesh3d"
           }
          ],
          "parcoords": [
           {
            "line": {
             "colorbar": {
              "outlinewidth": 0,
              "ticks": ""
             }
            },
            "type": "parcoords"
           }
          ],
          "pie": [
           {
            "automargin": true,
            "type": "pie"
           }
          ],
          "scatter": [
           {
            "fillpattern": {
             "fillmode": "overlay",
             "size": 10,
             "solidity": 0.2
            },
            "type": "scatter"
           }
          ],
          "scatter3d": [
           {
            "line": {
             "colorbar": {
              "outlinewidth": 0,
              "ticks": ""
             }
            },
            "marker": {
             "colorbar": {
              "outlinewidth": 0,
              "ticks": ""
             }
            },
            "type": "scatter3d"
           }
          ],
          "scattercarpet": [
           {
            "marker": {
             "colorbar": {
              "outlinewidth": 0,
              "ticks": ""
             }
            },
            "type": "scattercarpet"
           }
          ],
          "scattergeo": [
           {
            "marker": {
             "colorbar": {
              "outlinewidth": 0,
              "ticks": ""
             }
            },
            "type": "scattergeo"
           }
          ],
          "scattergl": [
           {
            "marker": {
             "colorbar": {
              "outlinewidth": 0,
              "ticks": ""
             }
            },
            "type": "scattergl"
           }
          ],
          "scattermapbox": [
           {
            "marker": {
             "colorbar": {
              "outlinewidth": 0,
              "ticks": ""
             }
            },
            "type": "scattermapbox"
           }
          ],
          "scatterpolar": [
           {
            "marker": {
             "colorbar": {
              "outlinewidth": 0,
              "ticks": ""
             }
            },
            "type": "scatterpolar"
           }
          ],
          "scatterpolargl": [
           {
            "marker": {
             "colorbar": {
              "outlinewidth": 0,
              "ticks": ""
             }
            },
            "type": "scatterpolargl"
           }
          ],
          "scatterternary": [
           {
            "marker": {
             "colorbar": {
              "outlinewidth": 0,
              "ticks": ""
             }
            },
            "type": "scatterternary"
           }
          ],
          "surface": [
           {
            "colorbar": {
             "outlinewidth": 0,
             "ticks": ""
            },
            "colorscale": [
             [
              0,
              "#0d0887"
             ],
             [
              0.1111111111111111,
              "#46039f"
             ],
             [
              0.2222222222222222,
              "#7201a8"
             ],
             [
              0.3333333333333333,
              "#9c179e"
             ],
             [
              0.4444444444444444,
              "#bd3786"
             ],
             [
              0.5555555555555556,
              "#d8576b"
             ],
             [
              0.6666666666666666,
              "#ed7953"
             ],
             [
              0.7777777777777778,
              "#fb9f3a"
             ],
             [
              0.8888888888888888,
              "#fdca26"
             ],
             [
              1,
              "#f0f921"
             ]
            ],
            "type": "surface"
           }
          ],
          "table": [
           {
            "cells": {
             "fill": {
              "color": "#EBF0F8"
             },
             "line": {
              "color": "white"
             }
            },
            "header": {
             "fill": {
              "color": "#C8D4E3"
             },
             "line": {
              "color": "white"
             }
            },
            "type": "table"
           }
          ]
         },
         "layout": {
          "annotationdefaults": {
           "arrowcolor": "#2a3f5f",
           "arrowhead": 0,
           "arrowwidth": 1
          },
          "autotypenumbers": "strict",
          "coloraxis": {
           "colorbar": {
            "outlinewidth": 0,
            "ticks": ""
           }
          },
          "colorscale": {
           "diverging": [
            [
             0,
             "#8e0152"
            ],
            [
             0.1,
             "#c51b7d"
            ],
            [
             0.2,
             "#de77ae"
            ],
            [
             0.3,
             "#f1b6da"
            ],
            [
             0.4,
             "#fde0ef"
            ],
            [
             0.5,
             "#f7f7f7"
            ],
            [
             0.6,
             "#e6f5d0"
            ],
            [
             0.7,
             "#b8e186"
            ],
            [
             0.8,
             "#7fbc41"
            ],
            [
             0.9,
             "#4d9221"
            ],
            [
             1,
             "#276419"
            ]
           ],
           "sequential": [
            [
             0,
             "#0d0887"
            ],
            [
             0.1111111111111111,
             "#46039f"
            ],
            [
             0.2222222222222222,
             "#7201a8"
            ],
            [
             0.3333333333333333,
             "#9c179e"
            ],
            [
             0.4444444444444444,
             "#bd3786"
            ],
            [
             0.5555555555555556,
             "#d8576b"
            ],
            [
             0.6666666666666666,
             "#ed7953"
            ],
            [
             0.7777777777777778,
             "#fb9f3a"
            ],
            [
             0.8888888888888888,
             "#fdca26"
            ],
            [
             1,
             "#f0f921"
            ]
           ],
           "sequentialminus": [
            [
             0,
             "#0d0887"
            ],
            [
             0.1111111111111111,
             "#46039f"
            ],
            [
             0.2222222222222222,
             "#7201a8"
            ],
            [
             0.3333333333333333,
             "#9c179e"
            ],
            [
             0.4444444444444444,
             "#bd3786"
            ],
            [
             0.5555555555555556,
             "#d8576b"
            ],
            [
             0.6666666666666666,
             "#ed7953"
            ],
            [
             0.7777777777777778,
             "#fb9f3a"
            ],
            [
             0.8888888888888888,
             "#fdca26"
            ],
            [
             1,
             "#f0f921"
            ]
           ]
          },
          "colorway": [
           "#636efa",
           "#EF553B",
           "#00cc96",
           "#ab63fa",
           "#FFA15A",
           "#19d3f3",
           "#FF6692",
           "#B6E880",
           "#FF97FF",
           "#FECB52"
          ],
          "font": {
           "color": "#2a3f5f"
          },
          "geo": {
           "bgcolor": "white",
           "lakecolor": "white",
           "landcolor": "#E5ECF6",
           "showlakes": true,
           "showland": true,
           "subunitcolor": "white"
          },
          "hoverlabel": {
           "align": "left"
          },
          "hovermode": "closest",
          "mapbox": {
           "style": "light"
          },
          "paper_bgcolor": "white",
          "plot_bgcolor": "#E5ECF6",
          "polar": {
           "angularaxis": {
            "gridcolor": "white",
            "linecolor": "white",
            "ticks": ""
           },
           "bgcolor": "#E5ECF6",
           "radialaxis": {
            "gridcolor": "white",
            "linecolor": "white",
            "ticks": ""
           }
          },
          "scene": {
           "xaxis": {
            "backgroundcolor": "#E5ECF6",
            "gridcolor": "white",
            "gridwidth": 2,
            "linecolor": "white",
            "showbackground": true,
            "ticks": "",
            "zerolinecolor": "white"
           },
           "yaxis": {
            "backgroundcolor": "#E5ECF6",
            "gridcolor": "white",
            "gridwidth": 2,
            "linecolor": "white",
            "showbackground": true,
            "ticks": "",
            "zerolinecolor": "white"
           },
           "zaxis": {
            "backgroundcolor": "#E5ECF6",
            "gridcolor": "white",
            "gridwidth": 2,
            "linecolor": "white",
            "showbackground": true,
            "ticks": "",
            "zerolinecolor": "white"
           }
          },
          "shapedefaults": {
           "line": {
            "color": "#2a3f5f"
           }
          },
          "ternary": {
           "aaxis": {
            "gridcolor": "white",
            "linecolor": "white",
            "ticks": ""
           },
           "baxis": {
            "gridcolor": "white",
            "linecolor": "white",
            "ticks": ""
           },
           "bgcolor": "#E5ECF6",
           "caxis": {
            "gridcolor": "white",
            "linecolor": "white",
            "ticks": ""
           }
          },
          "title": {
           "x": 0.05
          },
          "xaxis": {
           "automargin": true,
           "gridcolor": "white",
           "linecolor": "white",
           "ticks": "",
           "title": {
            "standoff": 15
           },
           "zerolinecolor": "white",
           "zerolinewidth": 2
          },
          "yaxis": {
           "automargin": true,
           "gridcolor": "white",
           "linecolor": "white",
           "ticks": "",
           "title": {
            "standoff": 15
           },
           "zerolinecolor": "white",
           "zerolinewidth": 2
          }
         }
        },
        "title": {
         "text": "ACV w/o Leap Year"
        },
        "xaxis": {
         "anchor": "y",
         "domain": [
          0,
          1
         ],
         "title": {
          "text": "x"
         }
        },
        "yaxis": {
         "anchor": "x",
         "domain": [
          0,
          1
         ],
         "title": {
          "text": "y"
         }
        }
       }
      }
     },
     "metadata": {},
     "output_type": "display_data"
    }
   ],
   "source": [
    "from arr import get_end_of_month_range\n",
    "import numpy as np\n",
    "import plotly.express as px\n",
    "\n",
    "\n",
    "contract = ContractHeader(30_000, date(2023, 6, 15), date(2025, 6, 14))\n",
    "\n",
    "date_range = get_end_of_month_range(date(2023, 6, 1), date(2025, 6, 1))\n",
    "\n",
    "results_w_leap_year = np.array(\n",
    "    [annualize(contract, month, \"Day\", False) for month in date_range]\n",
    ")\n",
    "\n",
    "results_wo_leap_year = np.array(\n",
    "    [annualize(contract, month, \"Day\", True) for month in date_range]\n",
    ")\n",
    "fig1 = px.line(x=date_range, y=results_w_leap_year, title=\"ACV w/ Leap Year\")\n",
    "fig1.show()\n",
    "\n",
    "fig2 = px.line(x=date_range, y=results_wo_leap_year, title=\"ACV w/o Leap Year\")\n",
    "fig2.show()"
   ]
  },
  {
   "cell_type": "markdown",
   "metadata": {},
   "source": [
    "<div class=\"alert alert-block alert-warning\">\n",
    "The difference here is only $20 dollars, but imagine this scaled across an enterprise company. Contracts with terms over leap years will see their ARR rise in the beginning of a leap year and fall at the end of a leap year. My recommendation, if you are going to annualize by day, <a href=\"https://en.wikipedia.org/wiki/KISS_principle\">K.I.S.S</a>. <b>Hard code the day value to be 365 and move on.</b> I can see some reasons where you want to see this swing in data, but many companies will be just fine with 365 days every year.\n",
    "</div>\n",
    "\n",
    "Let's continue the leap year analysis, with another contract."
   ]
  },
  {
   "cell_type": "code",
   "execution_count": 4,
   "metadata": {},
   "outputs": [
    {
     "name": "stdout",
     "output_type": "stream",
     "text": [
      "ContractHeader(amount=25000, start_date=datetime.date(2024, 1, 1), end_date=datetime.date(2024, 3, 31), booking_date=datetime.date(2024, 1, 1))\n",
      "Period: 2024-03-31\n",
      "Generalize Leap Year: False\n",
      "Time Interval: Day - 366\n",
      "Contract Term: 91\n",
      "\n",
      "Not generalizing leap year: 100549.45\n",
      "\n",
      "-------------------------------------------------------\n",
      "ContractHeader(amount=25000, start_date=datetime.date(2024, 1, 1), end_date=datetime.date(2024, 3, 31), booking_date=datetime.date(2024, 1, 1))\n",
      "Period: 2024-03-31\n",
      "Generalize Leap Year: True\n",
      "Time Interval: Day - 365\n",
      "Contract Term: 90\n",
      "\n",
      "Generalizing leap year: 101388.89\n",
      "\n"
     ]
    }
   ],
   "source": [
    "short_contract = ContractHeader(25_000, date(2024, 1, 1), date(2024, 3, 31))\n",
    "\n",
    "no_gen_leap_year = annualize(\n",
    "    short_contract, date(2024, 3, 31), \"Day\", False, print_details=True\n",
    ")\n",
    "print(f\"\\nNot generalizing leap year: {no_gen_leap_year:.2f}\\n\")\n",
    "\n",
    "print(\"-\" * 55)\n",
    "\n",
    "gen_leap_year = annualize(\n",
    "    short_contract, date(2024, 3, 31), \"Day\", True, print_details=True\n",
    ")\n",
    "print(f\"\\nGeneralizing leap year: {gen_leap_year:.2f}\\n\")"
   ]
  },
  {
   "cell_type": "markdown",
   "metadata": {},
   "source": [
    "Why is this 25k contract still showing an odd amount when annualizing by day, even with `generalize_leap_year` set to `True`? Let's do some math.\n",
    "\n",
    "$\\begin{matrix}\n",
    "\\text{Formula:} &\n",
    "\\text{Annual Contract Value} = \\text{Total Contract Value} * (\\frac{\\text{Time Interval (Year)}}{\\text{Contract Term Length}})\\\\\n",
    "\\\\\n",
    "\\text{Generalizing leap year = False:} &\n",
    "100,549 = 25,000 * (\\frac{366}{91})\\\\\n",
    "\\\\\n",
    "\\text{Generalizing leap year = True:} &\n",
    "101,388 = 25,000 * (\\frac{365}{90})\n",
    "\\end{matrix}\n",
    "$\n",
    "\n",
    "General wisdom tells us that this 3 month contract should be multiplied by 4. 12 months in a year divided by 3 months of the contract multiplied by total contract value. $25,000 * \\frac{12}{3} = 100,000$. But regardless of removing leap days from the equation, you will always have less days in the first half of a year than in the second half of the year. Which means, annualizing by day in the first half will always give an unconventional result when comparing to the full year.\n",
    "\n",
    "<div class=\"alert alert-block alert-warning\">\n",
    "You've been warned. Another risk of annualizing by day. Still do-able, but leap years add a ton of implications.\n",
    "</div>"
   ]
  },
  {
   "cell_type": "markdown",
   "metadata": {},
   "source": [
    "### Contracts Less Than 1 Year"
   ]
  },
  {
   "cell_type": "markdown",
   "metadata": {},
   "source": [
    "Sales people [*always be closing*](https://www.investopedia.com/terms/a/always-be-closing.asp). Which means, never underestimate the creativity of a sales team. They will do what they need to do to make the company money. Which means contracts could have shorter lengths, ramp, and could have all kinds of discounts or variability. For this section, the focus will be on shorter contracts. Shorter contracts intended to renew, can force a big swing in the reporting when not renewed.\n",
    "\n",
    "First, I'll setup some code to show this smaller contract in the context of other contracts. I'll also introduce two new functions."
   ]
  },
  {
   "cell_type": "code",
   "execution_count": 5,
   "metadata": {},
   "outputs": [
    {
     "name": "stdout",
     "output_type": "stream",
     "text": [
      "          Contract #1 - $10,000 - 2024-01-01           \n",
      "                2024-01-01 - 2024-03-31                \n",
      "*******************************************************\n",
      "sku\tstart date\tend date\tamount\trenewable\n",
      "*******************************************************\n",
      "1\t2024-01-01\t2024-03-31\t2500\tTrue\n",
      "2\t2024-01-01\t2024-03-31\t2500\tTrue\n",
      "3\t2024-01-01\t2024-03-31\t2500\tTrue\n",
      "4\t2024-01-01\t2024-03-31\t2500\tTrue\n",
      "*******************************************************\n",
      "\n",
      "-------------------------------------------------------\n",
      "          Contract #2 - $10,000 - 2024-01-01           \n",
      "                2024-01-01 - 2024-12-31                \n",
      "*******************************************************\n",
      "sku\tstart date\tend date\tamount\trenewable\n",
      "*******************************************************\n",
      "1\t2024-01-01\t2024-12-31\t10000\tTrue\n",
      "*******************************************************\n",
      "\n",
      "-------------------------------------------------------\n",
      "          Contract #3 - $10,000 - 2024-01-01           \n",
      "                2024-01-01 - 2024-12-31                \n",
      "*******************************************************\n",
      "sku\tstart date\tend date\tamount\trenewable\n",
      "*******************************************************\n",
      "1\t2024-01-01\t2024-12-31\t10000\tTrue\n",
      "*******************************************************\n",
      "\n"
     ]
    }
   ],
   "source": [
    "from arr import Contract, ContractLine\n",
    "\n",
    "short_contract = Contract(\n",
    "    1,\n",
    "    ContractHeader(10_000, date(2024, 1, 1), date(2024, 3, 31)),\n",
    "    [\n",
    "        ContractLine(2_500, date(2024, 1, 1), date(2024, 3, 31), 1, True),\n",
    "        ContractLine(2_500, date(2024, 1, 1), date(2024, 3, 31), 2, True),\n",
    "        ContractLine(2_500, date(2024, 1, 1), date(2024, 3, 31), 3, True),\n",
    "        ContractLine(2_500, date(2024, 1, 1), date(2024, 3, 31), 4, True),\n",
    "    ],\n",
    ")\n",
    "\n",
    "reg_contract1 = Contract(\n",
    "    2,\n",
    "    ContractHeader(10_000, date(2024, 1, 1), date(2024, 12, 31)),\n",
    "    [\n",
    "        ContractLine(10_000, date(2024, 1, 1), date(2024, 12, 31), 1, True),\n",
    "    ],\n",
    ")\n",
    "\n",
    "reg_contract2 = Contract(\n",
    "    3,\n",
    "    ContractHeader(10_000, date(2024, 1, 1), date(2024, 12, 31)),\n",
    "    [\n",
    "        ContractLine(10_000, date(2024, 1, 1), date(2024, 12, 31), 1, True),\n",
    "    ],\n",
    ")\n",
    "\n",
    "print(short_contract, reg_contract1, reg_contract2, sep=f\"\\n{'-'*55}\\n\")"
   ]
  },
  {
   "cell_type": "code",
   "execution_count": 6,
   "metadata": {},
   "outputs": [
    {
     "data": {
      "text/html": [
       "<style>pre { line-height: 125%; }\n",
       "td.linenos .normal { color: inherit; background-color: transparent; padding-left: 5px; padding-right: 5px; }\n",
       "span.linenos { color: inherit; background-color: transparent; padding-left: 5px; padding-right: 5px; }\n",
       "td.linenos .special { color: #000000; background-color: #ffffc0; padding-left: 5px; padding-right: 5px; }\n",
       "span.linenos.special { color: #000000; background-color: #ffffc0; padding-left: 5px; padding-right: 5px; }\n",
       ".output_html .hll { background-color: #ffffcc }\n",
       ".output_html { background: #f8f8f8; }\n",
       ".output_html .c { color: #3D7B7B; font-style: italic } /* Comment */\n",
       ".output_html .err { border: 1px solid #FF0000 } /* Error */\n",
       ".output_html .k { color: #008000; font-weight: bold } /* Keyword */\n",
       ".output_html .o { color: #666666 } /* Operator */\n",
       ".output_html .ch { color: #3D7B7B; font-style: italic } /* Comment.Hashbang */\n",
       ".output_html .cm { color: #3D7B7B; font-style: italic } /* Comment.Multiline */\n",
       ".output_html .cp { color: #9C6500 } /* Comment.Preproc */\n",
       ".output_html .cpf { color: #3D7B7B; font-style: italic } /* Comment.PreprocFile */\n",
       ".output_html .c1 { color: #3D7B7B; font-style: italic } /* Comment.Single */\n",
       ".output_html .cs { color: #3D7B7B; font-style: italic } /* Comment.Special */\n",
       ".output_html .gd { color: #A00000 } /* Generic.Deleted */\n",
       ".output_html .ge { font-style: italic } /* Generic.Emph */\n",
       ".output_html .ges { font-weight: bold; font-style: italic } /* Generic.EmphStrong */\n",
       ".output_html .gr { color: #E40000 } /* Generic.Error */\n",
       ".output_html .gh { color: #000080; font-weight: bold } /* Generic.Heading */\n",
       ".output_html .gi { color: #008400 } /* Generic.Inserted */\n",
       ".output_html .go { color: #717171 } /* Generic.Output */\n",
       ".output_html .gp { color: #000080; font-weight: bold } /* Generic.Prompt */\n",
       ".output_html .gs { font-weight: bold } /* Generic.Strong */\n",
       ".output_html .gu { color: #800080; font-weight: bold } /* Generic.Subheading */\n",
       ".output_html .gt { color: #0044DD } /* Generic.Traceback */\n",
       ".output_html .kc { color: #008000; font-weight: bold } /* Keyword.Constant */\n",
       ".output_html .kd { color: #008000; font-weight: bold } /* Keyword.Declaration */\n",
       ".output_html .kn { color: #008000; font-weight: bold } /* Keyword.Namespace */\n",
       ".output_html .kp { color: #008000 } /* Keyword.Pseudo */\n",
       ".output_html .kr { color: #008000; font-weight: bold } /* Keyword.Reserved */\n",
       ".output_html .kt { color: #B00040 } /* Keyword.Type */\n",
       ".output_html .m { color: #666666 } /* Literal.Number */\n",
       ".output_html .s { color: #BA2121 } /* Literal.String */\n",
       ".output_html .na { color: #687822 } /* Name.Attribute */\n",
       ".output_html .nb { color: #008000 } /* Name.Builtin */\n",
       ".output_html .nc { color: #0000FF; font-weight: bold } /* Name.Class */\n",
       ".output_html .no { color: #880000 } /* Name.Constant */\n",
       ".output_html .nd { color: #AA22FF } /* Name.Decorator */\n",
       ".output_html .ni { color: #717171; font-weight: bold } /* Name.Entity */\n",
       ".output_html .ne { color: #CB3F38; font-weight: bold } /* Name.Exception */\n",
       ".output_html .nf { color: #0000FF } /* Name.Function */\n",
       ".output_html .nl { color: #767600 } /* Name.Label */\n",
       ".output_html .nn { color: #0000FF; font-weight: bold } /* Name.Namespace */\n",
       ".output_html .nt { color: #008000; font-weight: bold } /* Name.Tag */\n",
       ".output_html .nv { color: #19177C } /* Name.Variable */\n",
       ".output_html .ow { color: #AA22FF; font-weight: bold } /* Operator.Word */\n",
       ".output_html .w { color: #bbbbbb } /* Text.Whitespace */\n",
       ".output_html .mb { color: #666666 } /* Literal.Number.Bin */\n",
       ".output_html .mf { color: #666666 } /* Literal.Number.Float */\n",
       ".output_html .mh { color: #666666 } /* Literal.Number.Hex */\n",
       ".output_html .mi { color: #666666 } /* Literal.Number.Integer */\n",
       ".output_html .mo { color: #666666 } /* Literal.Number.Oct */\n",
       ".output_html .sa { color: #BA2121 } /* Literal.String.Affix */\n",
       ".output_html .sb { color: #BA2121 } /* Literal.String.Backtick */\n",
       ".output_html .sc { color: #BA2121 } /* Literal.String.Char */\n",
       ".output_html .dl { color: #BA2121 } /* Literal.String.Delimiter */\n",
       ".output_html .sd { color: #BA2121; font-style: italic } /* Literal.String.Doc */\n",
       ".output_html .s2 { color: #BA2121 } /* Literal.String.Double */\n",
       ".output_html .se { color: #AA5D1F; font-weight: bold } /* Literal.String.Escape */\n",
       ".output_html .sh { color: #BA2121 } /* Literal.String.Heredoc */\n",
       ".output_html .si { color: #A45A77; font-weight: bold } /* Literal.String.Interpol */\n",
       ".output_html .sx { color: #008000 } /* Literal.String.Other */\n",
       ".output_html .sr { color: #A45A77 } /* Literal.String.Regex */\n",
       ".output_html .s1 { color: #BA2121 } /* Literal.String.Single */\n",
       ".output_html .ss { color: #19177C } /* Literal.String.Symbol */\n",
       ".output_html .bp { color: #008000 } /* Name.Builtin.Pseudo */\n",
       ".output_html .fm { color: #0000FF } /* Name.Function.Magic */\n",
       ".output_html .vc { color: #19177C } /* Name.Variable.Class */\n",
       ".output_html .vg { color: #19177C } /* Name.Variable.Global */\n",
       ".output_html .vi { color: #19177C } /* Name.Variable.Instance */\n",
       ".output_html .vm { color: #19177C } /* Name.Variable.Magic */\n",
       ".output_html .il { color: #666666 } /* Literal.Number.Integer.Long */</style><div class=\"highlight\"><pre><span></span><span class=\"k\">def</span> <span class=\"nf\">build_contracts_table</span><span class=\"p\">(</span><span class=\"n\">contracts</span><span class=\"p\">:</span> <span class=\"n\">List</span><span class=\"p\">[</span><span class=\"n\">Contract</span><span class=\"p\">])</span> <span class=\"o\">-&gt;</span> <span class=\"n\">pd</span><span class=\"o\">.</span><span class=\"n\">DataFrame</span><span class=\"p\">:</span>\n",
       "<span class=\"w\">    </span><span class=\"sd\">&quot;&quot;&quot;Takes inputed Contract(s) converts to usable DataFrame.</span>\n",
       "\n",
       "<span class=\"sd\">    Args:</span>\n",
       "<span class=\"sd\">        contracts (List[Contract]): List of `Contract` dataclass.</span>\n",
       "\n",
       "<span class=\"sd\">    Returns:</span>\n",
       "<span class=\"sd\">        pd.DataFrame: DataFrame of Contract(s). 1 Row == 1 Line in a Contract.</span>\n",
       "<span class=\"sd\">            Both header and line information is in each row.</span>\n",
       "<span class=\"sd\">    &quot;&quot;&quot;</span>\n",
       "    <span class=\"n\">contracts</span> <span class=\"o\">=</span> <span class=\"n\">pd</span><span class=\"o\">.</span><span class=\"n\">DataFrame</span><span class=\"p\">(</span><span class=\"n\">contracts</span><span class=\"p\">)</span>\n",
       "    <span class=\"n\">headers</span> <span class=\"o\">=</span> <span class=\"n\">pd</span><span class=\"o\">.</span><span class=\"n\">DataFrame</span><span class=\"o\">.</span><span class=\"n\">from_records</span><span class=\"p\">(</span><span class=\"n\">contracts</span><span class=\"p\">[</span><span class=\"s2\">&quot;header&quot;</span><span class=\"p\">])</span>\n",
       "    <span class=\"n\">headers</span><span class=\"o\">.</span><span class=\"n\">rename</span><span class=\"p\">(</span>\n",
       "        <span class=\"n\">columns</span><span class=\"o\">=</span><span class=\"p\">{</span>\n",
       "            <span class=\"s2\">&quot;amount&quot;</span><span class=\"p\">:</span> <span class=\"s2\">&quot;header_amount&quot;</span><span class=\"p\">,</span>\n",
       "            <span class=\"s2\">&quot;start_date&quot;</span><span class=\"p\">:</span> <span class=\"s2\">&quot;header_start_date&quot;</span><span class=\"p\">,</span>\n",
       "            <span class=\"s2\">&quot;end_date&quot;</span><span class=\"p\">:</span> <span class=\"s2\">&quot;header_end_date&quot;</span><span class=\"p\">,</span>\n",
       "        <span class=\"p\">},</span>\n",
       "        <span class=\"n\">inplace</span><span class=\"o\">=</span><span class=\"kc\">True</span><span class=\"p\">,</span>\n",
       "    <span class=\"p\">)</span>\n",
       "    <span class=\"n\">lines_temp</span> <span class=\"o\">=</span> <span class=\"n\">contracts</span><span class=\"p\">[</span><span class=\"s2\">&quot;lines&quot;</span><span class=\"p\">]</span><span class=\"o\">.</span><span class=\"n\">explode</span><span class=\"p\">()</span>\n",
       "    <span class=\"n\">lines</span> <span class=\"o\">=</span> <span class=\"n\">pd</span><span class=\"o\">.</span><span class=\"n\">json_normalize</span><span class=\"p\">(</span><span class=\"n\">lines_temp</span><span class=\"p\">)</span>\n",
       "    <span class=\"n\">lines</span><span class=\"o\">.</span><span class=\"n\">index</span> <span class=\"o\">=</span> <span class=\"n\">lines_temp</span><span class=\"o\">.</span><span class=\"n\">index</span>\n",
       "    <span class=\"n\">lines</span><span class=\"o\">.</span><span class=\"n\">rename</span><span class=\"p\">(</span>\n",
       "        <span class=\"n\">columns</span><span class=\"o\">=</span><span class=\"p\">{</span>\n",
       "            <span class=\"s2\">&quot;amount&quot;</span><span class=\"p\">:</span> <span class=\"s2\">&quot;line_amount&quot;</span><span class=\"p\">,</span>\n",
       "            <span class=\"s2\">&quot;start_date&quot;</span><span class=\"p\">:</span> <span class=\"s2\">&quot;line_start_date&quot;</span><span class=\"p\">,</span>\n",
       "            <span class=\"s2\">&quot;end_date&quot;</span><span class=\"p\">:</span> <span class=\"s2\">&quot;line_end_date&quot;</span><span class=\"p\">,</span>\n",
       "        <span class=\"p\">},</span>\n",
       "        <span class=\"n\">inplace</span><span class=\"o\">=</span><span class=\"kc\">True</span><span class=\"p\">,</span>\n",
       "    <span class=\"p\">)</span>\n",
       "    <span class=\"n\">df</span> <span class=\"o\">=</span> <span class=\"p\">(</span>\n",
       "        <span class=\"n\">contracts</span><span class=\"o\">.</span><span class=\"n\">merge</span><span class=\"p\">(</span><span class=\"n\">headers</span><span class=\"p\">,</span> <span class=\"n\">left_index</span><span class=\"o\">=</span><span class=\"kc\">True</span><span class=\"p\">,</span> <span class=\"n\">right_index</span><span class=\"o\">=</span><span class=\"kc\">True</span><span class=\"p\">)</span>\n",
       "        <span class=\"o\">.</span><span class=\"n\">merge</span><span class=\"p\">(</span><span class=\"n\">lines</span><span class=\"p\">,</span> <span class=\"n\">left_index</span><span class=\"o\">=</span><span class=\"kc\">True</span><span class=\"p\">,</span> <span class=\"n\">right_index</span><span class=\"o\">=</span><span class=\"kc\">True</span><span class=\"p\">)</span>\n",
       "        <span class=\"o\">.</span><span class=\"n\">drop</span><span class=\"p\">(</span><span class=\"n\">columns</span><span class=\"o\">=</span><span class=\"p\">[</span><span class=\"s2\">&quot;header&quot;</span><span class=\"p\">,</span> <span class=\"s2\">&quot;lines&quot;</span><span class=\"p\">])</span>\n",
       "        <span class=\"o\">.</span><span class=\"n\">reset_index</span><span class=\"p\">(</span><span class=\"n\">drop</span><span class=\"o\">=</span><span class=\"kc\">True</span><span class=\"p\">)</span>\n",
       "    <span class=\"p\">)</span>\n",
       "    <span class=\"k\">return</span> <span class=\"n\">df</span>\n",
       "</pre></div>\n"
      ],
      "text/latex": [
       "\\begin{Verbatim}[commandchars=\\\\\\{\\}]\n",
       "\\PY{k}{def} \\PY{n+nf}{build\\PYZus{}contracts\\PYZus{}table}\\PY{p}{(}\\PY{n}{contracts}\\PY{p}{:} \\PY{n}{List}\\PY{p}{[}\\PY{n}{Contract}\\PY{p}{]}\\PY{p}{)} \\PY{o}{\\PYZhy{}}\\PY{o}{\\PYZgt{}} \\PY{n}{pd}\\PY{o}{.}\\PY{n}{DataFrame}\\PY{p}{:}\n",
       "\\PY{+w}{    }\\PY{l+s+sd}{\\PYZdq{}\\PYZdq{}\\PYZdq{}Takes inputed Contract(s) converts to usable DataFrame.}\n",
       "\n",
       "\\PY{l+s+sd}{    Args:}\n",
       "\\PY{l+s+sd}{        contracts (List[Contract]): List of `Contract` dataclass.}\n",
       "\n",
       "\\PY{l+s+sd}{    Returns:}\n",
       "\\PY{l+s+sd}{        pd.DataFrame: DataFrame of Contract(s). 1 Row == 1 Line in a Contract.}\n",
       "\\PY{l+s+sd}{            Both header and line information is in each row.}\n",
       "\\PY{l+s+sd}{    \\PYZdq{}\\PYZdq{}\\PYZdq{}}\n",
       "    \\PY{n}{contracts} \\PY{o}{=} \\PY{n}{pd}\\PY{o}{.}\\PY{n}{DataFrame}\\PY{p}{(}\\PY{n}{contracts}\\PY{p}{)}\n",
       "    \\PY{n}{headers} \\PY{o}{=} \\PY{n}{pd}\\PY{o}{.}\\PY{n}{DataFrame}\\PY{o}{.}\\PY{n}{from\\PYZus{}records}\\PY{p}{(}\\PY{n}{contracts}\\PY{p}{[}\\PY{l+s+s2}{\\PYZdq{}}\\PY{l+s+s2}{header}\\PY{l+s+s2}{\\PYZdq{}}\\PY{p}{]}\\PY{p}{)}\n",
       "    \\PY{n}{headers}\\PY{o}{.}\\PY{n}{rename}\\PY{p}{(}\n",
       "        \\PY{n}{columns}\\PY{o}{=}\\PY{p}{\\PYZob{}}\n",
       "            \\PY{l+s+s2}{\\PYZdq{}}\\PY{l+s+s2}{amount}\\PY{l+s+s2}{\\PYZdq{}}\\PY{p}{:} \\PY{l+s+s2}{\\PYZdq{}}\\PY{l+s+s2}{header\\PYZus{}amount}\\PY{l+s+s2}{\\PYZdq{}}\\PY{p}{,}\n",
       "            \\PY{l+s+s2}{\\PYZdq{}}\\PY{l+s+s2}{start\\PYZus{}date}\\PY{l+s+s2}{\\PYZdq{}}\\PY{p}{:} \\PY{l+s+s2}{\\PYZdq{}}\\PY{l+s+s2}{header\\PYZus{}start\\PYZus{}date}\\PY{l+s+s2}{\\PYZdq{}}\\PY{p}{,}\n",
       "            \\PY{l+s+s2}{\\PYZdq{}}\\PY{l+s+s2}{end\\PYZus{}date}\\PY{l+s+s2}{\\PYZdq{}}\\PY{p}{:} \\PY{l+s+s2}{\\PYZdq{}}\\PY{l+s+s2}{header\\PYZus{}end\\PYZus{}date}\\PY{l+s+s2}{\\PYZdq{}}\\PY{p}{,}\n",
       "        \\PY{p}{\\PYZcb{}}\\PY{p}{,}\n",
       "        \\PY{n}{inplace}\\PY{o}{=}\\PY{k+kc}{True}\\PY{p}{,}\n",
       "    \\PY{p}{)}\n",
       "    \\PY{n}{lines\\PYZus{}temp} \\PY{o}{=} \\PY{n}{contracts}\\PY{p}{[}\\PY{l+s+s2}{\\PYZdq{}}\\PY{l+s+s2}{lines}\\PY{l+s+s2}{\\PYZdq{}}\\PY{p}{]}\\PY{o}{.}\\PY{n}{explode}\\PY{p}{(}\\PY{p}{)}\n",
       "    \\PY{n}{lines} \\PY{o}{=} \\PY{n}{pd}\\PY{o}{.}\\PY{n}{json\\PYZus{}normalize}\\PY{p}{(}\\PY{n}{lines\\PYZus{}temp}\\PY{p}{)}\n",
       "    \\PY{n}{lines}\\PY{o}{.}\\PY{n}{index} \\PY{o}{=} \\PY{n}{lines\\PYZus{}temp}\\PY{o}{.}\\PY{n}{index}\n",
       "    \\PY{n}{lines}\\PY{o}{.}\\PY{n}{rename}\\PY{p}{(}\n",
       "        \\PY{n}{columns}\\PY{o}{=}\\PY{p}{\\PYZob{}}\n",
       "            \\PY{l+s+s2}{\\PYZdq{}}\\PY{l+s+s2}{amount}\\PY{l+s+s2}{\\PYZdq{}}\\PY{p}{:} \\PY{l+s+s2}{\\PYZdq{}}\\PY{l+s+s2}{line\\PYZus{}amount}\\PY{l+s+s2}{\\PYZdq{}}\\PY{p}{,}\n",
       "            \\PY{l+s+s2}{\\PYZdq{}}\\PY{l+s+s2}{start\\PYZus{}date}\\PY{l+s+s2}{\\PYZdq{}}\\PY{p}{:} \\PY{l+s+s2}{\\PYZdq{}}\\PY{l+s+s2}{line\\PYZus{}start\\PYZus{}date}\\PY{l+s+s2}{\\PYZdq{}}\\PY{p}{,}\n",
       "            \\PY{l+s+s2}{\\PYZdq{}}\\PY{l+s+s2}{end\\PYZus{}date}\\PY{l+s+s2}{\\PYZdq{}}\\PY{p}{:} \\PY{l+s+s2}{\\PYZdq{}}\\PY{l+s+s2}{line\\PYZus{}end\\PYZus{}date}\\PY{l+s+s2}{\\PYZdq{}}\\PY{p}{,}\n",
       "        \\PY{p}{\\PYZcb{}}\\PY{p}{,}\n",
       "        \\PY{n}{inplace}\\PY{o}{=}\\PY{k+kc}{True}\\PY{p}{,}\n",
       "    \\PY{p}{)}\n",
       "    \\PY{n}{df} \\PY{o}{=} \\PY{p}{(}\n",
       "        \\PY{n}{contracts}\\PY{o}{.}\\PY{n}{merge}\\PY{p}{(}\\PY{n}{headers}\\PY{p}{,} \\PY{n}{left\\PYZus{}index}\\PY{o}{=}\\PY{k+kc}{True}\\PY{p}{,} \\PY{n}{right\\PYZus{}index}\\PY{o}{=}\\PY{k+kc}{True}\\PY{p}{)}\n",
       "        \\PY{o}{.}\\PY{n}{merge}\\PY{p}{(}\\PY{n}{lines}\\PY{p}{,} \\PY{n}{left\\PYZus{}index}\\PY{o}{=}\\PY{k+kc}{True}\\PY{p}{,} \\PY{n}{right\\PYZus{}index}\\PY{o}{=}\\PY{k+kc}{True}\\PY{p}{)}\n",
       "        \\PY{o}{.}\\PY{n}{drop}\\PY{p}{(}\\PY{n}{columns}\\PY{o}{=}\\PY{p}{[}\\PY{l+s+s2}{\\PYZdq{}}\\PY{l+s+s2}{header}\\PY{l+s+s2}{\\PYZdq{}}\\PY{p}{,} \\PY{l+s+s2}{\\PYZdq{}}\\PY{l+s+s2}{lines}\\PY{l+s+s2}{\\PYZdq{}}\\PY{p}{]}\\PY{p}{)}\n",
       "        \\PY{o}{.}\\PY{n}{reset\\PYZus{}index}\\PY{p}{(}\\PY{n}{drop}\\PY{o}{=}\\PY{k+kc}{True}\\PY{p}{)}\n",
       "    \\PY{p}{)}\n",
       "    \\PY{k}{return} \\PY{n}{df}\n",
       "\\end{Verbatim}\n"
      ],
      "text/plain": [
       "def build_contracts_table(contracts: List[Contract]) -> pd.DataFrame:\n",
       "    \"\"\"Takes inputed Contract(s) converts to usable DataFrame.\n",
       "\n",
       "    Args:\n",
       "        contracts (List[Contract]): List of `Contract` dataclass.\n",
       "\n",
       "    Returns:\n",
       "        pd.DataFrame: DataFrame of Contract(s). 1 Row == 1 Line in a Contract.\n",
       "            Both header and line information is in each row.\n",
       "    \"\"\"\n",
       "    contracts = pd.DataFrame(contracts)\n",
       "    headers = pd.DataFrame.from_records(contracts[\"header\"])\n",
       "    headers.rename(\n",
       "        columns={\n",
       "            \"amount\": \"header_amount\",\n",
       "            \"start_date\": \"header_start_date\",\n",
       "            \"end_date\": \"header_end_date\",\n",
       "        },\n",
       "        inplace=True,\n",
       "    )\n",
       "    lines_temp = contracts[\"lines\"].explode()\n",
       "    lines = pd.json_normalize(lines_temp)\n",
       "    lines.index = lines_temp.index\n",
       "    lines.rename(\n",
       "        columns={\n",
       "            \"amount\": \"line_amount\",\n",
       "            \"start_date\": \"line_start_date\",\n",
       "            \"end_date\": \"line_end_date\",\n",
       "        },\n",
       "        inplace=True,\n",
       "    )\n",
       "    df = (\n",
       "        contracts.merge(headers, left_index=True, right_index=True)\n",
       "        .merge(lines, left_index=True, right_index=True)\n",
       "        .drop(columns=[\"header\", \"lines\"])\n",
       "        .reset_index(drop=True)\n",
       "    )\n",
       "    return df"
      ]
     },
     "execution_count": 6,
     "metadata": {},
     "output_type": "execute_result"
    }
   ],
   "source": [
    "from arr import build_contracts_table\n",
    "from inspect import getsource\n",
    "from IPython.display import Code\n",
    "\n",
    "Code(getsource(build_contracts_table), language=\"python3\")"
   ]
  },
  {
   "cell_type": "code",
   "execution_count": 7,
   "metadata": {},
   "outputs": [
    {
     "data": {
      "text/html": [
       "<div>\n",
       "<style scoped>\n",
       "    .dataframe tbody tr th:only-of-type {\n",
       "        vertical-align: middle;\n",
       "    }\n",
       "\n",
       "    .dataframe tbody tr th {\n",
       "        vertical-align: top;\n",
       "    }\n",
       "\n",
       "    .dataframe thead th {\n",
       "        text-align: right;\n",
       "    }\n",
       "</style>\n",
       "<table border=\"1\" class=\"dataframe\">\n",
       "  <thead>\n",
       "    <tr style=\"text-align: right;\">\n",
       "      <th></th>\n",
       "      <th>id</th>\n",
       "      <th>header_amount</th>\n",
       "      <th>header_start_date</th>\n",
       "      <th>header_end_date</th>\n",
       "      <th>booking_date</th>\n",
       "      <th>line_amount</th>\n",
       "      <th>line_start_date</th>\n",
       "      <th>line_end_date</th>\n",
       "      <th>item_sku</th>\n",
       "      <th>renewable</th>\n",
       "    </tr>\n",
       "  </thead>\n",
       "  <tbody>\n",
       "    <tr>\n",
       "      <th>0</th>\n",
       "      <td>1</td>\n",
       "      <td>10000</td>\n",
       "      <td>2024-01-01</td>\n",
       "      <td>2024-03-31</td>\n",
       "      <td>2024-01-01</td>\n",
       "      <td>2500</td>\n",
       "      <td>2024-01-01</td>\n",
       "      <td>2024-03-31</td>\n",
       "      <td>1</td>\n",
       "      <td>True</td>\n",
       "    </tr>\n",
       "    <tr>\n",
       "      <th>1</th>\n",
       "      <td>1</td>\n",
       "      <td>10000</td>\n",
       "      <td>2024-01-01</td>\n",
       "      <td>2024-03-31</td>\n",
       "      <td>2024-01-01</td>\n",
       "      <td>2500</td>\n",
       "      <td>2024-01-01</td>\n",
       "      <td>2024-03-31</td>\n",
       "      <td>2</td>\n",
       "      <td>True</td>\n",
       "    </tr>\n",
       "    <tr>\n",
       "      <th>2</th>\n",
       "      <td>1</td>\n",
       "      <td>10000</td>\n",
       "      <td>2024-01-01</td>\n",
       "      <td>2024-03-31</td>\n",
       "      <td>2024-01-01</td>\n",
       "      <td>2500</td>\n",
       "      <td>2024-01-01</td>\n",
       "      <td>2024-03-31</td>\n",
       "      <td>3</td>\n",
       "      <td>True</td>\n",
       "    </tr>\n",
       "    <tr>\n",
       "      <th>3</th>\n",
       "      <td>1</td>\n",
       "      <td>10000</td>\n",
       "      <td>2024-01-01</td>\n",
       "      <td>2024-03-31</td>\n",
       "      <td>2024-01-01</td>\n",
       "      <td>2500</td>\n",
       "      <td>2024-01-01</td>\n",
       "      <td>2024-03-31</td>\n",
       "      <td>4</td>\n",
       "      <td>True</td>\n",
       "    </tr>\n",
       "    <tr>\n",
       "      <th>4</th>\n",
       "      <td>2</td>\n",
       "      <td>10000</td>\n",
       "      <td>2024-01-01</td>\n",
       "      <td>2024-12-31</td>\n",
       "      <td>2024-01-01</td>\n",
       "      <td>10000</td>\n",
       "      <td>2024-01-01</td>\n",
       "      <td>2024-12-31</td>\n",
       "      <td>1</td>\n",
       "      <td>True</td>\n",
       "    </tr>\n",
       "    <tr>\n",
       "      <th>5</th>\n",
       "      <td>3</td>\n",
       "      <td>10000</td>\n",
       "      <td>2024-01-01</td>\n",
       "      <td>2024-12-31</td>\n",
       "      <td>2024-01-01</td>\n",
       "      <td>10000</td>\n",
       "      <td>2024-01-01</td>\n",
       "      <td>2024-12-31</td>\n",
       "      <td>1</td>\n",
       "      <td>True</td>\n",
       "    </tr>\n",
       "  </tbody>\n",
       "</table>\n",
       "</div>"
      ],
      "text/plain": [
       "   id  header_amount header_start_date header_end_date booking_date  \\\n",
       "0   1          10000        2024-01-01      2024-03-31   2024-01-01   \n",
       "1   1          10000        2024-01-01      2024-03-31   2024-01-01   \n",
       "2   1          10000        2024-01-01      2024-03-31   2024-01-01   \n",
       "3   1          10000        2024-01-01      2024-03-31   2024-01-01   \n",
       "4   2          10000        2024-01-01      2024-12-31   2024-01-01   \n",
       "5   3          10000        2024-01-01      2024-12-31   2024-01-01   \n",
       "\n",
       "   line_amount line_start_date line_end_date  item_sku  renewable  \n",
       "0         2500      2024-01-01    2024-03-31         1       True  \n",
       "1         2500      2024-01-01    2024-03-31         2       True  \n",
       "2         2500      2024-01-01    2024-03-31         3       True  \n",
       "3         2500      2024-01-01    2024-03-31         4       True  \n",
       "4        10000      2024-01-01    2024-12-31         1       True  \n",
       "5        10000      2024-01-01    2024-12-31         1       True  "
      ]
     },
     "execution_count": 7,
     "metadata": {},
     "output_type": "execute_result"
    }
   ],
   "source": [
    "build_contracts_table([short_contract, reg_contract1, reg_contract2])"
   ]
  },
  {
   "cell_type": "markdown",
   "metadata": {},
   "source": [
    "Take note of the $\\text{2,500}$ line amounts for Contract # 1."
   ]
  },
  {
   "cell_type": "code",
   "execution_count": 8,
   "metadata": {},
   "outputs": [
    {
     "data": {
      "text/html": [
       "<style>pre { line-height: 125%; }\n",
       "td.linenos .normal { color: inherit; background-color: transparent; padding-left: 5px; padding-right: 5px; }\n",
       "span.linenos { color: inherit; background-color: transparent; padding-left: 5px; padding-right: 5px; }\n",
       "td.linenos .special { color: #000000; background-color: #ffffc0; padding-left: 5px; padding-right: 5px; }\n",
       "span.linenos.special { color: #000000; background-color: #ffffc0; padding-left: 5px; padding-right: 5px; }\n",
       ".output_html .hll { background-color: #ffffcc }\n",
       ".output_html { background: #f8f8f8; }\n",
       ".output_html .c { color: #3D7B7B; font-style: italic } /* Comment */\n",
       ".output_html .err { border: 1px solid #FF0000 } /* Error */\n",
       ".output_html .k { color: #008000; font-weight: bold } /* Keyword */\n",
       ".output_html .o { color: #666666 } /* Operator */\n",
       ".output_html .ch { color: #3D7B7B; font-style: italic } /* Comment.Hashbang */\n",
       ".output_html .cm { color: #3D7B7B; font-style: italic } /* Comment.Multiline */\n",
       ".output_html .cp { color: #9C6500 } /* Comment.Preproc */\n",
       ".output_html .cpf { color: #3D7B7B; font-style: italic } /* Comment.PreprocFile */\n",
       ".output_html .c1 { color: #3D7B7B; font-style: italic } /* Comment.Single */\n",
       ".output_html .cs { color: #3D7B7B; font-style: italic } /* Comment.Special */\n",
       ".output_html .gd { color: #A00000 } /* Generic.Deleted */\n",
       ".output_html .ge { font-style: italic } /* Generic.Emph */\n",
       ".output_html .ges { font-weight: bold; font-style: italic } /* Generic.EmphStrong */\n",
       ".output_html .gr { color: #E40000 } /* Generic.Error */\n",
       ".output_html .gh { color: #000080; font-weight: bold } /* Generic.Heading */\n",
       ".output_html .gi { color: #008400 } /* Generic.Inserted */\n",
       ".output_html .go { color: #717171 } /* Generic.Output */\n",
       ".output_html .gp { color: #000080; font-weight: bold } /* Generic.Prompt */\n",
       ".output_html .gs { font-weight: bold } /* Generic.Strong */\n",
       ".output_html .gu { color: #800080; font-weight: bold } /* Generic.Subheading */\n",
       ".output_html .gt { color: #0044DD } /* Generic.Traceback */\n",
       ".output_html .kc { color: #008000; font-weight: bold } /* Keyword.Constant */\n",
       ".output_html .kd { color: #008000; font-weight: bold } /* Keyword.Declaration */\n",
       ".output_html .kn { color: #008000; font-weight: bold } /* Keyword.Namespace */\n",
       ".output_html .kp { color: #008000 } /* Keyword.Pseudo */\n",
       ".output_html .kr { color: #008000; font-weight: bold } /* Keyword.Reserved */\n",
       ".output_html .kt { color: #B00040 } /* Keyword.Type */\n",
       ".output_html .m { color: #666666 } /* Literal.Number */\n",
       ".output_html .s { color: #BA2121 } /* Literal.String */\n",
       ".output_html .na { color: #687822 } /* Name.Attribute */\n",
       ".output_html .nb { color: #008000 } /* Name.Builtin */\n",
       ".output_html .nc { color: #0000FF; font-weight: bold } /* Name.Class */\n",
       ".output_html .no { color: #880000 } /* Name.Constant */\n",
       ".output_html .nd { color: #AA22FF } /* Name.Decorator */\n",
       ".output_html .ni { color: #717171; font-weight: bold } /* Name.Entity */\n",
       ".output_html .ne { color: #CB3F38; font-weight: bold } /* Name.Exception */\n",
       ".output_html .nf { color: #0000FF } /* Name.Function */\n",
       ".output_html .nl { color: #767600 } /* Name.Label */\n",
       ".output_html .nn { color: #0000FF; font-weight: bold } /* Name.Namespace */\n",
       ".output_html .nt { color: #008000; font-weight: bold } /* Name.Tag */\n",
       ".output_html .nv { color: #19177C } /* Name.Variable */\n",
       ".output_html .ow { color: #AA22FF; font-weight: bold } /* Operator.Word */\n",
       ".output_html .w { color: #bbbbbb } /* Text.Whitespace */\n",
       ".output_html .mb { color: #666666 } /* Literal.Number.Bin */\n",
       ".output_html .mf { color: #666666 } /* Literal.Number.Float */\n",
       ".output_html .mh { color: #666666 } /* Literal.Number.Hex */\n",
       ".output_html .mi { color: #666666 } /* Literal.Number.Integer */\n",
       ".output_html .mo { color: #666666 } /* Literal.Number.Oct */\n",
       ".output_html .sa { color: #BA2121 } /* Literal.String.Affix */\n",
       ".output_html .sb { color: #BA2121 } /* Literal.String.Backtick */\n",
       ".output_html .sc { color: #BA2121 } /* Literal.String.Char */\n",
       ".output_html .dl { color: #BA2121 } /* Literal.String.Delimiter */\n",
       ".output_html .sd { color: #BA2121; font-style: italic } /* Literal.String.Doc */\n",
       ".output_html .s2 { color: #BA2121 } /* Literal.String.Double */\n",
       ".output_html .se { color: #AA5D1F; font-weight: bold } /* Literal.String.Escape */\n",
       ".output_html .sh { color: #BA2121 } /* Literal.String.Heredoc */\n",
       ".output_html .si { color: #A45A77; font-weight: bold } /* Literal.String.Interpol */\n",
       ".output_html .sx { color: #008000 } /* Literal.String.Other */\n",
       ".output_html .sr { color: #A45A77 } /* Literal.String.Regex */\n",
       ".output_html .s1 { color: #BA2121 } /* Literal.String.Single */\n",
       ".output_html .ss { color: #19177C } /* Literal.String.Symbol */\n",
       ".output_html .bp { color: #008000 } /* Name.Builtin.Pseudo */\n",
       ".output_html .fm { color: #0000FF } /* Name.Function.Magic */\n",
       ".output_html .vc { color: #19177C } /* Name.Variable.Class */\n",
       ".output_html .vg { color: #19177C } /* Name.Variable.Global */\n",
       ".output_html .vi { color: #19177C } /* Name.Variable.Instance */\n",
       ".output_html .vm { color: #19177C } /* Name.Variable.Magic */\n",
       ".output_html .il { color: #666666 } /* Literal.Number.Integer.Long */</style><div class=\"highlight\"><pre><span></span><span class=\"k\">def</span> <span class=\"nf\">build_acv_table</span><span class=\"p\">(</span>\n",
       "    <span class=\"n\">contracts</span><span class=\"p\">:</span> <span class=\"n\">List</span><span class=\"p\">[</span><span class=\"n\">Contract</span><span class=\"p\">],</span> <span class=\"n\">by_lines</span><span class=\"p\">:</span> <span class=\"nb\">bool</span> <span class=\"o\">=</span> <span class=\"kc\">True</span><span class=\"p\">,</span> <span class=\"n\">include_deferred</span><span class=\"p\">:</span> <span class=\"nb\">bool</span> <span class=\"o\">=</span> <span class=\"kc\">True</span>\n",
       "<span class=\"p\">)</span> <span class=\"o\">-&gt;</span> <span class=\"n\">pd</span><span class=\"o\">.</span><span class=\"n\">DataFrame</span><span class=\"p\">:</span>\n",
       "<span class=\"w\">    </span><span class=\"sd\">&quot;&quot;&quot;Builds ACV DataFrame.</span>\n",
       "\n",
       "<span class=\"sd\">    Takes list of inputed `Contracts` and first builds a regular</span>\n",
       "<span class=\"sd\">    contract table with `build_contracts_table`. Then cross-joins</span>\n",
       "<span class=\"sd\">    with possible date values from `get_end_of_month_range`.</span>\n",
       "<span class=\"sd\">    Month range is determined by oldest and newest possible dates</span>\n",
       "<span class=\"sd\">    that are provided in the contracts. Depending on annualizing</span>\n",
       "<span class=\"sd\">    by header or by lines it will annualize the expected results.</span>\n",
       "\n",
       "<span class=\"sd\">    Args:</span>\n",
       "<span class=\"sd\">        contracts (List[Contract]): A list of the `Contract` dataclass.</span>\n",
       "<span class=\"sd\">        by_lines (bool, optional): bool to determine whether to</span>\n",
       "<span class=\"sd\">            annualize by header or by lines. If `True`, will annualize</span>\n",
       "<span class=\"sd\">            by lines, `False` will annualize by header. Defaults to True.</span>\n",
       "<span class=\"sd\">        include_deferred (bool, optional): bool to determine whether to</span>\n",
       "<span class=\"sd\">            include deferred ARR or not. If `True` data will include</span>\n",
       "<span class=\"sd\">            deferred ARR. `False` data will not include deferred ARR.</span>\n",
       "<span class=\"sd\">            Defaults to True.</span>\n",
       "\n",
       "<span class=\"sd\">    Returns:</span>\n",
       "<span class=\"sd\">        pd.DataFrame: Pandas dataframe as a matrix. The dates are the</span>\n",
       "<span class=\"sd\">            columns and contract id, item_sku, and renewability as</span>\n",
       "<span class=\"sd\">            the rows. ACV will be the values.</span>\n",
       "<span class=\"sd\">    &quot;&quot;&quot;</span>\n",
       "    <span class=\"c1\"># 1</span>\n",
       "    <span class=\"n\">all_lines</span> <span class=\"o\">=</span> <span class=\"p\">[]</span>\n",
       "\n",
       "    <span class=\"k\">for</span> <span class=\"n\">contract</span> <span class=\"ow\">in</span> <span class=\"n\">contracts</span><span class=\"p\">:</span>\n",
       "        <span class=\"n\">all_lines</span> <span class=\"o\">+=</span> <span class=\"n\">contract</span><span class=\"o\">.</span><span class=\"n\">lines</span>\n",
       "\n",
       "    <span class=\"n\">min_booking_date</span> <span class=\"o\">=</span> <span class=\"nb\">min</span><span class=\"p\">([</span><span class=\"n\">contract</span><span class=\"o\">.</span><span class=\"n\">header</span><span class=\"o\">.</span><span class=\"n\">booking_date</span> <span class=\"k\">for</span> <span class=\"n\">contract</span> <span class=\"ow\">in</span> <span class=\"n\">contracts</span><span class=\"p\">])</span>\n",
       "    <span class=\"n\">min_start_date</span> <span class=\"o\">=</span> <span class=\"nb\">min</span><span class=\"p\">([</span><span class=\"n\">line</span><span class=\"o\">.</span><span class=\"n\">start_date</span> <span class=\"k\">for</span> <span class=\"n\">line</span> <span class=\"ow\">in</span> <span class=\"n\">all_lines</span><span class=\"p\">])</span>\n",
       "    <span class=\"n\">min_date</span> <span class=\"o\">=</span> <span class=\"nb\">min</span><span class=\"p\">(</span><span class=\"n\">min_booking_date</span><span class=\"p\">,</span> <span class=\"n\">min_start_date</span><span class=\"p\">)</span>\n",
       "    <span class=\"n\">max_date</span> <span class=\"o\">=</span> <span class=\"nb\">max</span><span class=\"p\">([</span><span class=\"n\">line</span><span class=\"o\">.</span><span class=\"n\">end_date</span> <span class=\"k\">for</span> <span class=\"n\">line</span> <span class=\"ow\">in</span> <span class=\"n\">all_lines</span><span class=\"p\">])</span>\n",
       "\n",
       "    <span class=\"nb\">range</span> <span class=\"o\">=</span> <span class=\"n\">pd</span><span class=\"o\">.</span><span class=\"n\">DataFrame</span><span class=\"p\">(</span><span class=\"n\">get_end_of_month_range</span><span class=\"p\">(</span><span class=\"n\">min_date</span><span class=\"p\">,</span> <span class=\"n\">max_date</span><span class=\"p\">))</span><span class=\"o\">.</span><span class=\"n\">rename</span><span class=\"p\">(</span>\n",
       "        <span class=\"n\">columns</span><span class=\"o\">=</span><span class=\"p\">{</span><span class=\"mi\">0</span><span class=\"p\">:</span> <span class=\"s2\">&quot;period&quot;</span><span class=\"p\">}</span>\n",
       "    <span class=\"p\">)</span>\n",
       "\n",
       "    <span class=\"c1\"># 2</span>\n",
       "    <span class=\"n\">acv_table</span> <span class=\"o\">=</span> <span class=\"nb\">range</span><span class=\"o\">.</span><span class=\"n\">merge</span><span class=\"p\">(</span><span class=\"n\">build_contracts_table</span><span class=\"p\">(</span><span class=\"n\">contracts</span><span class=\"p\">),</span> <span class=\"n\">how</span><span class=\"o\">=</span><span class=\"s2\">&quot;cross&quot;</span><span class=\"p\">)</span>\n",
       "\n",
       "    <span class=\"c1\"># 3</span>\n",
       "    <span class=\"n\">col_name</span> <span class=\"o\">=</span> <span class=\"s2\">&quot;line&quot;</span> <span class=\"k\">if</span> <span class=\"n\">by_lines</span> <span class=\"k\">else</span> <span class=\"s2\">&quot;header&quot;</span>\n",
       "\n",
       "    <span class=\"n\">acv_table</span><span class=\"p\">[</span><span class=\"s2\">&quot;acv&quot;</span><span class=\"p\">]</span> <span class=\"o\">=</span> <span class=\"n\">acv_table</span><span class=\"o\">.</span><span class=\"n\">apply</span><span class=\"p\">(</span>\n",
       "        <span class=\"k\">lambda</span> <span class=\"n\">row</span><span class=\"p\">:</span> <span class=\"n\">row_annualization</span><span class=\"p\">(</span><span class=\"n\">row</span><span class=\"p\">,</span> <span class=\"n\">col_name</span><span class=\"p\">,</span> <span class=\"n\">include_deferred</span><span class=\"p\">),</span>\n",
       "        <span class=\"n\">axis</span><span class=\"o\">=</span><span class=\"mi\">1</span><span class=\"p\">,</span>\n",
       "    <span class=\"p\">)</span>\n",
       "\n",
       "    <span class=\"c1\"># 4</span>\n",
       "    <span class=\"n\">cols</span> <span class=\"o\">=</span> <span class=\"p\">[</span><span class=\"s2\">&quot;period&quot;</span><span class=\"p\">,</span> <span class=\"s2\">&quot;id&quot;</span><span class=\"p\">,</span> <span class=\"s2\">&quot;item_sku&quot;</span><span class=\"p\">,</span> <span class=\"s2\">&quot;renewable&quot;</span><span class=\"p\">]</span>\n",
       "\n",
       "    <span class=\"n\">acv_table</span> <span class=\"o\">=</span> <span class=\"n\">acv_table</span><span class=\"p\">[[</span><span class=\"s2\">&quot;period&quot;</span><span class=\"p\">,</span> <span class=\"s2\">&quot;id&quot;</span><span class=\"p\">,</span> <span class=\"s2\">&quot;item_sku&quot;</span><span class=\"p\">,</span> <span class=\"s2\">&quot;renewable&quot;</span><span class=\"p\">,</span> <span class=\"s2\">&quot;acv&quot;</span><span class=\"p\">]]</span>\n",
       "\n",
       "    <span class=\"n\">acv_table</span> <span class=\"o\">=</span> <span class=\"p\">(</span>\n",
       "        <span class=\"n\">pd</span><span class=\"o\">.</span><span class=\"n\">DataFrame</span><span class=\"p\">(</span><span class=\"n\">acv_table</span><span class=\"o\">.</span><span class=\"n\">groupby</span><span class=\"p\">(</span><span class=\"n\">cols</span><span class=\"p\">)</span><span class=\"o\">.</span><span class=\"n\">sum</span><span class=\"p\">())</span>\n",
       "        <span class=\"o\">.</span><span class=\"n\">unstack</span><span class=\"p\">(</span><span class=\"n\">level</span><span class=\"o\">=</span><span class=\"mi\">0</span><span class=\"p\">)</span>\n",
       "        <span class=\"o\">.</span><span class=\"n\">drop</span><span class=\"p\">(</span>\n",
       "            <span class=\"n\">columns</span><span class=\"o\">=</span><span class=\"p\">[</span>\n",
       "                <span class=\"n\">col</span> <span class=\"k\">for</span> <span class=\"n\">col</span> <span class=\"ow\">in</span> <span class=\"n\">acv_table</span><span class=\"o\">.</span><span class=\"n\">columns</span> <span class=\"k\">if</span> <span class=\"n\">col</span> <span class=\"ow\">not</span> <span class=\"ow\">in</span> <span class=\"n\">cols</span> <span class=\"ow\">and</span> <span class=\"n\">col</span> <span class=\"o\">!=</span> <span class=\"s2\">&quot;acv&quot;</span>\n",
       "            <span class=\"p\">]</span>\n",
       "        <span class=\"p\">)</span>\n",
       "    <span class=\"p\">)</span>\n",
       "\n",
       "    <span class=\"k\">return</span> <span class=\"n\">acv_table</span><span class=\"p\">[</span><span class=\"s2\">&quot;acv&quot;</span><span class=\"p\">]</span>\n",
       "</pre></div>\n"
      ],
      "text/latex": [
       "\\begin{Verbatim}[commandchars=\\\\\\{\\}]\n",
       "\\PY{k}{def} \\PY{n+nf}{build\\PYZus{}acv\\PYZus{}table}\\PY{p}{(}\n",
       "    \\PY{n}{contracts}\\PY{p}{:} \\PY{n}{List}\\PY{p}{[}\\PY{n}{Contract}\\PY{p}{]}\\PY{p}{,} \\PY{n}{by\\PYZus{}lines}\\PY{p}{:} \\PY{n+nb}{bool} \\PY{o}{=} \\PY{k+kc}{True}\\PY{p}{,} \\PY{n}{include\\PYZus{}deferred}\\PY{p}{:} \\PY{n+nb}{bool} \\PY{o}{=} \\PY{k+kc}{True}\n",
       "\\PY{p}{)} \\PY{o}{\\PYZhy{}}\\PY{o}{\\PYZgt{}} \\PY{n}{pd}\\PY{o}{.}\\PY{n}{DataFrame}\\PY{p}{:}\n",
       "\\PY{+w}{    }\\PY{l+s+sd}{\\PYZdq{}\\PYZdq{}\\PYZdq{}Builds ACV DataFrame.}\n",
       "\n",
       "\\PY{l+s+sd}{    Takes list of inputed `Contracts` and first builds a regular}\n",
       "\\PY{l+s+sd}{    contract table with `build\\PYZus{}contracts\\PYZus{}table`. Then cross\\PYZhy{}joins}\n",
       "\\PY{l+s+sd}{    with possible date values from `get\\PYZus{}end\\PYZus{}of\\PYZus{}month\\PYZus{}range`.}\n",
       "\\PY{l+s+sd}{    Month range is determined by oldest and newest possible dates}\n",
       "\\PY{l+s+sd}{    that are provided in the contracts. Depending on annualizing}\n",
       "\\PY{l+s+sd}{    by header or by lines it will annualize the expected results.}\n",
       "\n",
       "\\PY{l+s+sd}{    Args:}\n",
       "\\PY{l+s+sd}{        contracts (List[Contract]): A list of the `Contract` dataclass.}\n",
       "\\PY{l+s+sd}{        by\\PYZus{}lines (bool, optional): bool to determine whether to}\n",
       "\\PY{l+s+sd}{            annualize by header or by lines. If `True`, will annualize}\n",
       "\\PY{l+s+sd}{            by lines, `False` will annualize by header. Defaults to True.}\n",
       "\\PY{l+s+sd}{        include\\PYZus{}deferred (bool, optional): bool to determine whether to}\n",
       "\\PY{l+s+sd}{            include deferred ARR or not. If `True` data will include}\n",
       "\\PY{l+s+sd}{            deferred ARR. `False` data will not include deferred ARR.}\n",
       "\\PY{l+s+sd}{            Defaults to True.}\n",
       "\n",
       "\\PY{l+s+sd}{    Returns:}\n",
       "\\PY{l+s+sd}{        pd.DataFrame: Pandas dataframe as a matrix. The dates are the}\n",
       "\\PY{l+s+sd}{            columns and contract id, item\\PYZus{}sku, and renewability as}\n",
       "\\PY{l+s+sd}{            the rows. ACV will be the values.}\n",
       "\\PY{l+s+sd}{    \\PYZdq{}\\PYZdq{}\\PYZdq{}}\n",
       "    \\PY{c+c1}{\\PYZsh{} 1}\n",
       "    \\PY{n}{all\\PYZus{}lines} \\PY{o}{=} \\PY{p}{[}\\PY{p}{]}\n",
       "\n",
       "    \\PY{k}{for} \\PY{n}{contract} \\PY{o+ow}{in} \\PY{n}{contracts}\\PY{p}{:}\n",
       "        \\PY{n}{all\\PYZus{}lines} \\PY{o}{+}\\PY{o}{=} \\PY{n}{contract}\\PY{o}{.}\\PY{n}{lines}\n",
       "\n",
       "    \\PY{n}{min\\PYZus{}booking\\PYZus{}date} \\PY{o}{=} \\PY{n+nb}{min}\\PY{p}{(}\\PY{p}{[}\\PY{n}{contract}\\PY{o}{.}\\PY{n}{header}\\PY{o}{.}\\PY{n}{booking\\PYZus{}date} \\PY{k}{for} \\PY{n}{contract} \\PY{o+ow}{in} \\PY{n}{contracts}\\PY{p}{]}\\PY{p}{)}\n",
       "    \\PY{n}{min\\PYZus{}start\\PYZus{}date} \\PY{o}{=} \\PY{n+nb}{min}\\PY{p}{(}\\PY{p}{[}\\PY{n}{line}\\PY{o}{.}\\PY{n}{start\\PYZus{}date} \\PY{k}{for} \\PY{n}{line} \\PY{o+ow}{in} \\PY{n}{all\\PYZus{}lines}\\PY{p}{]}\\PY{p}{)}\n",
       "    \\PY{n}{min\\PYZus{}date} \\PY{o}{=} \\PY{n+nb}{min}\\PY{p}{(}\\PY{n}{min\\PYZus{}booking\\PYZus{}date}\\PY{p}{,} \\PY{n}{min\\PYZus{}start\\PYZus{}date}\\PY{p}{)}\n",
       "    \\PY{n}{max\\PYZus{}date} \\PY{o}{=} \\PY{n+nb}{max}\\PY{p}{(}\\PY{p}{[}\\PY{n}{line}\\PY{o}{.}\\PY{n}{end\\PYZus{}date} \\PY{k}{for} \\PY{n}{line} \\PY{o+ow}{in} \\PY{n}{all\\PYZus{}lines}\\PY{p}{]}\\PY{p}{)}\n",
       "\n",
       "    \\PY{n+nb}{range} \\PY{o}{=} \\PY{n}{pd}\\PY{o}{.}\\PY{n}{DataFrame}\\PY{p}{(}\\PY{n}{get\\PYZus{}end\\PYZus{}of\\PYZus{}month\\PYZus{}range}\\PY{p}{(}\\PY{n}{min\\PYZus{}date}\\PY{p}{,} \\PY{n}{max\\PYZus{}date}\\PY{p}{)}\\PY{p}{)}\\PY{o}{.}\\PY{n}{rename}\\PY{p}{(}\n",
       "        \\PY{n}{columns}\\PY{o}{=}\\PY{p}{\\PYZob{}}\\PY{l+m+mi}{0}\\PY{p}{:} \\PY{l+s+s2}{\\PYZdq{}}\\PY{l+s+s2}{period}\\PY{l+s+s2}{\\PYZdq{}}\\PY{p}{\\PYZcb{}}\n",
       "    \\PY{p}{)}\n",
       "\n",
       "    \\PY{c+c1}{\\PYZsh{} 2}\n",
       "    \\PY{n}{acv\\PYZus{}table} \\PY{o}{=} \\PY{n+nb}{range}\\PY{o}{.}\\PY{n}{merge}\\PY{p}{(}\\PY{n}{build\\PYZus{}contracts\\PYZus{}table}\\PY{p}{(}\\PY{n}{contracts}\\PY{p}{)}\\PY{p}{,} \\PY{n}{how}\\PY{o}{=}\\PY{l+s+s2}{\\PYZdq{}}\\PY{l+s+s2}{cross}\\PY{l+s+s2}{\\PYZdq{}}\\PY{p}{)}\n",
       "\n",
       "    \\PY{c+c1}{\\PYZsh{} 3}\n",
       "    \\PY{n}{col\\PYZus{}name} \\PY{o}{=} \\PY{l+s+s2}{\\PYZdq{}}\\PY{l+s+s2}{line}\\PY{l+s+s2}{\\PYZdq{}} \\PY{k}{if} \\PY{n}{by\\PYZus{}lines} \\PY{k}{else} \\PY{l+s+s2}{\\PYZdq{}}\\PY{l+s+s2}{header}\\PY{l+s+s2}{\\PYZdq{}}\n",
       "\n",
       "    \\PY{n}{acv\\PYZus{}table}\\PY{p}{[}\\PY{l+s+s2}{\\PYZdq{}}\\PY{l+s+s2}{acv}\\PY{l+s+s2}{\\PYZdq{}}\\PY{p}{]} \\PY{o}{=} \\PY{n}{acv\\PYZus{}table}\\PY{o}{.}\\PY{n}{apply}\\PY{p}{(}\n",
       "        \\PY{k}{lambda} \\PY{n}{row}\\PY{p}{:} \\PY{n}{row\\PYZus{}annualization}\\PY{p}{(}\\PY{n}{row}\\PY{p}{,} \\PY{n}{col\\PYZus{}name}\\PY{p}{,} \\PY{n}{include\\PYZus{}deferred}\\PY{p}{)}\\PY{p}{,}\n",
       "        \\PY{n}{axis}\\PY{o}{=}\\PY{l+m+mi}{1}\\PY{p}{,}\n",
       "    \\PY{p}{)}\n",
       "\n",
       "    \\PY{c+c1}{\\PYZsh{} 4}\n",
       "    \\PY{n}{cols} \\PY{o}{=} \\PY{p}{[}\\PY{l+s+s2}{\\PYZdq{}}\\PY{l+s+s2}{period}\\PY{l+s+s2}{\\PYZdq{}}\\PY{p}{,} \\PY{l+s+s2}{\\PYZdq{}}\\PY{l+s+s2}{id}\\PY{l+s+s2}{\\PYZdq{}}\\PY{p}{,} \\PY{l+s+s2}{\\PYZdq{}}\\PY{l+s+s2}{item\\PYZus{}sku}\\PY{l+s+s2}{\\PYZdq{}}\\PY{p}{,} \\PY{l+s+s2}{\\PYZdq{}}\\PY{l+s+s2}{renewable}\\PY{l+s+s2}{\\PYZdq{}}\\PY{p}{]}\n",
       "\n",
       "    \\PY{n}{acv\\PYZus{}table} \\PY{o}{=} \\PY{n}{acv\\PYZus{}table}\\PY{p}{[}\\PY{p}{[}\\PY{l+s+s2}{\\PYZdq{}}\\PY{l+s+s2}{period}\\PY{l+s+s2}{\\PYZdq{}}\\PY{p}{,} \\PY{l+s+s2}{\\PYZdq{}}\\PY{l+s+s2}{id}\\PY{l+s+s2}{\\PYZdq{}}\\PY{p}{,} \\PY{l+s+s2}{\\PYZdq{}}\\PY{l+s+s2}{item\\PYZus{}sku}\\PY{l+s+s2}{\\PYZdq{}}\\PY{p}{,} \\PY{l+s+s2}{\\PYZdq{}}\\PY{l+s+s2}{renewable}\\PY{l+s+s2}{\\PYZdq{}}\\PY{p}{,} \\PY{l+s+s2}{\\PYZdq{}}\\PY{l+s+s2}{acv}\\PY{l+s+s2}{\\PYZdq{}}\\PY{p}{]}\\PY{p}{]}\n",
       "\n",
       "    \\PY{n}{acv\\PYZus{}table} \\PY{o}{=} \\PY{p}{(}\n",
       "        \\PY{n}{pd}\\PY{o}{.}\\PY{n}{DataFrame}\\PY{p}{(}\\PY{n}{acv\\PYZus{}table}\\PY{o}{.}\\PY{n}{groupby}\\PY{p}{(}\\PY{n}{cols}\\PY{p}{)}\\PY{o}{.}\\PY{n}{sum}\\PY{p}{(}\\PY{p}{)}\\PY{p}{)}\n",
       "        \\PY{o}{.}\\PY{n}{unstack}\\PY{p}{(}\\PY{n}{level}\\PY{o}{=}\\PY{l+m+mi}{0}\\PY{p}{)}\n",
       "        \\PY{o}{.}\\PY{n}{drop}\\PY{p}{(}\n",
       "            \\PY{n}{columns}\\PY{o}{=}\\PY{p}{[}\n",
       "                \\PY{n}{col} \\PY{k}{for} \\PY{n}{col} \\PY{o+ow}{in} \\PY{n}{acv\\PYZus{}table}\\PY{o}{.}\\PY{n}{columns} \\PY{k}{if} \\PY{n}{col} \\PY{o+ow}{not} \\PY{o+ow}{in} \\PY{n}{cols} \\PY{o+ow}{and} \\PY{n}{col} \\PY{o}{!=} \\PY{l+s+s2}{\\PYZdq{}}\\PY{l+s+s2}{acv}\\PY{l+s+s2}{\\PYZdq{}}\n",
       "            \\PY{p}{]}\n",
       "        \\PY{p}{)}\n",
       "    \\PY{p}{)}\n",
       "\n",
       "    \\PY{k}{return} \\PY{n}{acv\\PYZus{}table}\\PY{p}{[}\\PY{l+s+s2}{\\PYZdq{}}\\PY{l+s+s2}{acv}\\PY{l+s+s2}{\\PYZdq{}}\\PY{p}{]}\n",
       "\\end{Verbatim}\n"
      ],
      "text/plain": [
       "def build_acv_table(\n",
       "    contracts: List[Contract], by_lines: bool = True, include_deferred: bool = True\n",
       ") -> pd.DataFrame:\n",
       "    \"\"\"Builds ACV DataFrame.\n",
       "\n",
       "    Takes list of inputed `Contracts` and first builds a regular\n",
       "    contract table with `build_contracts_table`. Then cross-joins\n",
       "    with possible date values from `get_end_of_month_range`.\n",
       "    Month range is determined by oldest and newest possible dates\n",
       "    that are provided in the contracts. Depending on annualizing\n",
       "    by header or by lines it will annualize the expected results.\n",
       "\n",
       "    Args:\n",
       "        contracts (List[Contract]): A list of the `Contract` dataclass.\n",
       "        by_lines (bool, optional): bool to determine whether to\n",
       "            annualize by header or by lines. If `True`, will annualize\n",
       "            by lines, `False` will annualize by header. Defaults to True.\n",
       "        include_deferred (bool, optional): bool to determine whether to\n",
       "            include deferred ARR or not. If `True` data will include\n",
       "            deferred ARR. `False` data will not include deferred ARR.\n",
       "            Defaults to True.\n",
       "\n",
       "    Returns:\n",
       "        pd.DataFrame: Pandas dataframe as a matrix. The dates are the\n",
       "            columns and contract id, item_sku, and renewability as\n",
       "            the rows. ACV will be the values.\n",
       "    \"\"\"\n",
       "    # 1\n",
       "    all_lines = []\n",
       "\n",
       "    for contract in contracts:\n",
       "        all_lines += contract.lines\n",
       "\n",
       "    min_booking_date = min([contract.header.booking_date for contract in contracts])\n",
       "    min_start_date = min([line.start_date for line in all_lines])\n",
       "    min_date = min(min_booking_date, min_start_date)\n",
       "    max_date = max([line.end_date for line in all_lines])\n",
       "\n",
       "    range = pd.DataFrame(get_end_of_month_range(min_date, max_date)).rename(\n",
       "        columns={0: \"period\"}\n",
       "    )\n",
       "\n",
       "    # 2\n",
       "    acv_table = range.merge(build_contracts_table(contracts), how=\"cross\")\n",
       "\n",
       "    # 3\n",
       "    col_name = \"line\" if by_lines else \"header\"\n",
       "\n",
       "    acv_table[\"acv\"] = acv_table.apply(\n",
       "        lambda row: row_annualization(row, col_name, include_deferred),\n",
       "        axis=1,\n",
       "    )\n",
       "\n",
       "    # 4\n",
       "    cols = [\"period\", \"id\", \"item_sku\", \"renewable\"]\n",
       "\n",
       "    acv_table = acv_table[[\"period\", \"id\", \"item_sku\", \"renewable\", \"acv\"]]\n",
       "\n",
       "    acv_table = (\n",
       "        pd.DataFrame(acv_table.groupby(cols).sum())\n",
       "        .unstack(level=0)\n",
       "        .drop(\n",
       "            columns=[\n",
       "                col for col in acv_table.columns if col not in cols and col != \"acv\"\n",
       "            ]\n",
       "        )\n",
       "    )\n",
       "\n",
       "    return acv_table[\"acv\"]"
      ]
     },
     "execution_count": 8,
     "metadata": {},
     "output_type": "execute_result"
    }
   ],
   "source": [
    "from arr import build_acv_table\n",
    "\n",
    "Code(getsource(build_acv_table), language=\"python3\")"
   ]
  },
  {
   "cell_type": "code",
   "execution_count": 9,
   "metadata": {},
   "outputs": [
    {
     "data": {
      "text/html": [
       "<div>\n",
       "<style scoped>\n",
       "    .dataframe tbody tr th:only-of-type {\n",
       "        vertical-align: middle;\n",
       "    }\n",
       "\n",
       "    .dataframe tbody tr th {\n",
       "        vertical-align: top;\n",
       "    }\n",
       "\n",
       "    .dataframe thead th {\n",
       "        text-align: right;\n",
       "    }\n",
       "</style>\n",
       "<table border=\"1\" class=\"dataframe\">\n",
       "  <thead>\n",
       "    <tr style=\"text-align: right;\">\n",
       "      <th></th>\n",
       "      <th></th>\n",
       "      <th>period</th>\n",
       "      <th>2024-01-31</th>\n",
       "      <th>2024-02-29</th>\n",
       "      <th>2024-03-31</th>\n",
       "      <th>2024-04-30</th>\n",
       "      <th>2024-05-31</th>\n",
       "      <th>2024-06-30</th>\n",
       "      <th>2024-07-31</th>\n",
       "      <th>2024-08-31</th>\n",
       "      <th>2024-09-30</th>\n",
       "      <th>2024-10-31</th>\n",
       "      <th>2024-11-30</th>\n",
       "      <th>2024-12-31</th>\n",
       "    </tr>\n",
       "    <tr>\n",
       "      <th>id</th>\n",
       "      <th>item_sku</th>\n",
       "      <th>renewable</th>\n",
       "      <th></th>\n",
       "      <th></th>\n",
       "      <th></th>\n",
       "      <th></th>\n",
       "      <th></th>\n",
       "      <th></th>\n",
       "      <th></th>\n",
       "      <th></th>\n",
       "      <th></th>\n",
       "      <th></th>\n",
       "      <th></th>\n",
       "      <th></th>\n",
       "    </tr>\n",
       "  </thead>\n",
       "  <tbody>\n",
       "    <tr>\n",
       "      <th rowspan=\"4\" valign=\"top\">1</th>\n",
       "      <th>1</th>\n",
       "      <th>True</th>\n",
       "      <td>10000.0</td>\n",
       "      <td>10000.0</td>\n",
       "      <td>10000.0</td>\n",
       "      <td>0.0</td>\n",
       "      <td>0.0</td>\n",
       "      <td>0.0</td>\n",
       "      <td>0.0</td>\n",
       "      <td>0.0</td>\n",
       "      <td>0.0</td>\n",
       "      <td>0.0</td>\n",
       "      <td>0.0</td>\n",
       "      <td>0.0</td>\n",
       "    </tr>\n",
       "    <tr>\n",
       "      <th>2</th>\n",
       "      <th>True</th>\n",
       "      <td>10000.0</td>\n",
       "      <td>10000.0</td>\n",
       "      <td>10000.0</td>\n",
       "      <td>0.0</td>\n",
       "      <td>0.0</td>\n",
       "      <td>0.0</td>\n",
       "      <td>0.0</td>\n",
       "      <td>0.0</td>\n",
       "      <td>0.0</td>\n",
       "      <td>0.0</td>\n",
       "      <td>0.0</td>\n",
       "      <td>0.0</td>\n",
       "    </tr>\n",
       "    <tr>\n",
       "      <th>3</th>\n",
       "      <th>True</th>\n",
       "      <td>10000.0</td>\n",
       "      <td>10000.0</td>\n",
       "      <td>10000.0</td>\n",
       "      <td>0.0</td>\n",
       "      <td>0.0</td>\n",
       "      <td>0.0</td>\n",
       "      <td>0.0</td>\n",
       "      <td>0.0</td>\n",
       "      <td>0.0</td>\n",
       "      <td>0.0</td>\n",
       "      <td>0.0</td>\n",
       "      <td>0.0</td>\n",
       "    </tr>\n",
       "    <tr>\n",
       "      <th>4</th>\n",
       "      <th>True</th>\n",
       "      <td>10000.0</td>\n",
       "      <td>10000.0</td>\n",
       "      <td>10000.0</td>\n",
       "      <td>0.0</td>\n",
       "      <td>0.0</td>\n",
       "      <td>0.0</td>\n",
       "      <td>0.0</td>\n",
       "      <td>0.0</td>\n",
       "      <td>0.0</td>\n",
       "      <td>0.0</td>\n",
       "      <td>0.0</td>\n",
       "      <td>0.0</td>\n",
       "    </tr>\n",
       "    <tr>\n",
       "      <th>2</th>\n",
       "      <th>1</th>\n",
       "      <th>True</th>\n",
       "      <td>10000.0</td>\n",
       "      <td>10000.0</td>\n",
       "      <td>10000.0</td>\n",
       "      <td>10000.0</td>\n",
       "      <td>10000.0</td>\n",
       "      <td>10000.0</td>\n",
       "      <td>10000.0</td>\n",
       "      <td>10000.0</td>\n",
       "      <td>10000.0</td>\n",
       "      <td>10000.0</td>\n",
       "      <td>10000.0</td>\n",
       "      <td>10000.0</td>\n",
       "    </tr>\n",
       "    <tr>\n",
       "      <th>3</th>\n",
       "      <th>1</th>\n",
       "      <th>True</th>\n",
       "      <td>10000.0</td>\n",
       "      <td>10000.0</td>\n",
       "      <td>10000.0</td>\n",
       "      <td>10000.0</td>\n",
       "      <td>10000.0</td>\n",
       "      <td>10000.0</td>\n",
       "      <td>10000.0</td>\n",
       "      <td>10000.0</td>\n",
       "      <td>10000.0</td>\n",
       "      <td>10000.0</td>\n",
       "      <td>10000.0</td>\n",
       "      <td>10000.0</td>\n",
       "    </tr>\n",
       "  </tbody>\n",
       "</table>\n",
       "</div>"
      ],
      "text/plain": [
       "period                 2024-01-31  2024-02-29  2024-03-31  2024-04-30  \\\n",
       "id item_sku renewable                                                   \n",
       "1  1        True          10000.0     10000.0     10000.0         0.0   \n",
       "   2        True          10000.0     10000.0     10000.0         0.0   \n",
       "   3        True          10000.0     10000.0     10000.0         0.0   \n",
       "   4        True          10000.0     10000.0     10000.0         0.0   \n",
       "2  1        True          10000.0     10000.0     10000.0     10000.0   \n",
       "3  1        True          10000.0     10000.0     10000.0     10000.0   \n",
       "\n",
       "period                 2024-05-31  2024-06-30  2024-07-31  2024-08-31  \\\n",
       "id item_sku renewable                                                   \n",
       "1  1        True              0.0         0.0         0.0         0.0   \n",
       "   2        True              0.0         0.0         0.0         0.0   \n",
       "   3        True              0.0         0.0         0.0         0.0   \n",
       "   4        True              0.0         0.0         0.0         0.0   \n",
       "2  1        True          10000.0     10000.0     10000.0     10000.0   \n",
       "3  1        True          10000.0     10000.0     10000.0     10000.0   \n",
       "\n",
       "period                 2024-09-30  2024-10-31  2024-11-30  2024-12-31  \n",
       "id item_sku renewable                                                  \n",
       "1  1        True              0.0         0.0         0.0         0.0  \n",
       "   2        True              0.0         0.0         0.0         0.0  \n",
       "   3        True              0.0         0.0         0.0         0.0  \n",
       "   4        True              0.0         0.0         0.0         0.0  \n",
       "2  1        True          10000.0     10000.0     10000.0     10000.0  \n",
       "3  1        True          10000.0     10000.0     10000.0     10000.0  "
      ]
     },
     "execution_count": 9,
     "metadata": {},
     "output_type": "execute_result"
    }
   ],
   "source": [
    "build_acv_table([short_contract, reg_contract1, reg_contract2])"
   ]
  },
  {
   "cell_type": "markdown",
   "metadata": {},
   "source": [
    "When annualizing contracts **shorter** than 1 year, the ACV increases from the TCV. Annualizing contracts **longer** than 1 year, the ACV decreases from TCV. The implications of shorter contracts mean the company will chase after a larger ACV in a shorter amount of time. The example above shows that. Contract # 1 has 4 lines at 2.5k each. When annualizing, the 2.5k increases into 10k, but quickly falls to 0 when the contract is over.\n",
    "\n",
    "In my experience, shorter contracts are often used as a back door *trial/demo*. It's a way to give a customer the product for a short period of time. This means the renewal implications are not always the same as a full year contract or more, so you're likely to see the big swing in shorter contracts on the down side.\n",
    "\n",
    "<div class=\"alert alert-block alert-warning\">\n",
    "At scale, seeing the quick rise and fall of shorter contracts can often push a business decision to not annualize contracts shorter than a 1 year time frame.\n",
    "</div>"
   ]
  },
  {
   "cell_type": "markdown",
   "metadata": {},
   "source": [
    "### Ramp Contracts"
   ]
  },
  {
   "cell_type": "markdown",
   "metadata": {},
   "source": [
    "A [ramp contract](https://dealhub.io/glossary/ramp-deal/) will have a change in price during the term of the contract. A common reason for ramp contracts is to lock the customer in for multiple years. The first year starts at price, then the subsequent years increase in price over time."
   ]
  },
  {
   "cell_type": "code",
   "execution_count": 10,
   "metadata": {},
   "outputs": [
    {
     "data": {
      "text/plain": [
       "          Contract #1 - $36,000 - 2024-01-01           \n",
       "                2024-01-01 - 2026-12-31                \n",
       "*******************************************************\n",
       "sku\tstart date\tend date\tamount\trenewable\n",
       "*******************************************************\n",
       "1\t2024-01-01\t2024-12-31\t4000\tTrue\n",
       "2\t2024-01-01\t2024-12-31\t4000\tTrue\n",
       "1\t2025-01-01\t2025-12-31\t6000\tTrue\n",
       "2\t2025-01-01\t2025-12-31\t6000\tTrue\n",
       "1\t2026-01-01\t2026-12-31\t8000\tTrue\n",
       "2\t2026-01-01\t2026-12-31\t8000\tTrue\n",
       "*******************************************************"
      ]
     },
     "execution_count": 10,
     "metadata": {},
     "output_type": "execute_result"
    }
   ],
   "source": [
    "ramp_contract = Contract(\n",
    "    1,\n",
    "    ContractHeader(36_000, date(2024, 1, 1), date(2026, 12, 31)),\n",
    "    [\n",
    "        ContractLine(4_000, date(2024, 1, 1), date(2024, 12, 31), 1, True),\n",
    "        ContractLine(4_000, date(2024, 1, 1), date(2024, 12, 31), 2, True),\n",
    "        ContractLine(6_000, date(2025, 1, 1), date(2025, 12, 31), 1, True),\n",
    "        ContractLine(6_000, date(2025, 1, 1), date(2025, 12, 31), 2, True),\n",
    "        ContractLine(8_000, date(2026, 1, 1), date(2026, 12, 31), 1, True),\n",
    "        ContractLine(8_000, date(2026, 1, 1), date(2026, 12, 31), 2, True),\n",
    "    ],\n",
    ")\n",
    "ramp_contract"
   ]
  },
  {
   "cell_type": "markdown",
   "metadata": {},
   "source": [
    "Contract # 1 has a TCV of $\\text{36k}$, over the course of 3 years. It has two different items in the contract and ramps up 2k each year for each item. Often times, ACV calculations will only annualize by header dates of contracts. Annualizing at the header does not give the full story."
   ]
  },
  {
   "cell_type": "code",
   "execution_count": 11,
   "metadata": {},
   "outputs": [
    {
     "name": "stdout",
     "output_type": "stream",
     "text": [
      "ARR of Ramp Contract by Header Dates\n"
     ]
    },
    {
     "data": {
      "text/html": [
       "<div>\n",
       "<style scoped>\n",
       "    .dataframe tbody tr th:only-of-type {\n",
       "        vertical-align: middle;\n",
       "    }\n",
       "\n",
       "    .dataframe tbody tr th {\n",
       "        vertical-align: top;\n",
       "    }\n",
       "\n",
       "    .dataframe thead th {\n",
       "        text-align: right;\n",
       "    }\n",
       "</style>\n",
       "<table border=\"1\" class=\"dataframe\">\n",
       "  <thead>\n",
       "    <tr style=\"text-align: right;\">\n",
       "      <th></th>\n",
       "      <th></th>\n",
       "      <th>period</th>\n",
       "      <th>2024-01-31</th>\n",
       "      <th>2024-02-29</th>\n",
       "      <th>2024-03-31</th>\n",
       "      <th>2024-04-30</th>\n",
       "      <th>2024-05-31</th>\n",
       "      <th>2024-06-30</th>\n",
       "      <th>2024-07-31</th>\n",
       "      <th>2024-08-31</th>\n",
       "      <th>2024-09-30</th>\n",
       "      <th>2024-10-31</th>\n",
       "      <th>...</th>\n",
       "      <th>2026-03-31</th>\n",
       "      <th>2026-04-30</th>\n",
       "      <th>2026-05-31</th>\n",
       "      <th>2026-06-30</th>\n",
       "      <th>2026-07-31</th>\n",
       "      <th>2026-08-31</th>\n",
       "      <th>2026-09-30</th>\n",
       "      <th>2026-10-31</th>\n",
       "      <th>2026-11-30</th>\n",
       "      <th>2026-12-31</th>\n",
       "    </tr>\n",
       "    <tr>\n",
       "      <th>id</th>\n",
       "      <th>item_sku</th>\n",
       "      <th>renewable</th>\n",
       "      <th></th>\n",
       "      <th></th>\n",
       "      <th></th>\n",
       "      <th></th>\n",
       "      <th></th>\n",
       "      <th></th>\n",
       "      <th></th>\n",
       "      <th></th>\n",
       "      <th></th>\n",
       "      <th></th>\n",
       "      <th></th>\n",
       "      <th></th>\n",
       "      <th></th>\n",
       "      <th></th>\n",
       "      <th></th>\n",
       "      <th></th>\n",
       "      <th></th>\n",
       "      <th></th>\n",
       "      <th></th>\n",
       "      <th></th>\n",
       "      <th></th>\n",
       "    </tr>\n",
       "  </thead>\n",
       "  <tbody>\n",
       "    <tr>\n",
       "      <th rowspan=\"2\" valign=\"top\">1</th>\n",
       "      <th>1</th>\n",
       "      <th>True</th>\n",
       "      <td>6000.0</td>\n",
       "      <td>6000.0</td>\n",
       "      <td>6000.0</td>\n",
       "      <td>6000.0</td>\n",
       "      <td>6000.0</td>\n",
       "      <td>6000.0</td>\n",
       "      <td>6000.0</td>\n",
       "      <td>6000.0</td>\n",
       "      <td>6000.0</td>\n",
       "      <td>6000.0</td>\n",
       "      <td>...</td>\n",
       "      <td>6000.0</td>\n",
       "      <td>6000.0</td>\n",
       "      <td>6000.0</td>\n",
       "      <td>6000.0</td>\n",
       "      <td>6000.0</td>\n",
       "      <td>6000.0</td>\n",
       "      <td>6000.0</td>\n",
       "      <td>6000.0</td>\n",
       "      <td>6000.0</td>\n",
       "      <td>6000.0</td>\n",
       "    </tr>\n",
       "    <tr>\n",
       "      <th>2</th>\n",
       "      <th>True</th>\n",
       "      <td>6000.0</td>\n",
       "      <td>6000.0</td>\n",
       "      <td>6000.0</td>\n",
       "      <td>6000.0</td>\n",
       "      <td>6000.0</td>\n",
       "      <td>6000.0</td>\n",
       "      <td>6000.0</td>\n",
       "      <td>6000.0</td>\n",
       "      <td>6000.0</td>\n",
       "      <td>6000.0</td>\n",
       "      <td>...</td>\n",
       "      <td>6000.0</td>\n",
       "      <td>6000.0</td>\n",
       "      <td>6000.0</td>\n",
       "      <td>6000.0</td>\n",
       "      <td>6000.0</td>\n",
       "      <td>6000.0</td>\n",
       "      <td>6000.0</td>\n",
       "      <td>6000.0</td>\n",
       "      <td>6000.0</td>\n",
       "      <td>6000.0</td>\n",
       "    </tr>\n",
       "  </tbody>\n",
       "</table>\n",
       "<p>2 rows × 36 columns</p>\n",
       "</div>"
      ],
      "text/plain": [
       "period                 2024-01-31  2024-02-29  2024-03-31  2024-04-30  \\\n",
       "id item_sku renewable                                                   \n",
       "1  1        True           6000.0      6000.0      6000.0      6000.0   \n",
       "   2        True           6000.0      6000.0      6000.0      6000.0   \n",
       "\n",
       "period                 2024-05-31  2024-06-30  2024-07-31  2024-08-31  \\\n",
       "id item_sku renewable                                                   \n",
       "1  1        True           6000.0      6000.0      6000.0      6000.0   \n",
       "   2        True           6000.0      6000.0      6000.0      6000.0   \n",
       "\n",
       "period                 2024-09-30  2024-10-31  ...  2026-03-31  2026-04-30  \\\n",
       "id item_sku renewable                          ...                           \n",
       "1  1        True           6000.0      6000.0  ...      6000.0      6000.0   \n",
       "   2        True           6000.0      6000.0  ...      6000.0      6000.0   \n",
       "\n",
       "period                 2026-05-31  2026-06-30  2026-07-31  2026-08-31  \\\n",
       "id item_sku renewable                                                   \n",
       "1  1        True           6000.0      6000.0      6000.0      6000.0   \n",
       "   2        True           6000.0      6000.0      6000.0      6000.0   \n",
       "\n",
       "period                 2026-09-30  2026-10-31  2026-11-30  2026-12-31  \n",
       "id item_sku renewable                                                  \n",
       "1  1        True           6000.0      6000.0      6000.0      6000.0  \n",
       "   2        True           6000.0      6000.0      6000.0      6000.0  \n",
       "\n",
       "[2 rows x 36 columns]"
      ]
     },
     "metadata": {},
     "output_type": "display_data"
    },
    {
     "name": "stdout",
     "output_type": "stream",
     "text": [
      "ARR of Ramp Contract by Line Dates\n"
     ]
    },
    {
     "data": {
      "text/html": [
       "<div>\n",
       "<style scoped>\n",
       "    .dataframe tbody tr th:only-of-type {\n",
       "        vertical-align: middle;\n",
       "    }\n",
       "\n",
       "    .dataframe tbody tr th {\n",
       "        vertical-align: top;\n",
       "    }\n",
       "\n",
       "    .dataframe thead th {\n",
       "        text-align: right;\n",
       "    }\n",
       "</style>\n",
       "<table border=\"1\" class=\"dataframe\">\n",
       "  <thead>\n",
       "    <tr style=\"text-align: right;\">\n",
       "      <th></th>\n",
       "      <th></th>\n",
       "      <th>period</th>\n",
       "      <th>2024-01-31</th>\n",
       "      <th>2024-02-29</th>\n",
       "      <th>2024-03-31</th>\n",
       "      <th>2024-04-30</th>\n",
       "      <th>2024-05-31</th>\n",
       "      <th>2024-06-30</th>\n",
       "      <th>2024-07-31</th>\n",
       "      <th>2024-08-31</th>\n",
       "      <th>2024-09-30</th>\n",
       "      <th>2024-10-31</th>\n",
       "      <th>...</th>\n",
       "      <th>2026-03-31</th>\n",
       "      <th>2026-04-30</th>\n",
       "      <th>2026-05-31</th>\n",
       "      <th>2026-06-30</th>\n",
       "      <th>2026-07-31</th>\n",
       "      <th>2026-08-31</th>\n",
       "      <th>2026-09-30</th>\n",
       "      <th>2026-10-31</th>\n",
       "      <th>2026-11-30</th>\n",
       "      <th>2026-12-31</th>\n",
       "    </tr>\n",
       "    <tr>\n",
       "      <th>id</th>\n",
       "      <th>item_sku</th>\n",
       "      <th>renewable</th>\n",
       "      <th></th>\n",
       "      <th></th>\n",
       "      <th></th>\n",
       "      <th></th>\n",
       "      <th></th>\n",
       "      <th></th>\n",
       "      <th></th>\n",
       "      <th></th>\n",
       "      <th></th>\n",
       "      <th></th>\n",
       "      <th></th>\n",
       "      <th></th>\n",
       "      <th></th>\n",
       "      <th></th>\n",
       "      <th></th>\n",
       "      <th></th>\n",
       "      <th></th>\n",
       "      <th></th>\n",
       "      <th></th>\n",
       "      <th></th>\n",
       "      <th></th>\n",
       "    </tr>\n",
       "  </thead>\n",
       "  <tbody>\n",
       "    <tr>\n",
       "      <th rowspan=\"2\" valign=\"top\">1</th>\n",
       "      <th>1</th>\n",
       "      <th>True</th>\n",
       "      <td>18000.0</td>\n",
       "      <td>18000.0</td>\n",
       "      <td>18000.0</td>\n",
       "      <td>18000.0</td>\n",
       "      <td>18000.0</td>\n",
       "      <td>18000.0</td>\n",
       "      <td>18000.0</td>\n",
       "      <td>18000.0</td>\n",
       "      <td>18000.0</td>\n",
       "      <td>18000.0</td>\n",
       "      <td>...</td>\n",
       "      <td>8000.0</td>\n",
       "      <td>8000.0</td>\n",
       "      <td>8000.0</td>\n",
       "      <td>8000.0</td>\n",
       "      <td>8000.0</td>\n",
       "      <td>8000.0</td>\n",
       "      <td>8000.0</td>\n",
       "      <td>8000.0</td>\n",
       "      <td>8000.0</td>\n",
       "      <td>8000.0</td>\n",
       "    </tr>\n",
       "    <tr>\n",
       "      <th>2</th>\n",
       "      <th>True</th>\n",
       "      <td>18000.0</td>\n",
       "      <td>18000.0</td>\n",
       "      <td>18000.0</td>\n",
       "      <td>18000.0</td>\n",
       "      <td>18000.0</td>\n",
       "      <td>18000.0</td>\n",
       "      <td>18000.0</td>\n",
       "      <td>18000.0</td>\n",
       "      <td>18000.0</td>\n",
       "      <td>18000.0</td>\n",
       "      <td>...</td>\n",
       "      <td>8000.0</td>\n",
       "      <td>8000.0</td>\n",
       "      <td>8000.0</td>\n",
       "      <td>8000.0</td>\n",
       "      <td>8000.0</td>\n",
       "      <td>8000.0</td>\n",
       "      <td>8000.0</td>\n",
       "      <td>8000.0</td>\n",
       "      <td>8000.0</td>\n",
       "      <td>8000.0</td>\n",
       "    </tr>\n",
       "  </tbody>\n",
       "</table>\n",
       "<p>2 rows × 36 columns</p>\n",
       "</div>"
      ],
      "text/plain": [
       "period                 2024-01-31  2024-02-29  2024-03-31  2024-04-30  \\\n",
       "id item_sku renewable                                                   \n",
       "1  1        True          18000.0     18000.0     18000.0     18000.0   \n",
       "   2        True          18000.0     18000.0     18000.0     18000.0   \n",
       "\n",
       "period                 2024-05-31  2024-06-30  2024-07-31  2024-08-31  \\\n",
       "id item_sku renewable                                                   \n",
       "1  1        True          18000.0     18000.0     18000.0     18000.0   \n",
       "   2        True          18000.0     18000.0     18000.0     18000.0   \n",
       "\n",
       "period                 2024-09-30  2024-10-31  ...  2026-03-31  2026-04-30  \\\n",
       "id item_sku renewable                          ...                           \n",
       "1  1        True          18000.0     18000.0  ...      8000.0      8000.0   \n",
       "   2        True          18000.0     18000.0  ...      8000.0      8000.0   \n",
       "\n",
       "period                 2026-05-31  2026-06-30  2026-07-31  2026-08-31  \\\n",
       "id item_sku renewable                                                   \n",
       "1  1        True           8000.0      8000.0      8000.0      8000.0   \n",
       "   2        True           8000.0      8000.0      8000.0      8000.0   \n",
       "\n",
       "period                 2026-09-30  2026-10-31  2026-11-30  2026-12-31  \n",
       "id item_sku renewable                                                  \n",
       "1  1        True           8000.0      8000.0      8000.0      8000.0  \n",
       "   2        True           8000.0      8000.0      8000.0      8000.0  \n",
       "\n",
       "[2 rows x 36 columns]"
      ]
     },
     "metadata": {},
     "output_type": "display_data"
    }
   ],
   "source": [
    "by_lines = build_acv_table([ramp_contract])\n",
    "by_header = build_acv_table([ramp_contract], False)\n",
    "\n",
    "print(\"ARR of Ramp Contract by Header Dates\")\n",
    "display(by_header)\n",
    "print(\"ARR of Ramp Contract by Line Dates\")\n",
    "display(by_lines)"
   ]
  },
  {
   "cell_type": "markdown",
   "metadata": {},
   "source": [
    "$\\begin{matrix}\n",
    " \\text{Header} & \\to \\text{TCV 36k} & \\to & \\begin{matrix}12k & \\to & \\text{Year 1}\\\\ 12k & \\to & \\text{Year 2}\\\\ 12k & \\to & \\text{Year 3}\\end{matrix}\n",
    " \\\\\\\\\n",
    "\\text{Line} & \\to \\text{TCV 36k} & \\to & \\begin{matrix}8k & \\to & \\text{Year 1}\\\\ 12k & \\to & \\text{Year 2}\\\\ 16k & \\to & \\text{Year 3}\\end{matrix}\n",
    "\\end{matrix}$"
   ]
  },
  {
   "cell_type": "markdown",
   "metadata": {},
   "source": [
    "<div class=\"alert alert-block alert-info\">\n",
    "Annualizing by the line start and end dates is preferred over annualizing by header start and end dates.\n",
    "</div>"
   ]
  }
 ],
 "metadata": {
  "kernelspec": {
   "display_name": "Python 3",
   "language": "python",
   "name": "python3"
  },
  "language_info": {
   "codemirror_mode": {
    "name": "ipython",
    "version": 3
   },
   "file_extension": ".py",
   "mimetype": "text/x-python",
   "name": "python",
   "nbconvert_exporter": "python",
   "pygments_lexer": "ipython3",
   "version": "3.12.7"
  }
 },
 "nbformat": 4,
 "nbformat_minor": 2
}
