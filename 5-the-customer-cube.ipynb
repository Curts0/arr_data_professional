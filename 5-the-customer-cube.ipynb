{
 "cells": [
  {
   "cell_type": "markdown",
   "metadata": {},
   "source": [
    "## The Customer Cube"
   ]
  },
  {
   "cell_type": "markdown",
   "metadata": {},
   "source": [
    "<div class=\"alert alert-block alert-info\">\n",
    "<blockquote>\n",
    "<i>\"The loftier the building, the deeper must the foundation be laid.\"</i>\n",
    "\n",
    "<tab>- Thomas A Kempis\n",
    "</blockquote>\n",
    "ARR is the concrete for your foundation, then the customer cube is the foundation, and the metrics built on top of your customer cube, are the building.\n",
    "\n",
    "The entire calculating is just the beginning.\n",
    "</div>"
   ]
  },
  {
   "cell_type": "markdown",
   "metadata": {},
   "source": [
    "### What is a Customer Cube?"
   ]
  },
  {
   "cell_type": "markdown",
   "metadata": {},
   "source": [
    "In it's simplest form, a customer cube is ARR by month by customer by product. \n",
    "\n",
    "In terms of a visual, it's a matrix. Months as your column headers, ARR as your values, & everything else nested as your row headers.\n",
    "\n",
    "| | |2024-01-31|2024-02-29|2024-03-31|2024-04-30|2024-05-31|2024-06-30|2024-07-31|\n",
    "|---|---|---|---|---|---|---|---|---|\n",
    "|Customer #1|Product #1|10,000|10,000|10,000|10,000|10,000|10,000|10,000|\n",
    "|Customer #1|Product #2|8,000|8,000|8,000|8,000|8,000|8,000|8,000|\n",
    "|Customer #2|Product #1|10,000|10,000|10,000|0|0|0|0|\n",
    "|Customer #2|Product #2|8,000|8,000|8,000|0|0|0|0|\n",
    "|Customer #2|Product #3|0|0|0|5,000|5,000|5,000|5,000|\n",
    "|Customer #2|Product #4|0|0|0|12,000|12,000|12,000|12,000|\n",
    "|Customer #3|Product #1|10,000|10,000|10,000|10,000|10,000|10,000|10,000|\n",
    "\n",
    "In practice, this visual is easily presented from a classic star schema fact table in your data model.\n",
    "\n",
    "|date_key|customer_key|product_key|arr|\n",
    "|---|---|---|---|\n",
    "|20240131|1|1|10000|\n",
    "|20240229|1|1|10000|\n",
    "|20240331|1|1|10000|\n",
    "|20240430|1|1|10000|\n",
    "|20240531|1|1|10000|\n",
    "|20240630|1|1|10000|\n",
    "|20240131|1|2|8000|\n",
    "|20240229|1|2|8000|\n",
    "|20240331|1|2|8000|\n",
    "|...|...|...|...|\n",
    "|20240531|3|1|10000|\n",
    "|20240630|3|1|10000|\n",
    "\n",
    "As your cube matures and requirements grow, it's natural for this cube to take on more datapoints and categorizations. Slap a key in the fact table and *build*.\n",
    "\n",
    "<div class=\"alert alert-block alert-info\">\n",
    "I'll not be covering star schema. <a href=\"https://chrisadamson.com/star-schema-complete-reference/\">Chris Adamson</a> does a much better job. Adamson lays out the technical, but with a lens of practicality. He conveys how data professionals will be involved in many decisions. These decisions are <i>business decisions</i> with <i>technical implications</i>.\n",
    "\n",
    "One more time for the back of the room... <i>Business decisions</i> with <i>technical implications</i>. It's likely your data model will have issues, and sometimes, that's okay. These decisions will be made, whether yours or someone elses, to build in a sub-optimal way. You will constantly deal with resource, knowledge, time, cost, and political restraints. So, it's important to know when the technical implication (tech debt) is okay to take on and when it's not.\n",
    "\n",
    "So, it's a great a thought by Adamson. Not just for data modelling, but for life. We're not perfect and neither is your data model.\n",
    "</div>\n"
   ]
  },
  {
   "cell_type": "markdown",
   "metadata": {},
   "source": [
    "## The Fake Company"
   ]
  },
  {
   "cell_type": "markdown",
   "metadata": {},
   "source": [
    "To move further I've created a fake company w/ "
   ]
  },
  {
   "cell_type": "code",
   "execution_count": 1,
   "metadata": {},
   "outputs": [
    {
     "name": "stdout",
     "output_type": "stream",
     "text": [
      "importing `CONTRACTS`\n",
      "reading manually added contracts\n",
      "performing initial sales\n",
      "performing subsequent renewals\n"
     ]
    },
    {
     "ename": "TypeError",
     "evalue": "Cannot compare Timestamp with datetime.date. Use ts == pd.Timestamp(date) or ts.date() == date instead.",
     "output_type": "error",
     "traceback": [
      "\u001b[1;31m---------------------------------------------------------------------------\u001b[0m",
      "\u001b[1;31mTypeError\u001b[0m                                 Traceback (most recent call last)",
      "Cell \u001b[1;32mIn[1], line 2\u001b[0m\n\u001b[0;32m      1\u001b[0m \u001b[38;5;28mprint\u001b[39m(\u001b[38;5;124m'\u001b[39m\u001b[38;5;124mimporting `CONTRACTS`\u001b[39m\u001b[38;5;124m'\u001b[39m)\n\u001b[1;32m----> 2\u001b[0m \u001b[38;5;28;01mfrom\u001b[39;00m \u001b[38;5;21;01mdata\u001b[39;00m\u001b[38;5;21;01m.\u001b[39;00m\u001b[38;5;21;01mbuild_contracts\u001b[39;00m \u001b[38;5;28;01mimport\u001b[39;00m CONTRACTS\n\u001b[0;32m      3\u001b[0m \u001b[38;5;28mprint\u001b[39m(CONTRACTS\u001b[38;5;241m.\u001b[39mdtypes)\n\u001b[0;32m      4\u001b[0m CONTRACTS\u001b[38;5;241m.\u001b[39msample(\u001b[38;5;241m10\u001b[39m)\n",
      "File \u001b[1;32mc:\\Users\\CStallings\\OneDrive - Rockwell Automation, Inc\\Documents\\py_files\\arr_data_professional\\data\\build_contracts.py:177\u001b[0m\n\u001b[0;32m    175\u001b[0m \u001b[38;5;28;01mfor\u001b[39;00m contract_id \u001b[38;5;129;01min\u001b[39;00m contracts_to_check:\n\u001b[0;32m    176\u001b[0m     contract \u001b[38;5;241m=\u001b[39m Contract\u001b[38;5;241m.\u001b[39mfrom_df(CONTRACTS[CONTRACTS[\u001b[38;5;124m\"\u001b[39m\u001b[38;5;124mid\u001b[39m\u001b[38;5;124m\"\u001b[39m] \u001b[38;5;241m==\u001b[39m contract_id])\n\u001b[1;32m--> 177\u001b[0m     renew_contract \u001b[38;5;241m=\u001b[39m \u001b[43mrenewal\u001b[49m\u001b[43m(\u001b[49m\u001b[43mcontract\u001b[49m\u001b[43m)\u001b[49m\n\u001b[0;32m    178\u001b[0m     \u001b[38;5;28;01mif\u001b[39;00m renew_contract \u001b[38;5;129;01mis\u001b[39;00m \u001b[38;5;28;01mNone\u001b[39;00m \u001b[38;5;129;01mor\u001b[39;00m contract\u001b[38;5;241m.\u001b[39mcustomer \u001b[38;5;129;01min\u001b[39;00m no_more_renewal:\n\u001b[0;32m    179\u001b[0m         no_more_renewal\u001b[38;5;241m.\u001b[39mappend(contract\u001b[38;5;241m.\u001b[39mcustomer)\n",
      "File \u001b[1;32mc:\\Users\\CStallings\\OneDrive - Rockwell Automation, Inc\\Documents\\py_files\\arr_data_professional\\data\\build_contracts.py:99\u001b[0m, in \u001b[0;36mrenewal\u001b[1;34m(contract)\u001b[0m\n\u001b[0;32m     98\u001b[0m \u001b[38;5;28;01mdef\u001b[39;00m \u001b[38;5;21mrenewal\u001b[39m(contract: Contract) \u001b[38;5;241m-\u001b[39m\u001b[38;5;241m>\u001b[39m Contract \u001b[38;5;241m|\u001b[39m \u001b[38;5;28;01mNone\u001b[39;00m:\n\u001b[1;32m---> 99\u001b[0m     could_renew \u001b[38;5;241m=\u001b[39m \u001b[38;5;28;01mTrue\u001b[39;00m \u001b[38;5;28;01mif\u001b[39;00m \u001b[43mcontract\u001b[49m\u001b[38;5;241;43m.\u001b[39;49m\u001b[43mheader\u001b[49m\u001b[38;5;241;43m.\u001b[39;49m\u001b[43mend_date\u001b[49m\u001b[43m \u001b[49m\u001b[38;5;241;43m<\u001b[39;49m\u001b[43m \u001b[49m\u001b[43mMAX_DATE\u001b[49m \u001b[38;5;28;01melse\u001b[39;00m \u001b[38;5;28;01mFalse\u001b[39;00m\n\u001b[0;32m    100\u001b[0m     will_renew \u001b[38;5;241m=\u001b[39m choices([\u001b[38;5;28;01mTrue\u001b[39;00m, \u001b[38;5;28;01mFalse\u001b[39;00m], [RENEWAL_CHANCE, \u001b[38;5;241m1\u001b[39m \u001b[38;5;241m-\u001b[39m RENEWAL_CHANCE])[\u001b[38;5;241m0\u001b[39m]\n\u001b[0;32m    101\u001b[0m     will_expand \u001b[38;5;241m=\u001b[39m choices([\u001b[38;5;28;01mTrue\u001b[39;00m, \u001b[38;5;28;01mFalse\u001b[39;00m], [EXPANSION_CHANCE, \u001b[38;5;241m1\u001b[39m \u001b[38;5;241m-\u001b[39m EXPANSION_CHANCE])[\u001b[38;5;241m0\u001b[39m]\n",
      "File \u001b[1;32mtimestamps.pyx:377\u001b[0m, in \u001b[0;36mpandas._libs.tslibs.timestamps._Timestamp.__richcmp__\u001b[1;34m()\u001b[0m\n",
      "\u001b[1;31mTypeError\u001b[0m: Cannot compare Timestamp with datetime.date. Use ts == pd.Timestamp(date) or ts.date() == date instead."
     ]
    }
   ],
   "source": [
    "print('importing `CONTRACTS`')\n",
    "from data.build_contracts import CONTRACTS\n",
    "print(CONTRACTS.dtypes)\n",
    "CONTRACTS.sample(10)"
   ]
  }
 ],
 "metadata": {
  "kernelspec": {
   "display_name": "Python 3",
   "language": "python",
   "name": "python3"
  },
  "language_info": {
   "codemirror_mode": {
    "name": "ipython",
    "version": 3
   },
   "file_extension": ".py",
   "mimetype": "text/x-python",
   "name": "python",
   "nbconvert_exporter": "python",
   "pygments_lexer": "ipython3",
   "version": "3.12.7"
  }
 },
 "nbformat": 4,
 "nbformat_minor": 2
}
