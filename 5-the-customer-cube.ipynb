{
 "cells": [
  {
   "cell_type": "markdown",
   "metadata": {},
   "source": [
    "## The Customer Cube"
   ]
  },
  {
   "cell_type": "markdown",
   "metadata": {},
   "source": [
    "<div class=\"alert alert-block alert-info\">\n",
    "<blockquote>\n",
    "<i>\"The loftier the building, the deeper must the foundation be laid.\"</i>\n",
    "\n",
    "<tab>- Thomas A Kempis\n",
    "</blockquote>\n",
    "ARR is the concrete for your foundation, the customer cube is the foundation. Then the metrics built on top of your customer cube, are the building.\n",
    "</div>"
   ]
  },
  {
   "cell_type": "markdown",
   "metadata": {},
   "source": [
    "### What is a Customer Cube?"
   ]
  },
  {
   "cell_type": "markdown",
   "metadata": {},
   "source": [
    "In it's simplest form, a customer cube is ARR by month by customer by product. \n",
    "\n",
    "In terms of a visual, it's a matrix. Months as your column headers, ARR as your values, & everything else nested as your row headers.\n",
    "\n",
    "| | | |2024-01-31|2024-02-29|2024-03-31|2024-04-30|2024-05-31|2024-06-30|\n",
    "|---|---|---|---|---|---|---|---|---|\n",
    "|Customer #1|Product #1|10,000|10,000|10,000|10,000|10,000|10,000|10,000|10,000|\n",
    "|Customer #1|Product #2|8,000|8,000|8,000|8,000|8,000|8,000|8,000|8,000|\n",
    "|Customer #2|Product #1|10,000|10,000|10,000|0|0|0|0|0|\n",
    "|Customer #2|Product #2|8,000|8,000|8,000|0|0|0|0|0|\n",
    "|Customer #2|Product #3|0|0|0|5,000|5,000|5,000|5,000|5,000|\n",
    "|Customer #2|Product #4|0|0|0|12,000|12,000|12,000|12,000|12,000|\n",
    "|Customer #3|Product #1|10,000|10,000|10,000|10,000|10,000|10,000|10,000|10,000|\n",
    "\n",
    "In practice, this visual is easily presented from a classic star schema fact table in your data model.\n",
    "\n",
    "|date_key|customer_key|product_key|arr|\n",
    "|---|---|---|---|\n",
    "20240131|1|1|10000|\n",
    "20240229|1|1|10000|\n",
    "20240331|1|1|10000|\n",
    "20240430|1|1|10000|\n",
    "20240531|1|1|10000|\n",
    "20240630|1|1|10000|\n",
    "20240131|1|2|8000|\n",
    "20240229|1|2|8000|\n",
    "20240331|1|2|8000|\n",
    "|...|...|...|...|\n",
    "20240531|3|1|10000|\n",
    "20240630|3|1|10000|\n",
    "\n",
    "As your cube matures and requirements grow, it's natural for this cube to take on more datapoints and categorizations. Slap a key in the fact table and *build*.\n",
    "\n",
    "<div class=\"alert alert-block alert-info\">\n",
    "I'll not be covering star schema. <a href=\"https://chrisadamson.com/star-schema-complete-reference/\">Chris Adamson</a> does a much better job. Adamson lays out the technical, but with a lens of practicality. He conveys how data professionals will be involved in many decisions. These decisions are <i>business decisions</i> with <i>technical implications</i>.\n",
    "\n",
    "One more time for the back of the room... <i>Business decisions</i> with <i>technical implications</i>. It's likely your data model will have issues, and sometimes, that's okay. These decisions will be made, whether yours or someone elses, to build in a sub-optimal way. You will constantly deal with resource, knowledge, time, cost, and political restraints. So, it's important to know when the technical implication (tech debt) is okay to take on and when it's not.\n",
    "\n",
    "So, it's a great a thought by Adamson. Not just for data modelling, but for life. We're not perfect and neither is your data model.\n",
    "</div>\n"
   ]
  },
  {
   "cell_type": "code",
   "execution_count": 1,
   "metadata": {},
   "outputs": [],
   "source": [
    "from arr import annualize, ContractLine\n",
    "\n",
    "from datetime import date"
   ]
  },
  {
   "cell_type": "code",
   "execution_count": 4,
   "metadata": {},
   "outputs": [
    {
     "data": {
      "text/plain": [
       "5000.0"
      ]
     },
     "execution_count": 4,
     "metadata": {},
     "output_type": "execute_result"
    }
   ],
   "source": [
    "\n",
    "annualize(\n",
    "    ContractLine(2500, date(2024, 1, 1), date(2024,6,30), 1, True),\n",
    "    date(2024,2,29),\n",
    "    \"Month\"\n",
    ")"
   ]
  },
  {
   "cell_type": "code",
   "execution_count": null,
   "metadata": {},
   "outputs": [],
   "source": []
  }
 ],
 "metadata": {
  "kernelspec": {
   "display_name": "Python 3",
   "language": "python",
   "name": "python3"
  },
  "language_info": {
   "codemirror_mode": {
    "name": "ipython",
    "version": 3
   },
   "file_extension": ".py",
   "mimetype": "text/x-python",
   "name": "python",
   "nbconvert_exporter": "python",
   "pygments_lexer": "ipython3",
   "version": "3.12.7"
  }
 },
 "nbformat": 4,
 "nbformat_minor": 2
}
