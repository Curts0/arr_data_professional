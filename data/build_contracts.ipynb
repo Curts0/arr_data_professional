{
 "cells": [
  {
   "cell_type": "code",
   "execution_count": 14,
   "metadata": {},
   "outputs": [],
   "source": [
    "from datetime import date, timedelta\n",
    "from random import choices, choice\n",
    "\n",
    "from dateutil.relativedelta import relativedelta"
   ]
  },
  {
   "cell_type": "code",
   "execution_count": 2,
   "metadata": {},
   "outputs": [],
   "source": [
    "contract_lengths = [3, 6, 12, 24, 36]\n",
    "contract_weights = [.1, .05, .6, .2, .05]\n",
    "contract_range = choices(contract_lengths, contract_weights)[0]\n",
    "\n",
    "date_range = (date(2020, 1, 1), date(2026, 12, 31))\n",
    "\n",
    "\n",
    "start_date = date_range[0] + timedelta(\n",
    "    days=choice(range((date_range[1] - date_range[0]).days))\n",
    ")\n",
    "\n",
    "end_date = start_date + relativedelta(months=contract_range)"
   ]
  },
  {
   "cell_type": "code",
   "execution_count": null,
   "metadata": {},
   "outputs": [],
   "source": [
    "import pandas as pd\n",
    "customer = pd.read_excel('saas_corp.xlsx','customer')\n",
    "customer.set_index('key', inplace=True)\n",
    "\n",
    "product = pd.read_excel('saas_corp.xlsx','product')\n",
    "product.set_index('key', inplace=True)"
   ]
  },
  {
   "cell_type": "code",
   "execution_count": null,
   "metadata": {},
   "outputs": [],
   "source": [
    "product_weights = [.8, .6, .4, .2, .1, .05, .01, .001]\n",
    "\n",
    "add_item = True\n",
    "items = pd.DataFrame()\n",
    "\n",
    "while add_item:\n",
    "    product.iloc[choice(product.index)-1]\n",
    "    items.append(product.iloc[choice(product.index)-1])\n",
    "    \n",
    "    product_weights = product_weights[1:]\n"
   ]
  }
 ],
 "metadata": {
  "kernelspec": {
   "display_name": "Python 3",
   "language": "python",
   "name": "python3"
  },
  "language_info": {
   "codemirror_mode": {
    "name": "ipython",
    "version": 3
   },
   "file_extension": ".py",
   "mimetype": "text/x-python",
   "name": "python",
   "nbconvert_exporter": "python",
   "pygments_lexer": "ipython3",
   "version": "3.12.7"
  }
 },
 "nbformat": 4,
 "nbformat_minor": 2
}
