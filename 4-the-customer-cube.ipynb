{
 "cells": [
  {
   "cell_type": "markdown",
   "metadata": {},
   "source": [
    "## The Customer Cube"
   ]
  },
  {
   "cell_type": "markdown",
   "metadata": {},
   "source": [
    "<div class=\"alert alert-block alert-info\">\n",
    "<blockquote>\n",
    "<i>\"The loftier the building, the deeper must the foundation be laid.\"</i>\n",
    "\n",
    "<tab>- Thomas A Kempis\n",
    "</blockquote>\n",
    "ARR is the concrete for your foundation, then the customer cube is the foundation, and the metrics built on top of your customer cube, are the building.\n",
    "\n",
    "The entire calculating is just the beginning.\n",
    "</div>"
   ]
  },
  {
   "cell_type": "markdown",
   "metadata": {},
   "source": [
    "### What is a Customer Cube?"
   ]
  },
  {
   "cell_type": "markdown",
   "metadata": {},
   "source": [
    "In it's simplest form, a customer cube is ARR by month by customer by product. \n",
    "\n",
    "In terms of a visual, it's a matrix. Months as your column headers, ARR as your values, & everything else nested as your row headers.\n",
    "\n",
    "| | |2024-01-31|2024-02-29|2024-03-31|2024-04-30|2024-05-31|2024-06-30|2024-07-31|\n",
    "|---|---|---|---|---|---|---|---|---|\n",
    "|Customer #1|Product #1|10,000|10,000|10,000|10,000|10,000|10,000|10,000|\n",
    "|Customer #1|Product #2|8,000|8,000|8,000|8,000|8,000|8,000|8,000|\n",
    "|Customer #2|Product #1|10,000|10,000|10,000|0|0|0|0|\n",
    "|Customer #2|Product #2|8,000|8,000|8,000|0|0|0|0|\n",
    "|Customer #2|Product #3|0|0|0|5,000|5,000|5,000|5,000|\n",
    "|Customer #2|Product #4|0|0|0|12,000|12,000|12,000|12,000|\n",
    "|Customer #3|Product #1|10,000|10,000|10,000|10,000|10,000|10,000|10,000|\n",
    "\n",
    "In practice, this visual is easily presented from a classic star schema fact table in your data model.\n",
    "\n",
    "|date_key|customer_key|product_key|arr|\n",
    "|---|---|---|---|\n",
    "|20240131|1|1|10000|\n",
    "|20240229|1|1|10000|\n",
    "|20240331|1|1|10000|\n",
    "|20240430|1|1|10000|\n",
    "|20240531|1|1|10000|\n",
    "|20240630|1|1|10000|\n",
    "|20240131|1|2|8000|\n",
    "|20240229|1|2|8000|\n",
    "|20240331|1|2|8000|\n",
    "|...|...|...|...|\n",
    "|20240531|3|1|10000|\n",
    "|20240630|3|1|10000|\n",
    "\n",
    "As your cube matures and requirements grow, it's natural for this cube to take on more datapoints and categorizations. Slap a key in the fact table and *build*.\n",
    "\n",
    "<div class=\"alert alert-block alert-info\">\n",
    "I'll not be covering star schema. <a href=\"https://chrisadamson.com/star-schema-complete-reference/\">Chris Adamson</a> does a much better job. Adamson lays out the technical, but with a lens of practicality. He conveys how data professionals will be involved in many decisions. These decisions are <i>business decisions</i> with <i>technical implications</i>.\n",
    "\n",
    "One more time for the back of the room... <i>Business decisions</i> with <i>technical implications</i>. It's likely your data model will have issues, and sometimes, that's okay. These decisions will be made, whether yours or someone elses, to build in a sub-optimal way. You will constantly deal with resource, knowledge, time, cost, and political restraints. So, it's important to know when the technical implication (tech debt) is okay to take on and when it's not.\n",
    "\n",
    "So, it's a great a thought by Adamson. Not just for data modelling, but for life. We're not perfect and neither is your data model.\n",
    "</div>\n"
   ]
  },
  {
   "cell_type": "markdown",
   "metadata": {},
   "source": [
    "## The Fake Company"
   ]
  },
  {
   "cell_type": "markdown",
   "metadata": {},
   "source": [
    "To move further I've created a fake company w/ "
   ]
  },
  {
   "cell_type": "code",
   "execution_count": 1,
   "metadata": {},
   "outputs": [
    {
     "name": "stdout",
     "output_type": "stream",
     "text": [
      "importing `CONTRACTS`\n",
      "reading manually added contracts\n",
      "performing initial sales\n",
      "performing subsequent renewals\n",
      "id                              int64\n",
      "customer                       object\n",
      "header.amount                   int64\n",
      "header.start_date      datetime64[ns]\n",
      "header.end_date        datetime64[ns]\n",
      "header.booking_date    datetime64[ns]\n",
      "line.amount                     int64\n",
      "line.start_date        datetime64[ns]\n",
      "line.end_date          datetime64[ns]\n",
      "line.product                   object\n",
      "line.renewable                   bool\n",
      "dtype: object\n"
     ]
    },
    {
     "data": {
      "text/html": [
       "<div>\n",
       "<style scoped>\n",
       "    .dataframe tbody tr th:only-of-type {\n",
       "        vertical-align: middle;\n",
       "    }\n",
       "\n",
       "    .dataframe tbody tr th {\n",
       "        vertical-align: top;\n",
       "    }\n",
       "\n",
       "    .dataframe thead th {\n",
       "        text-align: right;\n",
       "    }\n",
       "</style>\n",
       "<table border=\"1\" class=\"dataframe\">\n",
       "  <thead>\n",
       "    <tr style=\"text-align: right;\">\n",
       "      <th></th>\n",
       "      <th>id</th>\n",
       "      <th>customer</th>\n",
       "      <th>header.amount</th>\n",
       "      <th>header.start_date</th>\n",
       "      <th>header.end_date</th>\n",
       "      <th>header.booking_date</th>\n",
       "      <th>line.amount</th>\n",
       "      <th>line.start_date</th>\n",
       "      <th>line.end_date</th>\n",
       "      <th>line.product</th>\n",
       "      <th>line.renewable</th>\n",
       "    </tr>\n",
       "  </thead>\n",
       "  <tbody>\n",
       "    <tr>\n",
       "      <th>166</th>\n",
       "      <td>282</td>\n",
       "      <td>Oodoo</td>\n",
       "      <td>105500</td>\n",
       "      <td>2024-04-28</td>\n",
       "      <td>2024-07-27</td>\n",
       "      <td>2024-04-28</td>\n",
       "      <td>10000</td>\n",
       "      <td>2024-04-28</td>\n",
       "      <td>2024-07-27</td>\n",
       "      <td>BI</td>\n",
       "      <td>True</td>\n",
       "    </tr>\n",
       "    <tr>\n",
       "      <th>1376</th>\n",
       "      <td>107</td>\n",
       "      <td>Yata</td>\n",
       "      <td>75000</td>\n",
       "      <td>2022-06-10</td>\n",
       "      <td>2022-12-09</td>\n",
       "      <td>2022-06-10</td>\n",
       "      <td>12000</td>\n",
       "      <td>2022-06-10</td>\n",
       "      <td>2022-12-09</td>\n",
       "      <td>CPQ</td>\n",
       "      <td>True</td>\n",
       "    </tr>\n",
       "    <tr>\n",
       "      <th>673</th>\n",
       "      <td>170</td>\n",
       "      <td>Mycat</td>\n",
       "      <td>48500</td>\n",
       "      <td>2023-10-17</td>\n",
       "      <td>2024-10-16</td>\n",
       "      <td>2023-10-17</td>\n",
       "      <td>6000</td>\n",
       "      <td>2023-10-17</td>\n",
       "      <td>2024-10-16</td>\n",
       "      <td>IAM</td>\n",
       "      <td>True</td>\n",
       "    </tr>\n",
       "    <tr>\n",
       "      <th>1257</th>\n",
       "      <td>79</td>\n",
       "      <td>InnoZ</td>\n",
       "      <td>102000</td>\n",
       "      <td>2025-10-23</td>\n",
       "      <td>2027-10-22</td>\n",
       "      <td>2025-10-23</td>\n",
       "      <td>7500</td>\n",
       "      <td>2025-10-23</td>\n",
       "      <td>2027-10-22</td>\n",
       "      <td>DevOps</td>\n",
       "      <td>True</td>\n",
       "    </tr>\n",
       "    <tr>\n",
       "      <th>799</th>\n",
       "      <td>142</td>\n",
       "      <td>Dynabox</td>\n",
       "      <td>35000</td>\n",
       "      <td>2025-07-12</td>\n",
       "      <td>2026-07-11</td>\n",
       "      <td>2025-07-12</td>\n",
       "      <td>25000</td>\n",
       "      <td>2025-07-12</td>\n",
       "      <td>2026-07-11</td>\n",
       "      <td>ERP</td>\n",
       "      <td>True</td>\n",
       "    </tr>\n",
       "    <tr>\n",
       "      <th>1276</th>\n",
       "      <td>84</td>\n",
       "      <td>Zoomzone</td>\n",
       "      <td>39500</td>\n",
       "      <td>2024-06-26</td>\n",
       "      <td>2025-06-25</td>\n",
       "      <td>2024-06-26</td>\n",
       "      <td>10000</td>\n",
       "      <td>2024-06-26</td>\n",
       "      <td>2025-06-25</td>\n",
       "      <td>CRM</td>\n",
       "      <td>True</td>\n",
       "    </tr>\n",
       "    <tr>\n",
       "      <th>129</th>\n",
       "      <td>291</td>\n",
       "      <td>Skyvu</td>\n",
       "      <td>76000</td>\n",
       "      <td>2023-08-15</td>\n",
       "      <td>2025-08-14</td>\n",
       "      <td>2023-08-15</td>\n",
       "      <td>10000</td>\n",
       "      <td>2023-08-15</td>\n",
       "      <td>2025-08-14</td>\n",
       "      <td>VPN</td>\n",
       "      <td>True</td>\n",
       "    </tr>\n",
       "    <tr>\n",
       "      <th>359</th>\n",
       "      <td>239</td>\n",
       "      <td>Mydo</td>\n",
       "      <td>46000</td>\n",
       "      <td>2026-01-13</td>\n",
       "      <td>2028-01-12</td>\n",
       "      <td>2026-01-13</td>\n",
       "      <td>12000</td>\n",
       "      <td>2026-01-13</td>\n",
       "      <td>2028-01-12</td>\n",
       "      <td>CPQ</td>\n",
       "      <td>True</td>\n",
       "    </tr>\n",
       "    <tr>\n",
       "      <th>212</th>\n",
       "      <td>273</td>\n",
       "      <td>Kamba</td>\n",
       "      <td>57000</td>\n",
       "      <td>2026-11-19</td>\n",
       "      <td>2028-11-18</td>\n",
       "      <td>2026-11-19</td>\n",
       "      <td>5000</td>\n",
       "      <td>2026-11-19</td>\n",
       "      <td>2028-11-18</td>\n",
       "      <td>DMS</td>\n",
       "      <td>True</td>\n",
       "    </tr>\n",
       "    <tr>\n",
       "      <th>882</th>\n",
       "      <td>1</td>\n",
       "      <td>Abatz</td>\n",
       "      <td>100000</td>\n",
       "      <td>2024-01-01</td>\n",
       "      <td>2024-12-31</td>\n",
       "      <td>2024-01-01</td>\n",
       "      <td>50000</td>\n",
       "      <td>2024-01-01</td>\n",
       "      <td>2024-12-31</td>\n",
       "      <td>CMS</td>\n",
       "      <td>True</td>\n",
       "    </tr>\n",
       "  </tbody>\n",
       "</table>\n",
       "</div>"
      ],
      "text/plain": [
       "       id  customer  header.amount header.start_date header.end_date  \\\n",
       "166   282     Oodoo         105500        2024-04-28      2024-07-27   \n",
       "1376  107      Yata          75000        2022-06-10      2022-12-09   \n",
       "673   170     Mycat          48500        2023-10-17      2024-10-16   \n",
       "1257   79     InnoZ         102000        2025-10-23      2027-10-22   \n",
       "799   142   Dynabox          35000        2025-07-12      2026-07-11   \n",
       "1276   84  Zoomzone          39500        2024-06-26      2025-06-25   \n",
       "129   291     Skyvu          76000        2023-08-15      2025-08-14   \n",
       "359   239      Mydo          46000        2026-01-13      2028-01-12   \n",
       "212   273     Kamba          57000        2026-11-19      2028-11-18   \n",
       "882     1     Abatz         100000        2024-01-01      2024-12-31   \n",
       "\n",
       "     header.booking_date  line.amount line.start_date line.end_date  \\\n",
       "166           2024-04-28        10000      2024-04-28    2024-07-27   \n",
       "1376          2022-06-10        12000      2022-06-10    2022-12-09   \n",
       "673           2023-10-17         6000      2023-10-17    2024-10-16   \n",
       "1257          2025-10-23         7500      2025-10-23    2027-10-22   \n",
       "799           2025-07-12        25000      2025-07-12    2026-07-11   \n",
       "1276          2024-06-26        10000      2024-06-26    2025-06-25   \n",
       "129           2023-08-15        10000      2023-08-15    2025-08-14   \n",
       "359           2026-01-13        12000      2026-01-13    2028-01-12   \n",
       "212           2026-11-19         5000      2026-11-19    2028-11-18   \n",
       "882           2024-01-01        50000      2024-01-01    2024-12-31   \n",
       "\n",
       "     line.product  line.renewable  \n",
       "166            BI            True  \n",
       "1376          CPQ            True  \n",
       "673           IAM            True  \n",
       "1257       DevOps            True  \n",
       "799           ERP            True  \n",
       "1276          CRM            True  \n",
       "129           VPN            True  \n",
       "359           CPQ            True  \n",
       "212           DMS            True  \n",
       "882           CMS            True  "
      ]
     },
     "execution_count": 1,
     "metadata": {},
     "output_type": "execute_result"
    }
   ],
   "source": [
    "print('importing `CONTRACTS`')\n",
    "from data.build_contracts import CONTRACTS\n",
    "print(CONTRACTS.dtypes)\n",
    "CONTRACTS.sample(10)"
   ]
  },
  {
   "cell_type": "code",
   "execution_count": 2,
   "metadata": {},
   "outputs": [
    {
     "data": {
      "text/plain": [
       "                          Youspan                           \n",
       "            Contract #121 - $71,500 - 2025-01-17            \n",
       "                  2025-01-17 - 2025-04-16                   \n",
       "************************************************************\n",
       "product\tstart date\tend date\tamount\trenewable\n",
       "************************************************************\n",
       "VPN\t2025-01-17\t2025-04-16\t$10,000\tTrue\n",
       "HRIS\t2025-01-17\t2025-04-16\t$13,000\tTrue\n",
       "CPQ\t2025-01-17\t2025-04-16\t$12,000\tTrue\n",
       "LMS\t2025-01-17\t2025-04-16\t$13,000\tTrue\n",
       "IAM\t2025-01-17\t2025-04-16\t$6,000\tTrue\n",
       "DevOps\t2025-01-17\t2025-04-16\t$7,500\tTrue\n",
       "BI\t2025-01-17\t2025-04-16\t$10,000\tTrue\n",
       "************************************************************"
      ]
     },
     "execution_count": 2,
     "metadata": {},
     "output_type": "execute_result"
    }
   ],
   "source": [
    "# TODO: Build out the entire ARR overtime w/ each customer, product, and maybe contract\n",
    "from arr import Contract\n",
    "Contract.from_df(CONTRACTS[CONTRACTS['id'] == 121])"
   ]
  },
  {
   "cell_type": "code",
   "execution_count": 9,
   "metadata": {},
   "outputs": [],
   "source": [
    "from arr import annualize_df\n",
    "import pandas as pd\n",
    "\n",
    "df = annualize_df(CONTRACTS)"
   ]
  },
  {
   "cell_type": "code",
   "execution_count": 10,
   "metadata": {},
   "outputs": [],
   "source": [
    "a: pd.Series = df['ARR'].sum()"
   ]
  },
  {
   "cell_type": "code",
   "execution_count": 12,
   "metadata": {},
   "outputs": [
    {
     "data": {
      "text/plain": [
       "<Axes: xlabel='period'>"
      ]
     },
     "execution_count": 12,
     "metadata": {},
     "output_type": "execute_result"
    },
    {
     "data": {
      "image/png": "[encoded data removed]",
      "text/plain": [
       "<Figure size 640x480 with 1 Axes>"
      ]
     },
     "metadata": {},
     "output_type": "display_data"
    }
   ],
   "source": [
    "a.plot()"
   ]
  }
 ],
 "metadata": {
  "kernelspec": {
   "display_name": "Python 3",
   "language": "python",
   "name": "python3"
  },
  "language_info": {
   "codemirror_mode": {
    "name": "ipython",
    "version": 3
   },
   "file_extension": ".py",
   "mimetype": "text/x-python",
   "name": "python",
   "nbconvert_exporter": "python",
   "pygments_lexer": "ipython3",
   "version": "3.12.7"
  }
 },
 "nbformat": 4,
 "nbformat_minor": 2
}
