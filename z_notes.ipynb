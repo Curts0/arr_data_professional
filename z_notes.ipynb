{
 "cells": [
  {
   "cell_type": "markdown",
   "metadata": {},
   "source": [
    "# Notes\n",
    "---\n",
    "- Total Contract Value -> Annual Contract Value -> Annual Recurring Revenue\n",
    "- Renewing non-renewing\n",
    "- The key is consistancy, ARR is a non-gaap metric\n",
    "- T1 & T2 dimension risk\n",
    "- Renewable vs Non-Renewable\n",
    "- Annualization (365)\n",
    "- Up for renewal on the NEXT day\n",
    "- Ramp Contracts\n",
    "- Up for Renewal\n",
    "- Cancellations\n",
    "    - Depends on the type of Cancellation... A full cancellation or partial, like only the second half\n",
    "- Avoid Snapshot\n",
    "- Starts w/ a Contract...\n",
    "- Start Date End Date\n",
    "- Products -> Product Families\n",
    "- Look up the Finance guy Jeff suggested...\n",
    "- Upgrades, Downgrades, Churn, New Business\n",
    "    - X-Sell, Expansion, Ramp, \n",
    "- It's all about comparisons...\n",
    "- Pull forwards...\n",
    "- Organic vs Inorganic\n",
    "- Non-Gaap\n",
    "- Deferred ARR\n",
    "- Customer Cube\n",
    "\n",
    "\n",
    "---\n",
    "\n",
    "TODO: Switch over to plotly"
   ]
  }
 ],
 "metadata": {
  "language_info": {
   "name": "python"
  }
 },
 "nbformat": 4,
 "nbformat_minor": 2
}
