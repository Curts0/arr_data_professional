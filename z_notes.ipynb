{
 "cells": [
  {
   "cell_type": "markdown",
   "metadata": {},
   "source": [
    "# Notes\n",
    "---\n",
    "- Total Contract Value -> Annual Contract Value -> Annual Recurring Revenue\n",
    "- Renewing non-renewing\n",
    "- The key is consistancy, ARR is a non-gaap metric\n",
    "- T1 & T2 dimension risk\n",
    "- Renewable vs Non-Renewable\n",
    "- Annualization (365)\n",
    "- Up for renewal on the NEXT day\n",
    "- Ramp Contracts\n",
    "- Up for Renewal\n",
    "- Cancellations\n",
    "    - Depends on the type of Cancellation... A full cancellation or partial, like only the second half\n",
    "- Avoid Snapshot\n",
    "- Starts w/ a Contract...\n",
    "- Start Date End Date\n",
    "- Products -> Product Families\n",
    "- Look up the Finance guy Jeff suggested...\n",
    "- Upgrades, Downgrades, Churn, New Business\n",
    "    - X-Sell, Expansion, Ramp, \n",
    "- It's all about comparisons...\n",
    "- Pull forwards...\n",
    "- Organic vs Inorganic\n",
    "- Non-Gaap\n",
    "- Deferred ARR\n",
    "- Customer Cube\n",
    "\n",
    "https://mockaroo.com/\n",
    "---\n",
    "\n",
    "TODO: Switch over to plotly\n",
    "\n",
    "\n",
    "---\n",
    "- Use an email company named SendSizzle :tm:\n",
    "\n",
    "- Opening talking about things w/ ToC. These are recommendations. At the end of the day to what ever you want.\n",
    "- Talk about what ARR is and how to calculate it.\n",
    "- Building your customer cube\n",
    "- Build your metrics\n",
    "- Some flavor for forecasting\n",
    "- Need a testing folder for formatting, link checks and running notebooks\n",
    "- Need to add a comment about deferred in ARR...\n",
    "\n",
    "\n",
    "\n",
    "\n"
   ]
  }
 ],
 "metadata": {
  "language_info": {
   "name": "python"
  }
 },
 "nbformat": 4,
 "nbformat_minor": 2
}
