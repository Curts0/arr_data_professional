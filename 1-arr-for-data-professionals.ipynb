{
 "cells": [
  {
   "cell_type": "markdown",
   "metadata": {},
   "source": [
    "# ARR for Data Profressionals"
   ]
  },
  {
   "cell_type": "markdown",
   "metadata": {},
   "source": [
    "## Preamble\n",
    "\n",
    "<div class=\"alert alert-block alert-info\">\n",
    "Building ARR is simple, but that doesn't make it easy. In my experience, the definitions are where the problems in the metric take root. Depending on who you talk to or where you work, definitions can vary.<b> The important thing is consistency.</b> ARR is shiny and will get a lot of attention, so you better know what you're doing.</div>"
   ]
  },
  {
   "cell_type": "markdown",
   "metadata": {},
   "source": [
    "## Introduction"
   ]
  },
  {
   "cell_type": "markdown",
   "metadata": {},
   "source": [
    "The goal of this write up is to share my knowledge on building ARR datasets. I've built and scaled these datasets for companies less than $\\text{\\$30M}$ and more than $\\text{\\$1B}$ ARR. All the way from ingestion of source systems to desigining the visuals.\n",
    "\n",
    "I'll explain how it all works, show some mistakes I've made, and make recommendations. Whether you are 12 sheets deep in excel or lost in spark configurations, as long as you are dealing with ARR on the data side, this is written for you. I'll start with what ARR is and how to calculate it. Then I'll dive into the customer cube. Build on top of our cube with all the different cuts and measures. Lastly, I'll throw in some forecasting.\n",
    "\n",
    "My goal is to generalize the code as much as possible. So, python with the usual data stack (pandas, numpy, etc.).\n",
    "\n",
    "In terms of Finance history, ARR is new and not to be confused with Revenue Recognition. ARR is Non-[GAAP](https://en.wikipedia.org/wiki/Generally_Accepted_Accounting_Principles_(United_States)). That distinction, I think, adds to a lot of chatter. [This article](https://sensiba.com/resources/insights/what-you-need-to-know-about-annual-recurring-revenue-and-gaap-revenue-recognition/) explains the difference well. Which means, everything I explain is not a law or notable standard. I'm just putting on paper everything I've been taught and been able to soak up from some pretty smart people."
   ]
  },
  {
   "cell_type": "markdown",
   "metadata": {},
   "source": [
    "## Table of Contents\n",
    "\n",
    "- [What is ARR? Part 1](2-what-is-arr-part-1.ipynb)\n",
    "- [What is ARR? Part 2](3-what-is-arr-part-2.ipynb)\n",
    "- [What is ARR? Part 3](4-what-is-arr-part-3.ipynb)\n",
    "- [The Customer Cube](5-the-customer-cube.ipynb)"
   ]
  },
  {
   "cell_type": "markdown",
   "metadata": {},
   "source": [
    "##### Packages used in Notebooks"
   ]
  },
  {
   "cell_type": "code",
   "execution_count": null,
   "metadata": {},
   "outputs": [],
   "source": [
    "# Installing libraries used in entire notebook\n",
    "# Written w/ Python3.12\n",
    "%pip install matplotlib pandas Jinja2 importnb openpyxl"
   ]
  }
 ],
 "metadata": {
  "language_info": {
   "name": "python"
  }
 },
 "nbformat": 4,
 "nbformat_minor": 2
}
