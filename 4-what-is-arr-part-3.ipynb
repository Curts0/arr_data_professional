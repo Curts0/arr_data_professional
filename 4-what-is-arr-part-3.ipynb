{
 "cells": [
  {
   "cell_type": "code",
   "execution_count": null,
   "metadata": {},
   "outputs": [],
   "source": [
    "# TODO: fix w/ new changes to methods in Contract dataclass"
   ]
  },
  {
   "cell_type": "markdown",
   "metadata": {},
   "source": [
    "## Renewability\n",
    "\n",
    "Renewability is the piece of the equation that takes **ACV** and converts to **ARR**. The premise is relatively simple, filter out any items in the contract that are considered non-renewable. This is easily done with a flag for renewability."
   ]
  },
  {
   "cell_type": "code",
   "execution_count": 1,
   "metadata": {},
   "outputs": [
    {
     "ename": "ImportError",
     "evalue": "cannot import name 'build_contracts_table' from 'arr' (c:\\Users\\CStallings\\OneDrive - Rockwell Automation, Inc\\Documents\\py_files\\arr_data_professional\\arr\\__init__.py)",
     "output_type": "error",
     "traceback": [
      "\u001b[1;31m---------------------------------------------------------------------------\u001b[0m",
      "\u001b[1;31mImportError\u001b[0m                               Traceback (most recent call last)",
      "Cell \u001b[1;32mIn[1], line 1\u001b[0m\n\u001b[1;32m----> 1\u001b[0m \u001b[38;5;28;01mfrom\u001b[39;00m \u001b[38;5;21;01marr\u001b[39;00m \u001b[38;5;28;01mimport\u001b[39;00m (\n\u001b[0;32m      2\u001b[0m     Contract,\n\u001b[0;32m      3\u001b[0m     ContractHeader,\n\u001b[0;32m      4\u001b[0m     ContractLine,\n\u001b[0;32m      5\u001b[0m     build_contracts_table,\n\u001b[0;32m      6\u001b[0m     build_acv_table,\n\u001b[0;32m      7\u001b[0m )\n\u001b[0;32m      8\u001b[0m \u001b[38;5;28;01mfrom\u001b[39;00m \u001b[38;5;21;01mdatetime\u001b[39;00m \u001b[38;5;28;01mimport\u001b[39;00m date\n\u001b[0;32m     10\u001b[0m ramp_w_onboarding \u001b[38;5;241m=\u001b[39m Contract(\n\u001b[0;32m     11\u001b[0m     \u001b[38;5;241m1\u001b[39m,\n\u001b[0;32m     12\u001b[0m     ContractHeader(\u001b[38;5;241m36_000\u001b[39m, date(\u001b[38;5;241m2024\u001b[39m, \u001b[38;5;241m1\u001b[39m, \u001b[38;5;241m1\u001b[39m), date(\u001b[38;5;241m2026\u001b[39m, \u001b[38;5;241m12\u001b[39m, \u001b[38;5;241m31\u001b[39m)),\n\u001b[1;32m   (...)\u001b[0m\n\u001b[0;32m     21\u001b[0m     ],\n\u001b[0;32m     22\u001b[0m )\n",
      "\u001b[1;31mImportError\u001b[0m: cannot import name 'build_contracts_table' from 'arr' (c:\\Users\\CStallings\\OneDrive - Rockwell Automation, Inc\\Documents\\py_files\\arr_data_professional\\arr\\__init__.py)"
     ]
    }
   ],
   "source": [
    "from arr import (\n",
    "    Contract,\n",
    "    ContractHeader,\n",
    "    ContractLine,\n",
    "    build_contracts_table,\n",
    "    build_acv_table,\n",
    ")\n",
    "from datetime import date\n",
    "\n",
    "ramp_w_onboarding = Contract(\n",
    "    1,\n",
    "    ContractHeader(36_000, date(2024, 1, 1), date(2026, 12, 31)),\n",
    "    [\n",
    "        ContractLine(4_000, date(2024, 1, 1), date(2024, 12, 31), 1, True),\n",
    "        ContractLine(4_000, date(2024, 1, 1), date(2024, 12, 31), 2, True),\n",
    "        ContractLine(6_000, date(2025, 1, 1), date(2025, 12, 31), 1, True),\n",
    "        ContractLine(6_000, date(2025, 1, 1), date(2025, 12, 31), 2, True),\n",
    "        ContractLine(8_000, date(2026, 1, 1), date(2026, 12, 31), 1, True),\n",
    "        ContractLine(8_000, date(2026, 1, 1), date(2026, 12, 31), 2, True),\n",
    "        ContractLine(6_000, date(2024, 1, 1), date(2024, 12, 31), 3, False),\n",
    "    ],\n",
    ")\n",
    "\n",
    "df = build_contracts_table([ramp_w_onboarding])\n",
    "\n",
    "print(\"Contract Table w/ all items\")\n",
    "display(df)\n",
    "\n",
    "print(\"Contract Table w/ only renewable items.\")\n",
    "display(df[df[\"renewable\"] == True])"
   ]
  },
  {
   "cell_type": "code",
   "execution_count": null,
   "metadata": {},
   "outputs": [],
   "source": [
    "acv_table = build_acv_table([ramp_w_onboarding])\n",
    "\n",
    "arr_table = acv_table.loc[:, :, True]\n",
    "\n",
    "arr_table.loc[\"total\", :] = arr_table.sum().values\n",
    "acv_table.loc[\"total\", :] = acv_table.sum().values\n",
    "\n",
    "print(\"ACV table\")\n",
    "display(acv_table)\n",
    "\n",
    "print(\"ARR table\")\n",
    "display(arr_table)"
   ]
  },
  {
   "cell_type": "markdown",
   "metadata": {},
   "source": [
    "ACV (including the `renewable == False`) starts at $\\text{14k}$ in year 1, decrease to $\\text{12k}$ in year 2, and up to $\\text{16k}$ in year 3. While ARR (excluding the `renewable == False`) starts at $\\text{8k}$ in year 1 and does a steady $\\text{4k}$ increase each year.\n",
    "\n",
    "$\n",
    "\\begin{matrix}\n",
    "\\text{Metric} & \\text{Year 1} & \\text{Year 2} & \\text{Year 3}\\\\\\\\\n",
    "\\text{ACV} & \\text{14k} & \\text{12k} & \\text{16k}\\\\\n",
    "\\text{ARR} & \\text{8k} & \\text{12k} & \\text{16k}\n",
    "\\end{matrix}\n",
    "$\n",
    "\n"
   ]
  },
  {
   "cell_type": "markdown",
   "metadata": {},
   "source": [
    "### SCD Type 2"
   ]
  },
  {
   "cell_type": "markdown",
   "metadata": {},
   "source": [
    "The decision to make a product renewable or non-renewable is a business decision. It is common for businesses to change their minds and adapt as new information comes, so the data will need to be able to adapt with it.\n",
    "\n",
    "> Scenario:\n",
    "> New leadership comes into the company at the start of 2024. The company is currently selling 4 different software items and 1 onboarding item:\n",
    "> |Item Name|Item Sku|Renewable|\n",
    "> |---|---|---|\n",
    "> |Software Feature 1|1|True|\n",
    "> |Software Feature 2|2|True|\n",
    "> |Software Feature 3|3|True|\n",
    "> |Software Feature 4|4|True|\n",
    "> |Onboarding|5|False|\n",
    "> \n",
    "> They have decided to update 'Software Feature 4' as no longer a renewable item:\n",
    "> |Item Name|Item Sku|Renewable|\n",
    "> |---|---|---|\n",
    "> |Software Feature 1|1|True|\n",
    "> |Software Feature 2|2|True|\n",
    "> |Software Feature 3|3|True|\n",
    "> |Software Feature 4|4|**False**|\n",
    "> |Onboarding|5|False|\n",
    ">\n",
    "> This change is effective immediately on January 1st 2024.\n",
    "\n",
    "This scenario is a classic use case of [SCD (Slowly Changing Dimensions)](https://en.wikipedia.org/wiki/Slowly_changing_dimension). This writeup will not be covering what SCD is or how to build it out in a data model. Plenty of articles and books exist covering this concept.\n",
    "\n",
    "<div class=\"alert alert-block alert-info\">\n",
    "It is important to be able to supply the business with product/item data on both a Type 1 & Type 2 basis.\n",
    "</div>\n"
   ]
  },
  {
   "cell_type": "code",
   "execution_count": null,
   "metadata": {},
   "outputs": [],
   "source": [
    "contract_pre_change = Contract(\n",
    "    1,\n",
    "    ContractHeader(24_000, date(2023, 1, 1), date(2025, 12, 31)),\n",
    "    [\n",
    "        ContractLine(4_000, date(2023, 1, 1), date(2023, 12, 31), 4, True),\n",
    "        ContractLine(4_000, date(2023, 1, 1), date(2023, 12, 31), 3, True),\n",
    "        ContractLine(4_000, date(2024, 1, 1), date(2024, 12, 31), 4, True),\n",
    "        ContractLine(4_000, date(2024, 1, 1), date(2024, 12, 31), 3, True),\n",
    "        ContractLine(4_000, date(2025, 1, 1), date(2025, 12, 31), 4, True),\n",
    "        ContractLine(4_000, date(2025, 1, 1), date(2025, 12, 31), 3, True),\n",
    "    ],\n",
    ")\n",
    "contract_post_change = Contract(\n",
    "    1,\n",
    "    ContractHeader(24_000, date(2023, 1, 1), date(2025, 12, 31)),\n",
    "    [\n",
    "        ContractLine(4_000, date(2023, 1, 1), date(2023, 12, 31), 4, False),\n",
    "        ContractLine(4_000, date(2023, 1, 1), date(2023, 12, 31), 3, True),\n",
    "        ContractLine(4_000, date(2024, 1, 1), date(2024, 12, 31), 4, False),\n",
    "        ContractLine(4_000, date(2024, 1, 1), date(2024, 12, 31), 3, True),\n",
    "        ContractLine(4_000, date(2025, 1, 1), date(2025, 12, 31), 4, False),\n",
    "        ContractLine(4_000, date(2025, 1, 1), date(2025, 12, 31), 3, True),\n",
    "    ],\n",
    ")"
   ]
  },
  {
   "cell_type": "code",
   "execution_count": null,
   "metadata": {},
   "outputs": [],
   "source": [
    "pre_df = build_acv_table([contract_pre_change]).loc[:, :, True]\n",
    "post_df = build_acv_table([contract_post_change]).loc[:, :, True]\n",
    "\n",
    "type2_part1 = pre_df[[col for col in pre_df.columns if col < date(2024, 1, 31)]]\n",
    "type2_part2 = post_df[[col for col in pre_df.columns if col >= date(2024, 1, 31)]]\n",
    "\n",
    "type2 = type2_part1.merge(\n",
    "    type2_part2, left_index=True, right_index=True, how=\"outer\"\n",
    ").fillna(0)\n",
    "\n",
    "type1 = post_df\n",
    "\n",
    "print(\"Type 2\")\n",
    "display(type2)\n",
    "\n",
    "print(\"Type 1\")\n",
    "display(type1)"
   ]
  },
  {
   "cell_type": "markdown",
   "metadata": {},
   "source": [
    "Depending on how the business asks for the data, would determine how to show it.\n",
    "\n",
    "$\n",
    "\\begin{matrix}\n",
    "\\text{SCD} & \\text{Year 1} & \\text{Year 2} & \\text{Year 3}\\\\\\\\\n",
    "\\text{Type 2} & \\text{8k} & \\text{4k} & \\text{4k}\\\\\n",
    "\\text{Type 1} & \\text{8k} & \\text{8k} & \\text{8k}\n",
    "\\end{matrix}\n",
    "$"
   ]
  },
  {
   "cell_type": "markdown",
   "metadata": {},
   "source": [
    "### Product Families"
   ]
  },
  {
   "cell_type": "markdown",
   "metadata": {},
   "source": [
    "Grouping together and forming hierarchies in reporting is common place for businesses, skus are no exception. A common term to express this grouping is called a *Product Family*. Product families provide the ability to compare *apples to apples* data with many skus under similar feature sets. It also provides a simpler way to determine renewability for companies with rather large product catalogs.\n",
    "\n",
    "<div class=\"alert alert-block alert-warning\">\n",
    "Imagine a company with over a million skus. They may not have the ability to determine renewability at that deep a grain. So a product family hierarchy naturally gets developed. This can cause some implications that you should be ready for. The further up the hierarchy you make a decision on renewability, the more likely you are to have items that are not actually renewable. A larger enterprise company may acquire another company. The aquired companies feature set could be bundled into a product family that is renewable. Which means <i>every</i> sku is renewable, even things like their onboarding.\n",
    "\n",
    "I'm not saying this is right or wrong. I'm just saying you should know what is happening. Normally the impact is immaterial to the business, and if it becomes material, the business will find a way to determine renewability at a deeper grain.\n",
    "</div>"
   ]
  },
  {
   "cell_type": "code",
   "execution_count": null,
   "metadata": {},
   "outputs": [],
   "source": [
    "import pandas as pd\n",
    "\n",
    "product_family_df = pd.DataFrame(\n",
    "    {\n",
    "        \"item_sku\": [1, 2, 3, 4, 5, 6, 7, 8, 9, 10],\n",
    "        \"product_family\": [1, 1, 1, 1, 2, 2, 2, 3, 3, 3],\n",
    "        \"renewable\": [\n",
    "            True, True, True, True, True, True, True, False, False, False\n",
    "        ],\n",
    "    }\n",
    ")\n",
    "product_family_df"
   ]
  },
  {
   "cell_type": "markdown",
   "metadata": {},
   "source": [
    "## Deferred ARR\n",
    "\n",
    "Up until now, we've only considered ARR that is *active*. Meaning, is the contract active in the period we are looking at. When a contract is booked before the start date, especially with new sales, the contract can be considered 'deferred' up until it is active.\n",
    "\n",
    "If a contract is booked in June 2023, starts January 2024, and ends December 2024, then it is deferred the second half of 2023 and active for all of 2024."
   ]
  },
  {
   "cell_type": "code",
   "execution_count": null,
   "metadata": {},
   "outputs": [],
   "source": [
    "deferred_example = Contract(\n",
    "    1,\n",
    "    ContractHeader(\n",
    "        10_000,\n",
    "        start_date=date(2024, 1, 1),\n",
    "        end_date=date(2024, 12, 31),\n",
    "        booking_date=date(2023, 6, 30), #\n",
    "    ),\n",
    "    [\n",
    "        ContractLine(5_000, date(2024, 1, 1), date(2024, 12, 31), 1, True),\n",
    "        ContractLine(5_000, date(2024, 1, 1), date(2024, 12, 31), 2, True),\n",
    "    ],\n",
    ")"
   ]
  },
  {
   "cell_type": "code",
   "execution_count": null,
   "metadata": {},
   "outputs": [],
   "source": [
    "build_acv_table([deferred_example], include_deferred=True)\n",
    "\n",
    "# include_deferred defaults to True.\n",
    "# Explicitly calling it out informational purposes."
   ]
  },
  {
   "cell_type": "markdown",
   "metadata": {},
   "source": [
    "ARR is shown in the above dataframe to start in June 2023 and end in December 2024.\n",
    "\n",
    "<div class=\"alert alert-block alert-info\">\n",
    "It is common for people to refer to <b>ARR</b> implying both <b>active</b> and <b>deferred</b>. The business case for this is around new sales. Take the example above. Where would it be better to show the initial increase in 10k ARR? In June 2023 or in January 2024? Imagine if this was a portionally large deal for the company, and leadership is in their board meeting for June 2023.\n",
    "<br>\n",
    "<br>\n",
    "<b>-- June 2023 Board Meeting</b><br>\n",
    "\"We just closed a really large deal this month!\" - Leadership<br>\n",
    "\"That's great! I don't see the 10k in the ARR #s for June.\" - The Board<br>\n",
    "\"That's because it won't start until January 2024.\" - Leadership<br>\n",
    "<br>\n",
    "<br>\n",
    "<b>-- January 2024 Board Meeting</b><br>\n",
    "\"Sales were awful. We didn't close anything?\" - Leadership<br>\n",
    "\"How come your ARR jumped 10k this month?\" - The Board<br>\n",
    "\"Oh, that's the deal we closed back in June 2023.\" - Leadership<br>\n",
    "<br>\n",
    "<br>\n",
    "See the problem? It's not an easy story, unless you include deferred. <b>ARR really means 'Active ARR' and 'Deferred ARR'</b>\n",
    "</div>"
   ]
  }
 ],
 "metadata": {
  "kernelspec": {
   "display_name": "Python 3",
   "language": "python",
   "name": "python3"
  },
  "language_info": {
   "codemirror_mode": {
    "name": "ipython",
    "version": 3
   },
   "file_extension": ".py",
   "mimetype": "text/x-python",
   "name": "python",
   "nbconvert_exporter": "python",
   "pygments_lexer": "ipython3",
   "version": "3.12.7"
  }
 },
 "nbformat": 4,
 "nbformat_minor": 2
}
