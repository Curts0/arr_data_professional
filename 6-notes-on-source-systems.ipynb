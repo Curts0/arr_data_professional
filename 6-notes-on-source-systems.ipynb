{
 "cells": [
  {
   "cell_type": "markdown",
   "metadata": {},
   "source": [
    "ERP vs CRM\n",
    "Common, NetSuite, Intacct, SAP, Salesforce"
   ]
  }
 ],
 "metadata": {
  "language_info": {
   "name": "python"
  }
 },
 "nbformat": 4,
 "nbformat_minor": 2
}
