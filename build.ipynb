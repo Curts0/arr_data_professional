{
 "cells": [
  {
   "cell_type": "markdown",
   "metadata": {},
   "source": [
    "# The Customer Cube"
   ]
  },
  {
   "cell_type": "markdown",
   "metadata": {},
   "source": [
    "> *\"The loftier the building, the deeper must the foundation be laid.\"*\n",
    ">\n",
    "> -Thomas A Kempis"
   ]
  },
  {
   "cell_type": "code",
   "execution_count": 17,
   "metadata": {},
   "outputs": [],
   "source": [
    "import importnb\n",
    "from datetime import date\n",
    "\n",
    "with importnb.Notebook(include_markdown_docstring=False):\n",
    "    from basics import (\n",
    "        Contract,\n",
    "        ContractHeader,\n",
    "        ContractLine,\n",
    "        build_acv_table,\n",
    "        build_contracts_table,\n",
    "        annualize\n",
    "    )"
   ]
  },
  {
   "cell_type": "code",
   "execution_count": 21,
   "metadata": {},
   "outputs": [
    {
     "name": "stdout",
     "output_type": "stream",
     "text": [
      "Help on function annualize in module basics:\n",
      "\n",
      "annualize(contract: basics.ContractHeader | basics.ContractLine, period: datetime.date, interval_str: Literal['Year', 'Quarter', 'Month', 'Day'], generalize_leap_year: bool = True, print_details: bool = False) -> int\n",
      "    Takes the input of `ContractHeader or `ContractLine` dataclass and annualizes tcv.\n",
      "\n",
      "    Args:\n",
      "        contract (ContractHeader | Contract Line): See dataclasses.\n",
      "        period (date): The date in which we are looking at the ARR.\n",
      "            Example, what is the ACV on Jan 31, 2024. Jan 31, 2024\n",
      "            would be the `period`.\n",
      "        interval_str (INTERVAL): The options to chose from when deciding\n",
      "            what interval to multiply `tcv` by.\n",
      "        generalize_leap_year (bool): Toggle to decide who to handle leap years.\n",
      "            `True` will not consider leap years and set all years to 365 days.\n",
      "            `False` will call `calendar.isleap(year)` of the `period` value\n",
      "            to determine if the year has 366 days in it.\n",
      "        print_details (bool): Optional if you want to see details\n",
      "            of some of the args and variables.\n",
      "\n",
      "    Returns:\n",
      "        int: Returns Annual Contract Value. The annualized amount of\n",
      "            Total Contract Value.\n",
      "\n"
     ]
    },
    {
     "data": {
      "text/plain": [
       "5000.0"
      ]
     },
     "execution_count": 21,
     "metadata": {},
     "output_type": "execute_result"
    }
   ],
   "source": [
    "help(annualize)\n",
    "\n",
    "annualize(\n",
    "    ContractLine(2500, date(2024, 1, 1), date(2024,6,30), 1, True),\n",
    "    date(2024,2,29),\n",
    "    \"Month\"\n",
    ")"
   ]
  },
  {
   "cell_type": "code",
   "execution_count": null,
   "metadata": {},
   "outputs": [],
   "source": []
  }
 ],
 "metadata": {
  "kernelspec": {
   "display_name": "Python 3",
   "language": "python",
   "name": "python3"
  },
  "language_info": {
   "codemirror_mode": {
    "name": "ipython",
    "version": 3
   },
   "file_extension": ".py",
   "mimetype": "text/x-python",
   "name": "python",
   "nbconvert_exporter": "python",
   "pygments_lexer": "ipython3",
   "version": "3.12.7"
  }
 },
 "nbformat": 4,
 "nbformat_minor": 2
}
