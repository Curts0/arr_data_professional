{
 "cells": [
  {
   "cell_type": "markdown",
   "metadata": {},
   "source": [
    "# The Customer Cube"
   ]
  },
  {
   "cell_type": "markdown",
   "metadata": {},
   "source": [
    "<div class=\"alert alert-block alert-info\">\n",
    "<blockquote>\n",
    "<i>\"The loftier the building, the deeper must the foundation be laid.\"</i>\n",
    "\n",
    "<tab>- Thomas A Kempis\n",
    "</blockquote>\n",
    "Keeping in line with the above quote, the ARR is the concrete for your foundation. The <b>customer cube</b> is the foundation. The metrics built on top of your <b>customer cube</b>, are the building.\n",
    "</div>"
   ]
  },
  {
   "cell_type": "markdown",
   "metadata": {},
   "source": [
    "## What is a Customer Cube?"
   ]
  },
  {
   "cell_type": "markdown",
   "metadata": {},
   "source": [
    "In it's simplest form, a customer cube is ARR by month by customer by product. \n",
    "\n",
    "In terms of a visual, it's a matrix. Months as your column headers, ARR as your values, & everything else nested as your row headers.\n",
    "\n",
    "| | | |2024-01-31|2024-02-29|2024-03-31|2024-04-30|2024-05-31|2024-06-30|\n",
    "|---|---|---|---|---|---|---|---|---|\n",
    "|Customer #1|Product #1|10,000|10,000|10,000|10,000|10,000|10,000|10,000|10,000|\n",
    "|Customer #1|Product #2|8,000|8,000|8,000|8,000|8,000|8,000|8,000|8,000|\n",
    "|Customer #2|Product #1|10,000|10,000|10,000|0|0|0|0|0|\n",
    "|Customer #2|Product #2|8,000|8,000|8,000|0|0|0|0|0|\n",
    "|Customer #2|Product #3|0|0|0|5,000|5,000|5,000|5,000|5,000|\n",
    "|Customer #2|Product #4|0|0|0|12,000|12,000|12,000|12,000|12,000|\n",
    "|Customer #3|Product #1|10,000|10,000|10,000|10,000|10,000|10,000|10,000|10,000|\n",
    "\n",
    "In practice, this visual is easily presented when following a classic star schema fact table.\n",
    "\n",
    "|date_key|customer_key|product_key|arr|\n",
    "|---|---|---|---|\n",
    "20240131|1|1|10000|\n",
    "20240229|1|1|10000|\n",
    "20240331|1|1|10000|\n",
    "20240430|1|1|10000|\n",
    "20240531|1|1|10000|\n",
    "20240630|1|1|10000|\n",
    "20240131|1|2|8000|\n",
    "20240229|1|2|8000|\n",
    "20240331|1|2|8000|\n",
    "|...|...|...|...|\n",
    "20240531|3|1|10000|\n",
    "20240630|3|1|10000|\n",
    "\n",
    "As your cube matures and requirements grow, it's natural for this cube to take on more datapoints and categorizations. Slap a key in the fact table and build.\n",
    "\n",
    "<div class=\"alert alert-block alert-info\">\n",
    "I'll will not be covering star schema. I also recognize that star schema has pros and cons.\n",
    "</div>\n"
   ]
  },
  {
   "cell_type": "code",
   "execution_count": 17,
   "metadata": {},
   "outputs": [],
   "source": [
    "import importnb\n",
    "from datetime import date\n",
    "\n",
    "with importnb.Notebook(include_markdown_docstring=False):\n",
    "    from basics import (\n",
    "        Contract,\n",
    "        ContractHeader,\n",
    "        ContractLine,\n",
    "        build_acv_table,\n",
    "        build_contracts_table,\n",
    "        annualize\n",
    "    )"
   ]
  },
  {
   "cell_type": "code",
   "execution_count": 21,
   "metadata": {},
   "outputs": [
    {
     "name": "stdout",
     "output_type": "stream",
     "text": [
      "Help on function annualize in module basics:\n",
      "\n",
      "annualize(contract: basics.ContractHeader | basics.ContractLine, period: datetime.date, interval_str: Literal['Year', 'Quarter', 'Month', 'Day'], generalize_leap_year: bool = True, print_details: bool = False) -> int\n",
      "    Takes the input of `ContractHeader or `ContractLine` dataclass and annualizes tcv.\n",
      "\n",
      "    Args:\n",
      "        contract (ContractHeader | Contract Line): See dataclasses.\n",
      "        period (date): The date in which we are looking at the ARR.\n",
      "            Example, what is the ACV on Jan 31, 2024. Jan 31, 2024\n",
      "            would be the `period`.\n",
      "        interval_str (INTERVAL): The options to chose from when deciding\n",
      "            what interval to multiply `tcv` by.\n",
      "        generalize_leap_year (bool): Toggle to decide who to handle leap years.\n",
      "            `True` will not consider leap years and set all years to 365 days.\n",
      "            `False` will call `calendar.isleap(year)` of the `period` value\n",
      "            to determine if the year has 366 days in it.\n",
      "        print_details (bool): Optional if you want to see details\n",
      "            of some of the args and variables.\n",
      "\n",
      "    Returns:\n",
      "        int: Returns Annual Contract Value. The annualized amount of\n",
      "            Total Contract Value.\n",
      "\n"
     ]
    },
    {
     "data": {
      "text/plain": [
       "5000.0"
      ]
     },
     "execution_count": 21,
     "metadata": {},
     "output_type": "execute_result"
    }
   ],
   "source": [
    "help(annualize)\n",
    "\n",
    "annualize(\n",
    "    ContractLine(2500, date(2024, 1, 1), date(2024,6,30), 1, True),\n",
    "    date(2024,2,29),\n",
    "    \"Month\"\n",
    ")"
   ]
  },
  {
   "cell_type": "code",
   "execution_count": null,
   "metadata": {},
   "outputs": [],
   "source": []
  }
 ],
 "metadata": {
  "kernelspec": {
   "display_name": "Python 3",
   "language": "python",
   "name": "python3"
  },
  "language_info": {
   "codemirror_mode": {
    "name": "ipython",
    "version": 3
   },
   "file_extension": ".py",
   "mimetype": "text/x-python",
   "name": "python",
   "nbconvert_exporter": "python",
   "pygments_lexer": "ipython3",
   "version": "3.12.7"
  }
 },
 "nbformat": 4,
 "nbformat_minor": 2
}
