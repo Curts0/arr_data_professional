{
 "cells": [
  {
   "cell_type": "markdown",
   "metadata": {},
   "source": [
    "##  Customer Cube"
   ]
  },
  {
   "cell_type": "markdown",
   "metadata": {},
   "source": [
    "<div class=\"alert alert-block alert-info\">\n",
    "<blockquote>\n",
    "<i>\"The loftier the building, the deeper must the foundation be laid.\"</i>\n",
    "\n",
    "<tab>- Thomas A Kempis\n",
    "</blockquote>\n",
    "ARR is the concrete for your foundation, the customer cube is the foundation. Then the metrics built on top of your customer cube, are the building.\n",
    "</div>"
   ]
  },
  {
   "cell_type": "markdown",
   "metadata": {},
   "source": [
    "### What is a Customer Cube?"
   ]
  },
  {
   "cell_type": "markdown",
   "metadata": {},
   "source": [
    "In it's simplest form, a customer cube is ARR by month by customer by product. \n",
    "\n",
    "In terms of a visual, it's a matrix. Months as your column headers, ARR as your values, & everything else nested as your row headers.\n",
    "\n",
    "| | | |2024-01-31|2024-02-29|2024-03-31|2024-04-30|2024-05-31|2024-06-30|\n",
    "|---|---|---|---|---|---|---|---|---|\n",
    "|Customer #1|Product #1|10,000|10,000|10,000|10,000|10,000|10,000|10,000|10,000|\n",
    "|Customer #1|Product #2|8,000|8,000|8,000|8,000|8,000|8,000|8,000|8,000|\n",
    "|Customer #2|Product #1|10,000|10,000|10,000|0|0|0|0|0|\n",
    "|Customer #2|Product #2|8,000|8,000|8,000|0|0|0|0|0|\n",
    "|Customer #2|Product #3|0|0|0|5,000|5,000|5,000|5,000|5,000|\n",
    "|Customer #2|Product #4|0|0|0|12,000|12,000|12,000|12,000|12,000|\n",
    "|Customer #3|Product #1|10,000|10,000|10,000|10,000|10,000|10,000|10,000|10,000|\n",
    "\n",
    "In practice, this visual is easily presented from a classic star schema fact table in your data model.\n",
    "\n",
    "|date_key|customer_key|product_key|arr|\n",
    "|---|---|---|---|\n",
    "20240131|1|1|10000|\n",
    "20240229|1|1|10000|\n",
    "20240331|1|1|10000|\n",
    "20240430|1|1|10000|\n",
    "20240531|1|1|10000|\n",
    "20240630|1|1|10000|\n",
    "20240131|1|2|8000|\n",
    "20240229|1|2|8000|\n",
    "20240331|1|2|8000|\n",
    "|...|...|...|...|\n",
    "20240531|3|1|10000|\n",
    "20240630|3|1|10000|\n",
    "\n",
    "As your cube matures and requirements grow, it's natural for this cube to take on more datapoints and categorizations. Slap a key in the fact table and *build*.\n",
    "\n",
    "<div class=\"alert alert-block alert-info\">\n",
    "I'll not be covering star schema. <a href=\"https://chrisadamson.com/star-schema-complete-reference/\">Chris Adamson</a> does a much better job. Adamson lays out the technical, but with a lens of practicality. He conveys how data professionals will be involved in many decisions. These decisions are <i>business decisions</i> with <i>technical implications</i>.\n",
    "\n",
    "One more time for the back of the room... <i>Business decisions</i> with <i>technical implications</i>. It's likely your data model will have issues, and sometimes, that's okay. These decisions will be made, whether yours or someone elses, to build in a sub-optimal way. You will constantly deal with resource, knowledge, time, cost, and political restraints. So, it's important to know when the technical implication (tech debt) is okay to take on and when it's not.\n",
    "\n",
    "So, it's a great a thought by Adamson. Not just for data modelling, but for life. We're not perfect and neither is your data model.\n",
    "</div>\n"
   ]
  },
  {
   "cell_type": "code",
   "execution_count": 2,
   "metadata": {},
   "outputs": [
    {
     "name": "stderr",
     "output_type": "stream",
     "text": [
      "c:\\Users\\CStallings\\OneDrive - Rockwell Automation, Inc\\Documents\\py_files\\arr_data_professional\\basics.ipynb:15: SyntaxWarning: invalid escape sequence '\\e'\n",
      "  '''**ARR** stands for **Annual Recurring Revenue**, which is revenue viewed on an annual basis that is expected to renew. To get **ARR**, start with the **Total Contract Value** and annualize it to **Annual Contact Value**, then take the **Annual Contract Value** and filter out what is deemed non-recurring to get **Annual Recurring Revenue**. Take this example contract for two years totalling $20k$.\n",
      "c:\\Users\\CStallings\\OneDrive - Rockwell Automation, Inc\\Documents\\py_files\\arr_data_professional\\basics.ipynb:46: SyntaxWarning: invalid escape sequence '\\e'\n",
      "  '''The example above is simple. Take the two years at $20k$ and multiply $.5$ to get the annualized amount. However, the complexity comes with details. The basic formula to annualize is as follows.\n",
      "c:\\Users\\CStallings\\OneDrive - Rockwell Automation, Inc\\Documents\\py_files\\arr_data_professional\\basics.ipynb:1441: SyntaxWarning: invalid escape sequence '\\e'\n",
      "  '''Simple thought would suggest that 20k TCV of 2 years will have a 10k ACV, but **take caution when getting as granular in days, because leap years will make an appearance**. Let's look at the implication of this over time. Consider the below 3 year deal and let's ask, \"What is the ACV of this contract month over month? and how do leap years show in the data?\"\n",
      "c:\\Users\\CStallings\\OneDrive - Rockwell Automation, Inc\\Documents\\py_files\\arr_data_professional\\basics.ipynb:1547: SyntaxWarning: invalid escape sequence '\\e'\n",
      "  '''Why is this 25k contract still showing an odd amount when annualizing by day, even with `generalize_leap_year` set to `True`? Let's do some math.\n",
      "c:\\Users\\CStallings\\OneDrive - Rockwell Automation, Inc\\Documents\\py_files\\arr_data_professional\\basics.ipynb:2592: SyntaxWarning: invalid escape sequence '\\e'\n",
      "  '''$\\begin{matrix}\n",
      "c:\\Users\\CStallings\\OneDrive - Rockwell Automation, Inc\\Documents\\py_files\\arr_data_professional\\basics.ipynb:3588: SyntaxWarning: invalid escape sequence '\\e'\n",
      "  '''ACV (including the `renewable == False`) starts at $\\text{14k}$ in year 1, decrease to $\\text{12k}$ in year 2, and up to $\\text{16k}$ in year 3. While ARR (excluding the `renewable == False`) starts at $\\text{8k}$ in year 1 and does a steady $\\text{4k}$ increase each year.\n",
      "c:\\Users\\CStallings\\OneDrive - Rockwell Automation, Inc\\Documents\\py_files\\arr_data_professional\\basics.ipynb:4128: SyntaxWarning: invalid escape sequence '\\e'\n",
      "  '''Depending on how the business asks for the data, would determine how to show it.\n"
     ]
    },
    {
     "ename": "NameError",
     "evalue": "name 'INTERVAL' is not defined",
     "output_type": "error",
     "traceback": [
      "\u001b[1;31m---------------------------------------------------------------------------\u001b[0m",
      "\u001b[1;31mNameError\u001b[0m                                 Traceback (most recent call last)",
      "Cell \u001b[1;32mIn[2], line 5\u001b[0m\n\u001b[0;32m      2\u001b[0m \u001b[38;5;28;01mfrom\u001b[39;00m \u001b[38;5;21;01mdatetime\u001b[39;00m \u001b[38;5;28;01mimport\u001b[39;00m date\n\u001b[0;32m      4\u001b[0m \u001b[38;5;28;01mwith\u001b[39;00m importnb\u001b[38;5;241m.\u001b[39mNotebook(include_markdown_docstring\u001b[38;5;241m=\u001b[39m\u001b[38;5;28;01mFalse\u001b[39;00m, include_non_defs\u001b[38;5;241m=\u001b[39m\u001b[38;5;28;01mFalse\u001b[39;00m):\n\u001b[1;32m----> 5\u001b[0m     \u001b[38;5;28;01mfrom\u001b[39;00m \u001b[38;5;21;01mbasics\u001b[39;00m \u001b[38;5;28;01mimport\u001b[39;00m (\n\u001b[0;32m      6\u001b[0m         Contract,\n\u001b[0;32m      7\u001b[0m         ContractHeader,\n\u001b[0;32m      8\u001b[0m         ContractLine,\n\u001b[0;32m      9\u001b[0m         build_acv_table,\n\u001b[0;32m     10\u001b[0m         build_contracts_table,\n\u001b[0;32m     11\u001b[0m         annualize\n\u001b[0;32m     12\u001b[0m     )\n",
      "File \u001b[1;32m<frozen importlib._bootstrap>:1360\u001b[0m, in \u001b[0;36m_find_and_load\u001b[1;34m(name, import_)\u001b[0m\n",
      "File \u001b[1;32m<frozen importlib._bootstrap>:1331\u001b[0m, in \u001b[0;36m_find_and_load_unlocked\u001b[1;34m(name, import_)\u001b[0m\n",
      "File \u001b[1;32m<frozen importlib._bootstrap>:935\u001b[0m, in \u001b[0;36m_load_unlocked\u001b[1;34m(spec)\u001b[0m\n",
      "File \u001b[1;32m~\\AppData\\Local\\Packages\\PythonSoftwareFoundation.Python.3.12_qbz5n2kfra8p0\\LocalCache\\local-packages\\Python312\\site-packages\\importnb\\loader.py:190\u001b[0m, in \u001b[0;36mLoader.exec_module\u001b[1;34m(self, module)\u001b[0m\n\u001b[0;32m    187\u001b[0m \u001b[38;5;28;01mif\u001b[39;00m alias:\n\u001b[0;32m    188\u001b[0m     sys\u001b[38;5;241m.\u001b[39mmodules\u001b[38;5;241m.\u001b[39mpop(alias, \u001b[38;5;28;01mNone\u001b[39;00m)\n\u001b[1;32m--> 190\u001b[0m \u001b[38;5;28;01mraise\u001b[39;00m e\n",
      "File \u001b[1;32m~\\AppData\\Local\\Packages\\PythonSoftwareFoundation.Python.3.12_qbz5n2kfra8p0\\LocalCache\\local-packages\\Python312\\site-packages\\importnb\\loader.py:181\u001b[0m, in \u001b[0;36mLoader.exec_module\u001b[1;34m(self, module)\u001b[0m\n\u001b[0;32m    175\u001b[0m     \u001b[38;5;28;01mraise\u001b[39;00m \u001b[38;5;167;01mImportError\u001b[39;00m(\n\u001b[0;32m    176\u001b[0m         \u001b[38;5;124mf\u001b[39m\u001b[38;5;124m\"\u001b[39m\u001b[38;5;124mcannot load module \u001b[39m\u001b[38;5;132;01m{\u001b[39;00mmodule\u001b[38;5;241m.\u001b[39m\u001b[38;5;18m__name__\u001b[39m\u001b[38;5;132;01m!r}\u001b[39;00m\u001b[38;5;124m when \u001b[39m\u001b[38;5;124m\"\u001b[39m \u001b[38;5;124m\"\u001b[39m\u001b[38;5;124mget_code() returns None\u001b[39m\u001b[38;5;124m\"\u001b[39m\n\u001b[0;32m    177\u001b[0m     )\n\u001b[0;32m    179\u001b[0m \u001b[38;5;28;01mif\u001b[39;00m inspect\u001b[38;5;241m.\u001b[39mCO_COROUTINE \u001b[38;5;129;01mnot\u001b[39;00m \u001b[38;5;129;01min\u001b[39;00m _get_co_flags_set(code\u001b[38;5;241m.\u001b[39mco_flags):\n\u001b[0;32m    180\u001b[0m     \u001b[38;5;66;03m# if there isn't any async non sense then we proceed with convention.\u001b[39;00m\n\u001b[1;32m--> 181\u001b[0m     \u001b[43mbootstrap\u001b[49m\u001b[38;5;241;43m.\u001b[39;49m\u001b[43m_call_with_frames_removed\u001b[49m\u001b[43m(\u001b[49m\u001b[43mexec\u001b[49m\u001b[43m,\u001b[49m\u001b[43m \u001b[49m\u001b[43mcode\u001b[49m\u001b[43m,\u001b[49m\u001b[43m \u001b[49m\u001b[43mmodule\u001b[49m\u001b[38;5;241;43m.\u001b[39;49m\u001b[38;5;18;43m__dict__\u001b[39;49m\u001b[43m)\u001b[49m\n\u001b[0;32m    182\u001b[0m \u001b[38;5;28;01melse\u001b[39;00m:\n\u001b[0;32m    183\u001b[0m     \u001b[38;5;28mself\u001b[39m\u001b[38;5;241m.\u001b[39maexec_module_sync(module)\n",
      "File \u001b[1;32mc:\\Users\\CStallings\\OneDrive - Rockwell Automation, Inc\\Documents\\py_files\\arr_data_professional\\basics.ipynb:347\u001b[0m\n\u001b[0;32m    342\u001b[0m     \u001b[38;5;28;01mreturn\u001b[39;00m leap_count\n\u001b[0;32m    344\u001b[0m INTERVAL \u001b[38;5;241m=\u001b[39m Literal[\u001b[38;5;124m\"\u001b[39m\u001b[38;5;124mYear\u001b[39m\u001b[38;5;124m\"\u001b[39m, \u001b[38;5;124m\"\u001b[39m\u001b[38;5;124mQuarter\u001b[39m\u001b[38;5;124m\"\u001b[39m, \u001b[38;5;124m\"\u001b[39m\u001b[38;5;124mMonth\u001b[39m\u001b[38;5;124m\"\u001b[39m, \u001b[38;5;124m\"\u001b[39m\u001b[38;5;124mDay\u001b[39m\u001b[38;5;124m\"\u001b[39m]\n\u001b[0;32m    346\u001b[0m \u001b[38;5;28;01mdef\u001b[39;00m \u001b[38;5;21mget_contract_term\u001b[39m(\n\u001b[1;32m--> 347\u001b[0m     start_date: date, end_date: date, generalize_leap_year: \u001b[38;5;28mbool\u001b[39m, interval_str: \u001b[43mINTERVAL\u001b[49m\n\u001b[0;32m    348\u001b[0m ) \u001b[38;5;241m-\u001b[39m\u001b[38;5;241m>\u001b[39m \u001b[38;5;28mint\u001b[39m:\n\u001b[0;32m    349\u001b[0m \u001b[38;5;250m    \u001b[39m\u001b[38;5;124;03m\"\"\"Primary use is to be nested in the `annualize` func.\u001b[39;00m\n\u001b[0;32m    350\u001b[0m \n\u001b[0;32m    351\u001b[0m \u001b[38;5;124;03m    Will output the denominator of the ARR formula (Contract Term).\u001b[39;00m\n\u001b[1;32m   (...)\u001b[0m\n\u001b[0;32m    360\u001b[0m \u001b[38;5;124;03m        int: Contract Term #.\u001b[39;00m\n\u001b[0;32m    361\u001b[0m \u001b[38;5;124;03m    \"\"\"\u001b[39;00m\n\u001b[0;32m    362\u001b[0m     math_end_date \u001b[38;5;241m=\u001b[39m end_date \u001b[38;5;241m+\u001b[39m timedelta(days\u001b[38;5;241m=\u001b[39m\u001b[38;5;241m1\u001b[39m)\n",
      "\u001b[1;31mNameError\u001b[0m: name 'INTERVAL' is not defined"
     ]
    }
   ],
   "source": [
    "import importnb\n",
    "from datetime import date\n",
    "\n",
    "with importnb.Notebook(include_markdown_docstring=False, include_non_defs=False):\n",
    "    from basics import (\n",
    "        Contract,\n",
    "        ContractHeader,\n",
    "        ContractLine,\n",
    "        build_acv_table,\n",
    "        build_contracts_table,\n",
    "        annualize\n",
    "    )"
   ]
  },
  {
   "cell_type": "code",
   "execution_count": 2,
   "metadata": {},
   "outputs": [
    {
     "name": "stdout",
     "output_type": "stream",
     "text": [
      "Help on function annualize in module basics:\n",
      "\n",
      "annualize(contract: basics.ContractHeader | basics.ContractLine, period: datetime.date, interval_str: Literal['Year', 'Quarter', 'Month', 'Day'], generalize_leap_year: bool = True, print_details: bool = False) -> int\n",
      "    Takes the input of `ContractHeader or `ContractLine` dataclass and annualizes tcv.\n",
      "\n",
      "    Args:\n",
      "        contract (ContractHeader | Contract Line): See dataclasses.\n",
      "        period (date): The date in which we are looking at the ARR.\n",
      "            Example, what is the ACV on Jan 31, 2024. Jan 31, 2024\n",
      "            would be the `period`.\n",
      "        interval_str (INTERVAL): The options to chose from when deciding\n",
      "            what interval to multiply `tcv` by.\n",
      "        generalize_leap_year (bool): Toggle to decide who to handle leap years.\n",
      "            `True` will not consider leap years and set all years to 365 days.\n",
      "            `False` will call `calendar.isleap(year)` of the `period` value\n",
      "            to determine if the year has 366 days in it.\n",
      "        print_details (bool): Optional if you want to see details\n",
      "            of some of the args and variables.\n",
      "\n",
      "    Returns:\n",
      "        int: Returns Annual Contract Value. The annualized amount of\n",
      "            Total Contract Value.\n",
      "\n"
     ]
    },
    {
     "data": {
      "text/plain": [
       "5000.0"
      ]
     },
     "execution_count": 2,
     "metadata": {},
     "output_type": "execute_result"
    }
   ],
   "source": [
    "help(annualize)\n",
    "\n",
    "annualize(\n",
    "    ContractLine(2500, date(2024, 1, 1), date(2024,6,30), 1, True),\n",
    "    date(2024,2,29),\n",
    "    \"Month\"\n",
    ")"
   ]
  },
  {
   "cell_type": "code",
   "execution_count": null,
   "metadata": {},
   "outputs": [],
   "source": []
  }
 ],
 "metadata": {
  "kernelspec": {
   "display_name": "Python 3",
   "language": "python",
   "name": "python3"
  },
  "language_info": {
   "codemirror_mode": {
    "name": "ipython",
    "version": 3
   },
   "file_extension": ".py",
   "mimetype": "text/x-python",
   "name": "python",
   "nbconvert_exporter": "python",
   "pygments_lexer": "ipython3",
   "version": "3.12.7"
  }
 },
 "nbformat": 4,
 "nbformat_minor": 2
}
